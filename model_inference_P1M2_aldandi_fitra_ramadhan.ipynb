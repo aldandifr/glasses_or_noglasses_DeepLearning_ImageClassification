{
 "cells": [
  {
   "attachments": {},
   "cell_type": "markdown",
   "metadata": {},
   "source": [
    "# **`Model Inference`**"
   ]
  },
  {
   "cell_type": "code",
   "execution_count": 4,
   "metadata": {},
   "outputs": [],
   "source": [
    "#import libraries\n",
    "import pandas as pd\n",
    "import numpy as np\n",
    "import random\n",
    "import joblib"
   ]
  },
  {
   "cell_type": "code",
   "execution_count": 5,
   "metadata": {},
   "outputs": [],
   "source": [
    "# import function\n",
    "from delay_level import delay_level"
   ]
  },
  {
   "cell_type": "code",
   "execution_count": 2,
   "metadata": {},
   "outputs": [],
   "source": [
    "#load bestpipe\n",
    "with open('bestpipe_xgboost_m2.pkl', 'rb') as file_1:\n",
    "  bestpipe_xgboost = joblib.load(file_1)"
   ]
  },
  {
   "cell_type": "code",
   "execution_count": 3,
   "metadata": {},
   "outputs": [],
   "source": [
    "# membuat dataframe yang distribusinya hampir sama dengan data train distribusinya\n",
    "data = {\n",
    "    'Age': [37,40,41],\n",
    "    'Type_of_Travel': ['Personal Travel', 'Business travel', 'Business travel'],\n",
    "    'Class': ['Eco', 'Business', 'Eco Plus'],\n",
    "    'Flight_Distance': [721, 2300, 750],\n",
    "    'Inflight_wifi_service': [1,2,4],\n",
    "    'Ease_of_Online_booking': [5,2,3],\n",
    "    'Food_and_drink': [4,2,4],\n",
    "    'Online_boarding': [4,5,4],\n",
    "    'Seat_comfort': [3,2,1],\n",
    "    'Inflight_entertainment': [3,2,1],\n",
    "    'On-board_service': [4,2,5],\n",
    "    'Leg_room_service': [4,3,5],\n",
    "    'Checkin_service': [3,1,3],\n",
    "    'Inflight_service': [3,1,5],\n",
    "    'Cleanliness': [2,5,4],\n",
    "    'Departure_Delay_in_Minutes': [0.0, 12.1, 8.0],\n",
    "    'Arrival_Delay_in_Minutes': [0.0, 10.1, 6.0]\n",
    "}\n",
    "df = pd.DataFrame(data)"
   ]
  },
  {
   "cell_type": "code",
   "execution_count": 6,
   "metadata": {},
   "outputs": [],
   "source": [
    "# Transform the Departure_Delay_in_Minutes and Arrival_Delay_in_Minutes columns\n",
    "df['Departure_Delay_in_Minutes'] = df['Departure_Delay_in_Minutes'].apply(delay_level)\n",
    "df['Arrival_Delay_in_Minutes'] = df['Arrival_Delay_in_Minutes'].apply(delay_level)"
   ]
  },
  {
   "attachments": {},
   "cell_type": "markdown",
   "metadata": {},
   "source": [
    "`predict`"
   ]
  },
  {
   "cell_type": "code",
   "execution_count": 7,
   "metadata": {},
   "outputs": [],
   "source": [
    "#training\n",
    "pred_xgboost_inf = bestpipe_xgboost.predict(df)"
   ]
  },
  {
   "cell_type": "code",
   "execution_count": 10,
   "metadata": {},
   "outputs": [],
   "source": [
    "#melihat hasil prediksi dengan data\n",
    "df_pred_xgboost = df.copy()\n",
    "df_pred_xgboost['PredictSatisfaction'] = pred_xgboost_inf\n"
   ]
  },
  {
   "cell_type": "code",
   "execution_count": 12,
   "metadata": {},
   "outputs": [
    {
     "data": {
      "text/html": [
       "<div>\n",
       "<style scoped>\n",
       "    .dataframe tbody tr th:only-of-type {\n",
       "        vertical-align: middle;\n",
       "    }\n",
       "\n",
       "    .dataframe tbody tr th {\n",
       "        vertical-align: top;\n",
       "    }\n",
       "\n",
       "    .dataframe thead th {\n",
       "        text-align: right;\n",
       "    }\n",
       "</style>\n",
       "<table border=\"1\" class=\"dataframe\">\n",
       "  <thead>\n",
       "    <tr style=\"text-align: right;\">\n",
       "      <th></th>\n",
       "      <th>Age</th>\n",
       "      <th>Type_of_Travel</th>\n",
       "      <th>Class</th>\n",
       "      <th>Flight_Distance</th>\n",
       "      <th>Inflight_wifi_service</th>\n",
       "      <th>Ease_of_Online_booking</th>\n",
       "      <th>Food_and_drink</th>\n",
       "      <th>Online_boarding</th>\n",
       "      <th>Seat_comfort</th>\n",
       "      <th>Inflight_entertainment</th>\n",
       "      <th>On-board_service</th>\n",
       "      <th>Leg_room_service</th>\n",
       "      <th>Checkin_service</th>\n",
       "      <th>Inflight_service</th>\n",
       "      <th>Cleanliness</th>\n",
       "      <th>Departure_Delay_in_Minutes</th>\n",
       "      <th>Arrival_Delay_in_Minutes</th>\n",
       "      <th>PredictSatisfaction</th>\n",
       "    </tr>\n",
       "  </thead>\n",
       "  <tbody>\n",
       "    <tr>\n",
       "      <th>0</th>\n",
       "      <td>37</td>\n",
       "      <td>Personal Travel</td>\n",
       "      <td>Eco</td>\n",
       "      <td>721</td>\n",
       "      <td>1</td>\n",
       "      <td>5</td>\n",
       "      <td>4</td>\n",
       "      <td>4</td>\n",
       "      <td>3</td>\n",
       "      <td>3</td>\n",
       "      <td>4</td>\n",
       "      <td>4</td>\n",
       "      <td>3</td>\n",
       "      <td>3</td>\n",
       "      <td>2</td>\n",
       "      <td>no delay</td>\n",
       "      <td>no delay</td>\n",
       "      <td>neutral or disatisfied</td>\n",
       "    </tr>\n",
       "    <tr>\n",
       "      <th>1</th>\n",
       "      <td>40</td>\n",
       "      <td>Business travel</td>\n",
       "      <td>Business</td>\n",
       "      <td>2300</td>\n",
       "      <td>2</td>\n",
       "      <td>2</td>\n",
       "      <td>2</td>\n",
       "      <td>5</td>\n",
       "      <td>2</td>\n",
       "      <td>2</td>\n",
       "      <td>2</td>\n",
       "      <td>3</td>\n",
       "      <td>1</td>\n",
       "      <td>1</td>\n",
       "      <td>5</td>\n",
       "      <td>little delay</td>\n",
       "      <td>little delay</td>\n",
       "      <td>satisfied</td>\n",
       "    </tr>\n",
       "    <tr>\n",
       "      <th>2</th>\n",
       "      <td>41</td>\n",
       "      <td>Business travel</td>\n",
       "      <td>Eco Plus</td>\n",
       "      <td>750</td>\n",
       "      <td>4</td>\n",
       "      <td>3</td>\n",
       "      <td>4</td>\n",
       "      <td>4</td>\n",
       "      <td>1</td>\n",
       "      <td>1</td>\n",
       "      <td>5</td>\n",
       "      <td>5</td>\n",
       "      <td>3</td>\n",
       "      <td>5</td>\n",
       "      <td>4</td>\n",
       "      <td>little delay</td>\n",
       "      <td>little delay</td>\n",
       "      <td>satisfied</td>\n",
       "    </tr>\n",
       "  </tbody>\n",
       "</table>\n",
       "</div>"
      ],
      "text/plain": [
       "   Age   Type_of_Travel     Class  Flight_Distance  Inflight_wifi_service  \\\n",
       "0   37  Personal Travel       Eco              721                      1   \n",
       "1   40  Business travel  Business             2300                      2   \n",
       "2   41  Business travel  Eco Plus              750                      4   \n",
       "\n",
       "   Ease_of_Online_booking  Food_and_drink  Online_boarding  Seat_comfort  \\\n",
       "0                       5               4                4             3   \n",
       "1                       2               2                5             2   \n",
       "2                       3               4                4             1   \n",
       "\n",
       "   Inflight_entertainment  On-board_service  Leg_room_service  \\\n",
       "0                       3                 4                 4   \n",
       "1                       2                 2                 3   \n",
       "2                       1                 5                 5   \n",
       "\n",
       "   Checkin_service  Inflight_service  Cleanliness Departure_Delay_in_Minutes  \\\n",
       "0                3                 3            2                   no delay   \n",
       "1                1                 1            5               little delay   \n",
       "2                3                 5            4               little delay   \n",
       "\n",
       "  Arrival_Delay_in_Minutes     PredictSatisfaction  \n",
       "0                 no delay  neutral or disatisfied  \n",
       "1             little delay               satisfied  \n",
       "2             little delay               satisfied  "
      ]
     },
     "execution_count": 12,
     "metadata": {},
     "output_type": "execute_result"
    }
   ],
   "source": [
    "df_pred_xgboost['PredictSatisfaction'] = df_pred_xgboost['PredictSatisfaction'].replace({0: 'neutral or disatisfied', 1: 'satisfied'})\n",
    "df_pred_xgboost"
   ]
  },
  {
   "attachments": {},
   "cell_type": "markdown",
   "metadata": {},
   "source": [
    "Ini adalah hasil dari prediksi menggunakan model terbaik. Dapat disimpulkan bahwa penumpang pertama dia tidak dinyatakan puas sedangkan penumpang 2 dan 3 dinyatakan puas dalam pelayanan maskapai ini."
   ]
  }
 ],
 "metadata": {
  "kernelspec": {
   "display_name": "base",
   "language": "python",
   "name": "python3"
  },
  "language_info": {
   "codemirror_mode": {
    "name": "ipython",
    "version": 3
   },
   "file_extension": ".py",
   "mimetype": "text/x-python",
   "name": "python",
   "nbconvert_exporter": "python",
   "pygments_lexer": "ipython3",
   "version": "3.9.13"
  },
  "orig_nbformat": 4
 },
 "nbformat": 4,
 "nbformat_minor": 2
}
