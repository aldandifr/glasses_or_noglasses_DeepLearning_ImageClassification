{
 "cells": [
  {
   "attachments": {},
   "cell_type": "markdown",
   "metadata": {},
   "source": [
    "**MILESTONE 2 PHASE 1**"
   ]
  },
  {
   "attachments": {},
   "cell_type": "markdown",
   "metadata": {},
   "source": [
    "---"
   ]
  },
  {
   "attachments": {},
   "cell_type": "markdown",
   "metadata": {},
   "source": [
    "# **`ALDANDI FITRA RAMADHAN HCK - 004`**"
   ]
  },
  {
   "attachments": {},
   "cell_type": "markdown",
   "metadata": {},
   "source": [
    "---"
   ]
  },
  {
   "attachments": {},
   "cell_type": "markdown",
   "metadata": {},
   "source": [
    "*DATASETS* : https://www.kaggle.com/datasets/teejmahal20/airline-passenger-satisfaction?select=train.csv"
   ]
  },
  {
   "attachments": {},
   "cell_type": "markdown",
   "metadata": {},
   "source": [
    "`latar belakang`\n",
    "* Kepuasan penumpang pada maskapai penerbangan merupakan faktor penting yang secara signifikan dapat mempengaruhi keberhasilan suatu perusahaan penerbangan. Kepuasan pelanggan memainkan peran penting dalam membentuk reputasi maskapai penerbangan, karena merupakan indikator utama seberapa baik perusahaan memenuhi kebutuhan dan harapan pelanggannya. Pengalaman pelanggan yang positif dapat menghasilkan bisnis yang berulang dan iklan dari mulut ke mulut yang baik, sedangkan pengalaman negatif dapat menyebabkan hilangnya pelanggan, penurunan pendapatan, dan merusak citra merek perusahaan."
   ]
  },
  {
   "attachments": {},
   "cell_type": "markdown",
   "metadata": {},
   "source": [
    "***Problem Statement***"
   ]
  },
  {
   "attachments": {},
   "cell_type": "markdown",
   "metadata": {},
   "source": [
    "**`Memprediksi kepuasan seseorang pada maskapai ini berdasarkan nilai kepuasan tiap service menggunakan ensemble learning.`**"
   ]
  },
  {
   "attachments": {},
   "cell_type": "markdown",
   "metadata": {},
   "source": [
    "*tujuan :*\n",
    "* Agar tidak diperlukan pertanyaan puas atau tidak lagi pada akhirnya kepada penumpang."
   ]
  },
  {
   "attachments": {},
   "cell_type": "markdown",
   "metadata": {},
   "source": [
    "> Common Questions\n",
    "* Berapa rata-rata umur penumpang yang puas terhadap pelayanan?\n",
    "* Berapa menit delay yang dapat ditoleransi terhadap kepuasan penumpang?\n",
    "* Apakah jenis kelamin wanita lebih banyak menyatakan feedback bahwa mereka tidak puas?\n",
    "* Berapa rata-rata jarak tempuh terbang setiap kelasnya?\n",
    "* Bagaimana distribusi tipe travel penumpang terhadap kepuasannya?"
   ]
  },
  {
   "cell_type": "code",
   "execution_count": 2,
   "metadata": {},
   "outputs": [],
   "source": [
    "# Import necessary libraries\n",
    "import pandas as pd\n",
    "import numpy as np\n",
    "import seaborn as sns\n",
    "import matplotlib.pyplot as plt\n",
    "from sklearn.preprocessing import StandardScaler, OneHotEncoder, LabelEncoder, OrdinalEncoder\n",
    "from sklearn.model_selection import train_test_split, cross_val_score, GridSearchCV\n",
    "from statsmodels.stats.outliers_influence import variance_inflation_factor\n",
    "from sklearn.metrics import classification_report, roc_auc_score, ConfusionMatrixDisplay\n",
    "from sklearn.feature_selection import SelectKBest, f_classif\n",
    "from sklearn.pipeline import Pipeline\n",
    "from sklearn.compose import ColumnTransformer\n",
    "from feature_engine.outliers import Winsorizer\n",
    "from sklearn.ensemble import RandomForestClassifier\n",
    "from xgboost import XGBClassifier\n",
    "from sklearn.feature_selection import chi2\n",
    "from sklearn.model_selection import StratifiedKFold\n",
    "from phik import phik_matrix\n",
    "from sklearn.metrics import f1_score, make_scorer\n",
    "import joblib\n",
    "import warnings\n",
    "\n",
    "# Ignore all warnings\n",
    "warnings.simplefilter(\"ignore\")"
   ]
  },
  {
   "attachments": {},
   "cell_type": "markdown",
   "metadata": {},
   "source": [
    "# **`DATA LOADING`**"
   ]
  },
  {
   "cell_type": "code",
   "execution_count": 3,
   "metadata": {},
   "outputs": [],
   "source": [
    "# read csv\n",
    "data = pd.read_csv('airplane_passenger_satisfication.csv')"
   ]
  },
  {
   "attachments": {},
   "cell_type": "markdown",
   "metadata": {},
   "source": [
    "`overview`"
   ]
  },
  {
   "cell_type": "code",
   "execution_count": 4,
   "metadata": {},
   "outputs": [
    {
     "data": {
      "text/html": [
       "<div>\n",
       "<style scoped>\n",
       "    .dataframe tbody tr th:only-of-type {\n",
       "        vertical-align: middle;\n",
       "    }\n",
       "\n",
       "    .dataframe tbody tr th {\n",
       "        vertical-align: top;\n",
       "    }\n",
       "\n",
       "    .dataframe thead th {\n",
       "        text-align: right;\n",
       "    }\n",
       "</style>\n",
       "<table border=\"1\" class=\"dataframe\">\n",
       "  <thead>\n",
       "    <tr style=\"text-align: right;\">\n",
       "      <th></th>\n",
       "      <th>Unnamed: 0</th>\n",
       "      <th>id</th>\n",
       "      <th>Gender</th>\n",
       "      <th>Customer Type</th>\n",
       "      <th>Age</th>\n",
       "      <th>Type of Travel</th>\n",
       "      <th>Class</th>\n",
       "      <th>Flight Distance</th>\n",
       "      <th>Inflight wifi service</th>\n",
       "      <th>Departure/Arrival time convenient</th>\n",
       "      <th>...</th>\n",
       "      <th>Inflight entertainment</th>\n",
       "      <th>On-board service</th>\n",
       "      <th>Leg room service</th>\n",
       "      <th>Baggage handling</th>\n",
       "      <th>Checkin service</th>\n",
       "      <th>Inflight service</th>\n",
       "      <th>Cleanliness</th>\n",
       "      <th>Departure Delay in Minutes</th>\n",
       "      <th>Arrival Delay in Minutes</th>\n",
       "      <th>satisfaction</th>\n",
       "    </tr>\n",
       "  </thead>\n",
       "  <tbody>\n",
       "    <tr>\n",
       "      <th>0</th>\n",
       "      <td>0</td>\n",
       "      <td>70172</td>\n",
       "      <td>Male</td>\n",
       "      <td>Loyal Customer</td>\n",
       "      <td>13</td>\n",
       "      <td>Personal Travel</td>\n",
       "      <td>Eco Plus</td>\n",
       "      <td>460</td>\n",
       "      <td>3</td>\n",
       "      <td>4</td>\n",
       "      <td>...</td>\n",
       "      <td>5</td>\n",
       "      <td>4</td>\n",
       "      <td>3</td>\n",
       "      <td>4</td>\n",
       "      <td>4</td>\n",
       "      <td>5</td>\n",
       "      <td>5</td>\n",
       "      <td>25</td>\n",
       "      <td>18.0</td>\n",
       "      <td>neutral or dissatisfied</td>\n",
       "    </tr>\n",
       "    <tr>\n",
       "      <th>1</th>\n",
       "      <td>1</td>\n",
       "      <td>5047</td>\n",
       "      <td>Male</td>\n",
       "      <td>disloyal Customer</td>\n",
       "      <td>25</td>\n",
       "      <td>Business travel</td>\n",
       "      <td>Business</td>\n",
       "      <td>235</td>\n",
       "      <td>3</td>\n",
       "      <td>2</td>\n",
       "      <td>...</td>\n",
       "      <td>1</td>\n",
       "      <td>1</td>\n",
       "      <td>5</td>\n",
       "      <td>3</td>\n",
       "      <td>1</td>\n",
       "      <td>4</td>\n",
       "      <td>1</td>\n",
       "      <td>1</td>\n",
       "      <td>6.0</td>\n",
       "      <td>neutral or dissatisfied</td>\n",
       "    </tr>\n",
       "    <tr>\n",
       "      <th>2</th>\n",
       "      <td>2</td>\n",
       "      <td>110028</td>\n",
       "      <td>Female</td>\n",
       "      <td>Loyal Customer</td>\n",
       "      <td>26</td>\n",
       "      <td>Business travel</td>\n",
       "      <td>Business</td>\n",
       "      <td>1142</td>\n",
       "      <td>2</td>\n",
       "      <td>2</td>\n",
       "      <td>...</td>\n",
       "      <td>5</td>\n",
       "      <td>4</td>\n",
       "      <td>3</td>\n",
       "      <td>4</td>\n",
       "      <td>4</td>\n",
       "      <td>4</td>\n",
       "      <td>5</td>\n",
       "      <td>0</td>\n",
       "      <td>0.0</td>\n",
       "      <td>satisfied</td>\n",
       "    </tr>\n",
       "    <tr>\n",
       "      <th>3</th>\n",
       "      <td>3</td>\n",
       "      <td>24026</td>\n",
       "      <td>Female</td>\n",
       "      <td>Loyal Customer</td>\n",
       "      <td>25</td>\n",
       "      <td>Business travel</td>\n",
       "      <td>Business</td>\n",
       "      <td>562</td>\n",
       "      <td>2</td>\n",
       "      <td>5</td>\n",
       "      <td>...</td>\n",
       "      <td>2</td>\n",
       "      <td>2</td>\n",
       "      <td>5</td>\n",
       "      <td>3</td>\n",
       "      <td>1</td>\n",
       "      <td>4</td>\n",
       "      <td>2</td>\n",
       "      <td>11</td>\n",
       "      <td>9.0</td>\n",
       "      <td>neutral or dissatisfied</td>\n",
       "    </tr>\n",
       "    <tr>\n",
       "      <th>4</th>\n",
       "      <td>4</td>\n",
       "      <td>119299</td>\n",
       "      <td>Male</td>\n",
       "      <td>Loyal Customer</td>\n",
       "      <td>61</td>\n",
       "      <td>Business travel</td>\n",
       "      <td>Business</td>\n",
       "      <td>214</td>\n",
       "      <td>3</td>\n",
       "      <td>3</td>\n",
       "      <td>...</td>\n",
       "      <td>3</td>\n",
       "      <td>3</td>\n",
       "      <td>4</td>\n",
       "      <td>4</td>\n",
       "      <td>3</td>\n",
       "      <td>3</td>\n",
       "      <td>3</td>\n",
       "      <td>0</td>\n",
       "      <td>0.0</td>\n",
       "      <td>satisfied</td>\n",
       "    </tr>\n",
       "  </tbody>\n",
       "</table>\n",
       "<p>5 rows × 25 columns</p>\n",
       "</div>"
      ],
      "text/plain": [
       "   Unnamed: 0      id  Gender      Customer Type  Age   Type of Travel  \\\n",
       "0           0   70172    Male     Loyal Customer   13  Personal Travel   \n",
       "1           1    5047    Male  disloyal Customer   25  Business travel   \n",
       "2           2  110028  Female     Loyal Customer   26  Business travel   \n",
       "3           3   24026  Female     Loyal Customer   25  Business travel   \n",
       "4           4  119299    Male     Loyal Customer   61  Business travel   \n",
       "\n",
       "      Class  Flight Distance  Inflight wifi service  \\\n",
       "0  Eco Plus              460                      3   \n",
       "1  Business              235                      3   \n",
       "2  Business             1142                      2   \n",
       "3  Business              562                      2   \n",
       "4  Business              214                      3   \n",
       "\n",
       "   Departure/Arrival time convenient  ...  Inflight entertainment  \\\n",
       "0                                  4  ...                       5   \n",
       "1                                  2  ...                       1   \n",
       "2                                  2  ...                       5   \n",
       "3                                  5  ...                       2   \n",
       "4                                  3  ...                       3   \n",
       "\n",
       "   On-board service  Leg room service  Baggage handling  Checkin service  \\\n",
       "0                 4                 3                 4                4   \n",
       "1                 1                 5                 3                1   \n",
       "2                 4                 3                 4                4   \n",
       "3                 2                 5                 3                1   \n",
       "4                 3                 4                 4                3   \n",
       "\n",
       "   Inflight service  Cleanliness  Departure Delay in Minutes  \\\n",
       "0                 5            5                          25   \n",
       "1                 4            1                           1   \n",
       "2                 4            5                           0   \n",
       "3                 4            2                          11   \n",
       "4                 3            3                           0   \n",
       "\n",
       "   Arrival Delay in Minutes             satisfaction  \n",
       "0                      18.0  neutral or dissatisfied  \n",
       "1                       6.0  neutral or dissatisfied  \n",
       "2                       0.0                satisfied  \n",
       "3                       9.0  neutral or dissatisfied  \n",
       "4                       0.0                satisfied  \n",
       "\n",
       "[5 rows x 25 columns]"
      ]
     },
     "execution_count": 4,
     "metadata": {},
     "output_type": "execute_result"
    }
   ],
   "source": [
    "# showing top 5 data\n",
    "data.head()"
   ]
  },
  {
   "cell_type": "code",
   "execution_count": 5,
   "metadata": {},
   "outputs": [
    {
     "data": {
      "text/html": [
       "<div>\n",
       "<style scoped>\n",
       "    .dataframe tbody tr th:only-of-type {\n",
       "        vertical-align: middle;\n",
       "    }\n",
       "\n",
       "    .dataframe tbody tr th {\n",
       "        vertical-align: top;\n",
       "    }\n",
       "\n",
       "    .dataframe thead th {\n",
       "        text-align: right;\n",
       "    }\n",
       "</style>\n",
       "<table border=\"1\" class=\"dataframe\">\n",
       "  <thead>\n",
       "    <tr style=\"text-align: right;\">\n",
       "      <th></th>\n",
       "      <th>Unnamed: 0</th>\n",
       "      <th>id</th>\n",
       "      <th>Gender</th>\n",
       "      <th>Customer Type</th>\n",
       "      <th>Age</th>\n",
       "      <th>Type of Travel</th>\n",
       "      <th>Class</th>\n",
       "      <th>Flight Distance</th>\n",
       "      <th>Inflight wifi service</th>\n",
       "      <th>Departure/Arrival time convenient</th>\n",
       "      <th>...</th>\n",
       "      <th>Inflight entertainment</th>\n",
       "      <th>On-board service</th>\n",
       "      <th>Leg room service</th>\n",
       "      <th>Baggage handling</th>\n",
       "      <th>Checkin service</th>\n",
       "      <th>Inflight service</th>\n",
       "      <th>Cleanliness</th>\n",
       "      <th>Departure Delay in Minutes</th>\n",
       "      <th>Arrival Delay in Minutes</th>\n",
       "      <th>satisfaction</th>\n",
       "    </tr>\n",
       "  </thead>\n",
       "  <tbody>\n",
       "    <tr>\n",
       "      <th>103899</th>\n",
       "      <td>103899</td>\n",
       "      <td>94171</td>\n",
       "      <td>Female</td>\n",
       "      <td>disloyal Customer</td>\n",
       "      <td>23</td>\n",
       "      <td>Business travel</td>\n",
       "      <td>Eco</td>\n",
       "      <td>192</td>\n",
       "      <td>2</td>\n",
       "      <td>1</td>\n",
       "      <td>...</td>\n",
       "      <td>2</td>\n",
       "      <td>3</td>\n",
       "      <td>1</td>\n",
       "      <td>4</td>\n",
       "      <td>2</td>\n",
       "      <td>3</td>\n",
       "      <td>2</td>\n",
       "      <td>3</td>\n",
       "      <td>0.0</td>\n",
       "      <td>neutral or dissatisfied</td>\n",
       "    </tr>\n",
       "    <tr>\n",
       "      <th>103900</th>\n",
       "      <td>103900</td>\n",
       "      <td>73097</td>\n",
       "      <td>Male</td>\n",
       "      <td>Loyal Customer</td>\n",
       "      <td>49</td>\n",
       "      <td>Business travel</td>\n",
       "      <td>Business</td>\n",
       "      <td>2347</td>\n",
       "      <td>4</td>\n",
       "      <td>4</td>\n",
       "      <td>...</td>\n",
       "      <td>5</td>\n",
       "      <td>5</td>\n",
       "      <td>5</td>\n",
       "      <td>5</td>\n",
       "      <td>5</td>\n",
       "      <td>5</td>\n",
       "      <td>4</td>\n",
       "      <td>0</td>\n",
       "      <td>0.0</td>\n",
       "      <td>satisfied</td>\n",
       "    </tr>\n",
       "    <tr>\n",
       "      <th>103901</th>\n",
       "      <td>103901</td>\n",
       "      <td>68825</td>\n",
       "      <td>Male</td>\n",
       "      <td>disloyal Customer</td>\n",
       "      <td>30</td>\n",
       "      <td>Business travel</td>\n",
       "      <td>Business</td>\n",
       "      <td>1995</td>\n",
       "      <td>1</td>\n",
       "      <td>1</td>\n",
       "      <td>...</td>\n",
       "      <td>4</td>\n",
       "      <td>3</td>\n",
       "      <td>2</td>\n",
       "      <td>4</td>\n",
       "      <td>5</td>\n",
       "      <td>5</td>\n",
       "      <td>4</td>\n",
       "      <td>7</td>\n",
       "      <td>14.0</td>\n",
       "      <td>neutral or dissatisfied</td>\n",
       "    </tr>\n",
       "    <tr>\n",
       "      <th>103902</th>\n",
       "      <td>103902</td>\n",
       "      <td>54173</td>\n",
       "      <td>Female</td>\n",
       "      <td>disloyal Customer</td>\n",
       "      <td>22</td>\n",
       "      <td>Business travel</td>\n",
       "      <td>Eco</td>\n",
       "      <td>1000</td>\n",
       "      <td>1</td>\n",
       "      <td>1</td>\n",
       "      <td>...</td>\n",
       "      <td>1</td>\n",
       "      <td>4</td>\n",
       "      <td>5</td>\n",
       "      <td>1</td>\n",
       "      <td>5</td>\n",
       "      <td>4</td>\n",
       "      <td>1</td>\n",
       "      <td>0</td>\n",
       "      <td>0.0</td>\n",
       "      <td>neutral or dissatisfied</td>\n",
       "    </tr>\n",
       "    <tr>\n",
       "      <th>103903</th>\n",
       "      <td>103903</td>\n",
       "      <td>62567</td>\n",
       "      <td>Male</td>\n",
       "      <td>Loyal Customer</td>\n",
       "      <td>27</td>\n",
       "      <td>Business travel</td>\n",
       "      <td>Business</td>\n",
       "      <td>1723</td>\n",
       "      <td>1</td>\n",
       "      <td>3</td>\n",
       "      <td>...</td>\n",
       "      <td>1</td>\n",
       "      <td>1</td>\n",
       "      <td>1</td>\n",
       "      <td>4</td>\n",
       "      <td>4</td>\n",
       "      <td>3</td>\n",
       "      <td>1</td>\n",
       "      <td>0</td>\n",
       "      <td>0.0</td>\n",
       "      <td>neutral or dissatisfied</td>\n",
       "    </tr>\n",
       "  </tbody>\n",
       "</table>\n",
       "<p>5 rows × 25 columns</p>\n",
       "</div>"
      ],
      "text/plain": [
       "        Unnamed: 0     id  Gender      Customer Type  Age   Type of Travel  \\\n",
       "103899      103899  94171  Female  disloyal Customer   23  Business travel   \n",
       "103900      103900  73097    Male     Loyal Customer   49  Business travel   \n",
       "103901      103901  68825    Male  disloyal Customer   30  Business travel   \n",
       "103902      103902  54173  Female  disloyal Customer   22  Business travel   \n",
       "103903      103903  62567    Male     Loyal Customer   27  Business travel   \n",
       "\n",
       "           Class  Flight Distance  Inflight wifi service  \\\n",
       "103899       Eco              192                      2   \n",
       "103900  Business             2347                      4   \n",
       "103901  Business             1995                      1   \n",
       "103902       Eco             1000                      1   \n",
       "103903  Business             1723                      1   \n",
       "\n",
       "        Departure/Arrival time convenient  ...  Inflight entertainment  \\\n",
       "103899                                  1  ...                       2   \n",
       "103900                                  4  ...                       5   \n",
       "103901                                  1  ...                       4   \n",
       "103902                                  1  ...                       1   \n",
       "103903                                  3  ...                       1   \n",
       "\n",
       "        On-board service  Leg room service  Baggage handling  Checkin service  \\\n",
       "103899                 3                 1                 4                2   \n",
       "103900                 5                 5                 5                5   \n",
       "103901                 3                 2                 4                5   \n",
       "103902                 4                 5                 1                5   \n",
       "103903                 1                 1                 4                4   \n",
       "\n",
       "        Inflight service  Cleanliness  Departure Delay in Minutes  \\\n",
       "103899                 3            2                           3   \n",
       "103900                 5            4                           0   \n",
       "103901                 5            4                           7   \n",
       "103902                 4            1                           0   \n",
       "103903                 3            1                           0   \n",
       "\n",
       "        Arrival Delay in Minutes             satisfaction  \n",
       "103899                       0.0  neutral or dissatisfied  \n",
       "103900                       0.0                satisfied  \n",
       "103901                      14.0  neutral or dissatisfied  \n",
       "103902                       0.0  neutral or dissatisfied  \n",
       "103903                       0.0  neutral or dissatisfied  \n",
       "\n",
       "[5 rows x 25 columns]"
      ]
     },
     "execution_count": 5,
     "metadata": {},
     "output_type": "execute_result"
    }
   ],
   "source": [
    "# showing 5 data from bottom\n",
    "data.tail()"
   ]
  },
  {
   "cell_type": "code",
   "execution_count": 6,
   "metadata": {},
   "outputs": [
    {
     "name": "stdout",
     "output_type": "stream",
     "text": [
      "<class 'pandas.core.frame.DataFrame'>\n",
      "RangeIndex: 103904 entries, 0 to 103903\n",
      "Data columns (total 25 columns):\n",
      " #   Column                             Non-Null Count   Dtype  \n",
      "---  ------                             --------------   -----  \n",
      " 0   Unnamed: 0                         103904 non-null  int64  \n",
      " 1   id                                 103904 non-null  int64  \n",
      " 2   Gender                             103904 non-null  object \n",
      " 3   Customer Type                      103904 non-null  object \n",
      " 4   Age                                103904 non-null  int64  \n",
      " 5   Type of Travel                     103904 non-null  object \n",
      " 6   Class                              103904 non-null  object \n",
      " 7   Flight Distance                    103904 non-null  int64  \n",
      " 8   Inflight wifi service              103904 non-null  int64  \n",
      " 9   Departure/Arrival time convenient  103904 non-null  int64  \n",
      " 10  Ease of Online booking             103904 non-null  int64  \n",
      " 11  Gate location                      103904 non-null  int64  \n",
      " 12  Food and drink                     103904 non-null  int64  \n",
      " 13  Online boarding                    103904 non-null  int64  \n",
      " 14  Seat comfort                       103904 non-null  int64  \n",
      " 15  Inflight entertainment             103904 non-null  int64  \n",
      " 16  On-board service                   103904 non-null  int64  \n",
      " 17  Leg room service                   103904 non-null  int64  \n",
      " 18  Baggage handling                   103904 non-null  int64  \n",
      " 19  Checkin service                    103904 non-null  int64  \n",
      " 20  Inflight service                   103904 non-null  int64  \n",
      " 21  Cleanliness                        103904 non-null  int64  \n",
      " 22  Departure Delay in Minutes         103904 non-null  int64  \n",
      " 23  Arrival Delay in Minutes           103594 non-null  float64\n",
      " 24  satisfaction                       103904 non-null  object \n",
      "dtypes: float64(1), int64(19), object(5)\n",
      "memory usage: 19.8+ MB\n"
     ]
    }
   ],
   "source": [
    "# display information from the dataset\n",
    "data.info()"
   ]
  },
  {
   "attachments": {},
   "cell_type": "markdown",
   "metadata": {},
   "source": [
    "`Data Fixing`"
   ]
  },
  {
   "attachments": {},
   "cell_type": "markdown",
   "metadata": {},
   "source": [
    "Ada Kolom yang memang tidak penting yang sepertinya kolom tersebut di export bersama index yaitu kolom 'Unnamed: 0'"
   ]
  },
  {
   "cell_type": "code",
   "execution_count": 7,
   "metadata": {},
   "outputs": [],
   "source": [
    "# drop column Unnamed: 0\n",
    "data.drop(columns='Unnamed: 0', inplace=True)"
   ]
  },
  {
   "attachments": {},
   "cell_type": "markdown",
   "metadata": {},
   "source": [
    "Mengganti semua spasi pada nama kolom dengan _"
   ]
  },
  {
   "cell_type": "code",
   "execution_count": 8,
   "metadata": {},
   "outputs": [],
   "source": [
    "# change name of the column from whitespace to _\n",
    "new_columns = [col.replace(' ', '_') for col in data.columns]\n",
    "data.columns = new_columns"
   ]
  },
  {
   "cell_type": "code",
   "execution_count": 9,
   "metadata": {},
   "outputs": [
    {
     "data": {
      "text/plain": [
       "id                                     0\n",
       "Gender                                 0\n",
       "Customer_Type                          0\n",
       "Age                                    0\n",
       "Type_of_Travel                         0\n",
       "Class                                  0\n",
       "Flight_Distance                        0\n",
       "Inflight_wifi_service                  0\n",
       "Departure/Arrival_time_convenient      0\n",
       "Ease_of_Online_booking                 0\n",
       "Gate_location                          0\n",
       "Food_and_drink                         0\n",
       "Online_boarding                        0\n",
       "Seat_comfort                           0\n",
       "Inflight_entertainment                 0\n",
       "On-board_service                       0\n",
       "Leg_room_service                       0\n",
       "Baggage_handling                       0\n",
       "Checkin_service                        0\n",
       "Inflight_service                       0\n",
       "Cleanliness                            0\n",
       "Departure_Delay_in_Minutes             0\n",
       "Arrival_Delay_in_Minutes             310\n",
       "satisfaction                           0\n",
       "dtype: int64"
      ]
     },
     "execution_count": 9,
     "metadata": {},
     "output_type": "execute_result"
    }
   ],
   "source": [
    "# checking null values\n",
    "data.isnull().sum()"
   ]
  },
  {
   "attachments": {},
   "cell_type": "markdown",
   "metadata": {},
   "source": [
    "Terlihat dari sini bahwa terdapat missing values pada `Arrival Delay in Minutes`."
   ]
  },
  {
   "attachments": {},
   "cell_type": "markdown",
   "metadata": {},
   "source": [
    "`Missing Values Analysis`"
   ]
  },
  {
   "cell_type": "code",
   "execution_count": 10,
   "metadata": {},
   "outputs": [
    {
     "name": "stdout",
     "output_type": "stream",
     "text": [
      "interval columns not set, guessing: ['id', 'Age', 'Flight_Distance', 'Inflight_wifi_service', 'Departure/Arrival_time_convenient', 'Ease_of_Online_booking', 'Gate_location', 'Food_and_drink', 'Online_boarding', 'Seat_comfort', 'Inflight_entertainment', 'On-board_service', 'Leg_room_service', 'Baggage_handling', 'Checkin_service', 'Inflight_service', 'Cleanliness', 'Departure_Delay_in_Minutes', 'Arrival_Delay_in_Minutes']\n"
     ]
    }
   ],
   "source": [
    "# calculating correlation\n",
    "corr = data.phik_matrix()"
   ]
  },
  {
   "cell_type": "code",
   "execution_count": 11,
   "metadata": {},
   "outputs": [
    {
     "data": {
      "text/plain": [
       "Arrival_Delay_in_Minutes             1.000000\n",
       "Departure_Delay_in_Minutes           0.997610\n",
       "Food_and_drink                       0.112003\n",
       "Inflight_service                     0.048939\n",
       "Leg_room_service                     0.036166\n",
       "Checkin_service                      0.031806\n",
       "On-board_service                     0.028616\n",
       "Inflight_entertainment               0.027564\n",
       "id                                   0.025716\n",
       "Seat_comfort                         0.025541\n",
       "Online_boarding                      0.022119\n",
       "satisfaction                         0.016759\n",
       "Baggage_handling                     0.011117\n",
       "Ease_of_Online_booking               0.009371\n",
       "Gender                               0.008501\n",
       "Flight_Distance                      0.007174\n",
       "Age                                  0.006658\n",
       "Gate_location                        0.000000\n",
       "Departure/Arrival_time_convenient    0.000000\n",
       "Inflight_wifi_service                0.000000\n",
       "Class                                0.000000\n",
       "Type_of_Travel                       0.000000\n",
       "Cleanliness                          0.000000\n",
       "Customer_Type                        0.000000\n",
       "Name: Arrival_Delay_in_Minutes, dtype: float64"
      ]
     },
     "execution_count": 11,
     "metadata": {},
     "output_type": "execute_result"
    }
   ],
   "source": [
    "# column that has correlation with 'Arrival_Delay_in_Minutes'\n",
    "corr['Arrival_Delay_in_Minutes'].sort_values(ascending=False)"
   ]
  },
  {
   "attachments": {},
   "cell_type": "markdown",
   "metadata": {},
   "source": [
    "Dari hasil diatas dapat diketahui bahwa `Arrival_Delay_in_Minutes` itu berpengaruh dengan `Departure_Delay_in_Minutes`. Maka akan di cek distribusi dari keduanya"
   ]
  },
  {
   "attachments": {},
   "cell_type": "markdown",
   "metadata": {},
   "source": [
    "`Arrival_Delay_in_Minutes MNAR (MISSING NOT AT RANDOM)`"
   ]
  },
  {
   "cell_type": "code",
   "execution_count": 12,
   "metadata": {},
   "outputs": [
    {
     "data": {
      "image/png": "[encoded data removed]",
      "text/plain": [
       "<Figure size 1000x600 with 1 Axes>"
      ]
     },
     "metadata": {},
     "output_type": "display_data"
    }
   ],
   "source": [
    "plt.figure(figsize=(10,6))\n",
    "\n",
    "# Select the columns to plot\n",
    "cols = ['Arrival_Delay_in_Minutes', 'Departure_Delay_in_Minutes']\n",
    "\n",
    "# Plot the density curves for each column\n",
    "for col in cols:\n",
    "    sns.kdeplot(data[col], shade=True)\n",
    "\n",
    "# Add legend and axis labels\n",
    "plt.legend(cols)\n",
    "plt.title('Distribution of Payments')\n",
    "plt.xlabel('Frequency')\n",
    "plt.ylabel('Density')\n",
    "\n",
    "plt.show()"
   ]
  },
  {
   "attachments": {},
   "cell_type": "markdown",
   "metadata": {},
   "source": [
    "Dari hasil diatas dapat diketahui bahwa semakin tinggi Departure_Delay_in_Minutes maka semakin tinggi juga Arrival_Delay_in_Minutes."
   ]
  },
  {
   "cell_type": "code",
   "execution_count": 13,
   "metadata": {},
   "outputs": [
    {
     "data": {
      "text/html": [
       "<div>\n",
       "<style scoped>\n",
       "    .dataframe tbody tr th:only-of-type {\n",
       "        vertical-align: middle;\n",
       "    }\n",
       "\n",
       "    .dataframe tbody tr th {\n",
       "        vertical-align: top;\n",
       "    }\n",
       "\n",
       "    .dataframe thead th {\n",
       "        text-align: right;\n",
       "    }\n",
       "</style>\n",
       "<table border=\"1\" class=\"dataframe\">\n",
       "  <thead>\n",
       "    <tr style=\"text-align: right;\">\n",
       "      <th></th>\n",
       "      <th>mean</th>\n",
       "      <th>median</th>\n",
       "    </tr>\n",
       "  </thead>\n",
       "  <tbody>\n",
       "    <tr>\n",
       "      <th>Arrival_Delay_in_Minutes</th>\n",
       "      <td>15.178678</td>\n",
       "      <td>0.0</td>\n",
       "    </tr>\n",
       "    <tr>\n",
       "      <th>Departure_Delay_in_Minutes</th>\n",
       "      <td>14.815618</td>\n",
       "      <td>0.0</td>\n",
       "    </tr>\n",
       "  </tbody>\n",
       "</table>\n",
       "</div>"
      ],
      "text/plain": [
       "                                 mean  median\n",
       "Arrival_Delay_in_Minutes    15.178678     0.0\n",
       "Departure_Delay_in_Minutes  14.815618     0.0"
      ]
     },
     "execution_count": 13,
     "metadata": {},
     "output_type": "execute_result"
    }
   ],
   "source": [
    "# calculate the mean and median\n",
    "data[cols].agg(['mean', 'median']).T"
   ]
  },
  {
   "attachments": {},
   "cell_type": "markdown",
   "metadata": {},
   "source": [
    "Karena mean dari kedua kolom tersebut hampir sama maka akan di imputasi dengan mean"
   ]
  },
  {
   "cell_type": "code",
   "execution_count": 14,
   "metadata": {},
   "outputs": [],
   "source": [
    "# Impute missing values in 'Arrival_Delay_in_Minutes' with the mean value\n",
    "mean_value = data['Arrival_Delay_in_Minutes'].mean()\n",
    "data['Arrival_Delay_in_Minutes'].fillna(mean_value, inplace=True)\n"
   ]
  },
  {
   "cell_type": "code",
   "execution_count": 15,
   "metadata": {},
   "outputs": [
    {
     "data": {
      "text/plain": [
       "id                                   0\n",
       "Gender                               0\n",
       "Customer_Type                        0\n",
       "Age                                  0\n",
       "Type_of_Travel                       0\n",
       "Class                                0\n",
       "Flight_Distance                      0\n",
       "Inflight_wifi_service                0\n",
       "Departure/Arrival_time_convenient    0\n",
       "Ease_of_Online_booking               0\n",
       "Gate_location                        0\n",
       "Food_and_drink                       0\n",
       "Online_boarding                      0\n",
       "Seat_comfort                         0\n",
       "Inflight_entertainment               0\n",
       "On-board_service                     0\n",
       "Leg_room_service                     0\n",
       "Baggage_handling                     0\n",
       "Checkin_service                      0\n",
       "Inflight_service                     0\n",
       "Cleanliness                          0\n",
       "Departure_Delay_in_Minutes           0\n",
       "Arrival_Delay_in_Minutes             0\n",
       "satisfaction                         0\n",
       "dtype: int64"
      ]
     },
     "execution_count": 15,
     "metadata": {},
     "output_type": "execute_result"
    }
   ],
   "source": [
    "data.isnull().sum()"
   ]
  },
  {
   "attachments": {},
   "cell_type": "markdown",
   "metadata": {},
   "source": [
    "`Check Duplicates`"
   ]
  },
  {
   "cell_type": "code",
   "execution_count": 16,
   "metadata": {},
   "outputs": [
    {
     "data": {
      "text/plain": [
       "0"
      ]
     },
     "execution_count": 16,
     "metadata": {},
     "output_type": "execute_result"
    }
   ],
   "source": [
    "# calculate duplicates\n",
    "data.duplicated().sum()"
   ]
  },
  {
   "attachments": {},
   "cell_type": "markdown",
   "metadata": {},
   "source": [
    "Tidak ada duplikasi pada dataset ini"
   ]
  },
  {
   "cell_type": "code",
   "execution_count": 17,
   "metadata": {},
   "outputs": [
    {
     "data": {
      "text/html": [
       "<div>\n",
       "<style scoped>\n",
       "    .dataframe tbody tr th:only-of-type {\n",
       "        vertical-align: middle;\n",
       "    }\n",
       "\n",
       "    .dataframe tbody tr th {\n",
       "        vertical-align: top;\n",
       "    }\n",
       "\n",
       "    .dataframe thead th {\n",
       "        text-align: right;\n",
       "    }\n",
       "</style>\n",
       "<table border=\"1\" class=\"dataframe\">\n",
       "  <thead>\n",
       "    <tr style=\"text-align: right;\">\n",
       "      <th></th>\n",
       "      <th>id</th>\n",
       "      <th>Gender</th>\n",
       "      <th>Customer_Type</th>\n",
       "      <th>Age</th>\n",
       "      <th>Type_of_Travel</th>\n",
       "      <th>Class</th>\n",
       "      <th>Flight_Distance</th>\n",
       "      <th>Inflight_wifi_service</th>\n",
       "      <th>Departure/Arrival_time_convenient</th>\n",
       "      <th>Ease_of_Online_booking</th>\n",
       "      <th>...</th>\n",
       "      <th>Inflight_entertainment</th>\n",
       "      <th>On-board_service</th>\n",
       "      <th>Leg_room_service</th>\n",
       "      <th>Baggage_handling</th>\n",
       "      <th>Checkin_service</th>\n",
       "      <th>Inflight_service</th>\n",
       "      <th>Cleanliness</th>\n",
       "      <th>Departure_Delay_in_Minutes</th>\n",
       "      <th>Arrival_Delay_in_Minutes</th>\n",
       "      <th>satisfaction</th>\n",
       "    </tr>\n",
       "  </thead>\n",
       "  <tbody>\n",
       "  </tbody>\n",
       "</table>\n",
       "<p>0 rows × 24 columns</p>\n",
       "</div>"
      ],
      "text/plain": [
       "Empty DataFrame\n",
       "Columns: [id, Gender, Customer_Type, Age, Type_of_Travel, Class, Flight_Distance, Inflight_wifi_service, Departure/Arrival_time_convenient, Ease_of_Online_booking, Gate_location, Food_and_drink, Online_boarding, Seat_comfort, Inflight_entertainment, On-board_service, Leg_room_service, Baggage_handling, Checkin_service, Inflight_service, Cleanliness, Departure_Delay_in_Minutes, Arrival_Delay_in_Minutes, satisfaction]\n",
       "Index: []\n",
       "\n",
       "[0 rows x 24 columns]"
      ]
     },
     "execution_count": 17,
     "metadata": {},
     "output_type": "execute_result"
    }
   ],
   "source": [
    "data[data['id'].duplicated()]"
   ]
  },
  {
   "attachments": {},
   "cell_type": "markdown",
   "metadata": {},
   "source": [
    "Dan dapat diketahui bahwa 1 row 1 id customer."
   ]
  },
  {
   "attachments": {},
   "cell_type": "markdown",
   "metadata": {},
   "source": [
    "## Train Test Split"
   ]
  },
  {
   "cell_type": "code",
   "execution_count": 18,
   "metadata": {},
   "outputs": [
    {
     "name": "stdout",
     "output_type": "stream",
     "text": [
      "(83123, 23)\n",
      "(20781, 23)\n",
      "(83123,)\n",
      "(20781,)\n"
     ]
    }
   ],
   "source": [
    "# split\n",
    "X = data.drop('satisfaction', axis=1)\n",
    "y = data.satisfaction\n",
    "\n",
    "X_train, X_test, y_train, y_test = train_test_split(X, y, test_size=0.2, stratify=y, random_state=0)\n",
    "\n",
    "for i in [X_train, X_test, y_train, y_test]:\n",
    "    print(i.shape)"
   ]
  },
  {
   "cell_type": "code",
   "execution_count": 19,
   "metadata": {},
   "outputs": [],
   "source": [
    "# reset index every set\n",
    "X_train.reset_index(drop=True, inplace=True)\n",
    "y_train.reset_index(drop=True, inplace=True)\n",
    "X_test.reset_index(drop=True, inplace=True)\n",
    "y_test.reset_index(drop=True, inplace=True)"
   ]
  },
  {
   "attachments": {},
   "cell_type": "markdown",
   "metadata": {},
   "source": [
    "# **`Exploratory Data Analysis`**"
   ]
  },
  {
   "attachments": {},
   "cell_type": "markdown",
   "metadata": {},
   "source": [
    "Target disini adalah satisfication dari seseorang pada kolom `satisfication`."
   ]
  },
  {
   "cell_type": "code",
   "execution_count": 20,
   "metadata": {},
   "outputs": [
    {
     "data": {
      "text/plain": [
       "(83123, 24)"
      ]
     },
     "execution_count": 20,
     "metadata": {},
     "output_type": "execute_result"
    }
   ],
   "source": [
    "# new dataframe for eda\n",
    "df_eda = pd.concat([X_train, y_train], axis=1)\n",
    "df_eda.shape"
   ]
  },
  {
   "cell_type": "code",
   "execution_count": 21,
   "metadata": {},
   "outputs": [
    {
     "data": {
      "text/html": [
       "<div>\n",
       "<style scoped>\n",
       "    .dataframe tbody tr th:only-of-type {\n",
       "        vertical-align: middle;\n",
       "    }\n",
       "\n",
       "    .dataframe tbody tr th {\n",
       "        vertical-align: top;\n",
       "    }\n",
       "\n",
       "    .dataframe thead th {\n",
       "        text-align: right;\n",
       "    }\n",
       "</style>\n",
       "<table border=\"1\" class=\"dataframe\">\n",
       "  <thead>\n",
       "    <tr style=\"text-align: right;\">\n",
       "      <th></th>\n",
       "      <th>id</th>\n",
       "      <th>Gender</th>\n",
       "      <th>Customer_Type</th>\n",
       "      <th>Age</th>\n",
       "      <th>Type_of_Travel</th>\n",
       "      <th>Class</th>\n",
       "      <th>Flight_Distance</th>\n",
       "      <th>Inflight_wifi_service</th>\n",
       "      <th>Departure/Arrival_time_convenient</th>\n",
       "      <th>Ease_of_Online_booking</th>\n",
       "      <th>...</th>\n",
       "      <th>Inflight_entertainment</th>\n",
       "      <th>On-board_service</th>\n",
       "      <th>Leg_room_service</th>\n",
       "      <th>Baggage_handling</th>\n",
       "      <th>Checkin_service</th>\n",
       "      <th>Inflight_service</th>\n",
       "      <th>Cleanliness</th>\n",
       "      <th>Departure_Delay_in_Minutes</th>\n",
       "      <th>Arrival_Delay_in_Minutes</th>\n",
       "      <th>satisfaction</th>\n",
       "    </tr>\n",
       "  </thead>\n",
       "  <tbody>\n",
       "    <tr>\n",
       "      <th>0</th>\n",
       "      <td>95224</td>\n",
       "      <td>Male</td>\n",
       "      <td>Loyal Customer</td>\n",
       "      <td>63</td>\n",
       "      <td>Personal Travel</td>\n",
       "      <td>Eco</td>\n",
       "      <td>496</td>\n",
       "      <td>1</td>\n",
       "      <td>4</td>\n",
       "      <td>5</td>\n",
       "      <td>...</td>\n",
       "      <td>1</td>\n",
       "      <td>5</td>\n",
       "      <td>4</td>\n",
       "      <td>4</td>\n",
       "      <td>3</td>\n",
       "      <td>5</td>\n",
       "      <td>1</td>\n",
       "      <td>0</td>\n",
       "      <td>0.0</td>\n",
       "      <td>neutral or dissatisfied</td>\n",
       "    </tr>\n",
       "    <tr>\n",
       "      <th>1</th>\n",
       "      <td>32403</td>\n",
       "      <td>Female</td>\n",
       "      <td>Loyal Customer</td>\n",
       "      <td>44</td>\n",
       "      <td>Business travel</td>\n",
       "      <td>Business</td>\n",
       "      <td>2083</td>\n",
       "      <td>1</td>\n",
       "      <td>1</td>\n",
       "      <td>1</td>\n",
       "      <td>...</td>\n",
       "      <td>4</td>\n",
       "      <td>4</td>\n",
       "      <td>4</td>\n",
       "      <td>4</td>\n",
       "      <td>1</td>\n",
       "      <td>4</td>\n",
       "      <td>1</td>\n",
       "      <td>0</td>\n",
       "      <td>0.0</td>\n",
       "      <td>satisfied</td>\n",
       "    </tr>\n",
       "    <tr>\n",
       "      <th>2</th>\n",
       "      <td>78623</td>\n",
       "      <td>Male</td>\n",
       "      <td>Loyal Customer</td>\n",
       "      <td>51</td>\n",
       "      <td>Business travel</td>\n",
       "      <td>Business</td>\n",
       "      <td>1426</td>\n",
       "      <td>2</td>\n",
       "      <td>1</td>\n",
       "      <td>2</td>\n",
       "      <td>...</td>\n",
       "      <td>5</td>\n",
       "      <td>5</td>\n",
       "      <td>5</td>\n",
       "      <td>5</td>\n",
       "      <td>4</td>\n",
       "      <td>5</td>\n",
       "      <td>3</td>\n",
       "      <td>0</td>\n",
       "      <td>0.0</td>\n",
       "      <td>satisfied</td>\n",
       "    </tr>\n",
       "    <tr>\n",
       "      <th>3</th>\n",
       "      <td>36827</td>\n",
       "      <td>Male</td>\n",
       "      <td>Loyal Customer</td>\n",
       "      <td>23</td>\n",
       "      <td>Business travel</td>\n",
       "      <td>Business</td>\n",
       "      <td>2167</td>\n",
       "      <td>4</td>\n",
       "      <td>4</td>\n",
       "      <td>4</td>\n",
       "      <td>...</td>\n",
       "      <td>4</td>\n",
       "      <td>5</td>\n",
       "      <td>3</td>\n",
       "      <td>2</td>\n",
       "      <td>1</td>\n",
       "      <td>5</td>\n",
       "      <td>4</td>\n",
       "      <td>0</td>\n",
       "      <td>0.0</td>\n",
       "      <td>satisfied</td>\n",
       "    </tr>\n",
       "    <tr>\n",
       "      <th>4</th>\n",
       "      <td>89920</td>\n",
       "      <td>Male</td>\n",
       "      <td>Loyal Customer</td>\n",
       "      <td>27</td>\n",
       "      <td>Business travel</td>\n",
       "      <td>Business</td>\n",
       "      <td>1487</td>\n",
       "      <td>4</td>\n",
       "      <td>2</td>\n",
       "      <td>2</td>\n",
       "      <td>...</td>\n",
       "      <td>4</td>\n",
       "      <td>2</td>\n",
       "      <td>4</td>\n",
       "      <td>2</td>\n",
       "      <td>2</td>\n",
       "      <td>3</td>\n",
       "      <td>4</td>\n",
       "      <td>0</td>\n",
       "      <td>0.0</td>\n",
       "      <td>neutral or dissatisfied</td>\n",
       "    </tr>\n",
       "  </tbody>\n",
       "</table>\n",
       "<p>5 rows × 24 columns</p>\n",
       "</div>"
      ],
      "text/plain": [
       "      id  Gender   Customer_Type  Age   Type_of_Travel     Class  \\\n",
       "0  95224    Male  Loyal Customer   63  Personal Travel       Eco   \n",
       "1  32403  Female  Loyal Customer   44  Business travel  Business   \n",
       "2  78623    Male  Loyal Customer   51  Business travel  Business   \n",
       "3  36827    Male  Loyal Customer   23  Business travel  Business   \n",
       "4  89920    Male  Loyal Customer   27  Business travel  Business   \n",
       "\n",
       "   Flight_Distance  Inflight_wifi_service  Departure/Arrival_time_convenient  \\\n",
       "0              496                      1                                  4   \n",
       "1             2083                      1                                  1   \n",
       "2             1426                      2                                  1   \n",
       "3             2167                      4                                  4   \n",
       "4             1487                      4                                  2   \n",
       "\n",
       "   Ease_of_Online_booking  ...  Inflight_entertainment  On-board_service  \\\n",
       "0                       5  ...                       1                 5   \n",
       "1                       1  ...                       4                 4   \n",
       "2                       2  ...                       5                 5   \n",
       "3                       4  ...                       4                 5   \n",
       "4                       2  ...                       4                 2   \n",
       "\n",
       "   Leg_room_service  Baggage_handling  Checkin_service  Inflight_service  \\\n",
       "0                 4                 4                3                 5   \n",
       "1                 4                 4                1                 4   \n",
       "2                 5                 5                4                 5   \n",
       "3                 3                 2                1                 5   \n",
       "4                 4                 2                2                 3   \n",
       "\n",
       "   Cleanliness  Departure_Delay_in_Minutes  Arrival_Delay_in_Minutes  \\\n",
       "0            1                           0                       0.0   \n",
       "1            1                           0                       0.0   \n",
       "2            3                           0                       0.0   \n",
       "3            4                           0                       0.0   \n",
       "4            4                           0                       0.0   \n",
       "\n",
       "              satisfaction  \n",
       "0  neutral or dissatisfied  \n",
       "1                satisfied  \n",
       "2                satisfied  \n",
       "3                satisfied  \n",
       "4  neutral or dissatisfied  \n",
       "\n",
       "[5 rows x 24 columns]"
      ]
     },
     "execution_count": 21,
     "metadata": {},
     "output_type": "execute_result"
    }
   ],
   "source": [
    "df_eda.head()"
   ]
  },
  {
   "cell_type": "code",
   "execution_count": 22,
   "metadata": {},
   "outputs": [
    {
     "data": {
      "text/plain": [
       "array(['neutral or dissatisfied', 'satisfied'], dtype=object)"
      ]
     },
     "execution_count": 22,
     "metadata": {},
     "output_type": "execute_result"
    }
   ],
   "source": [
    "df_eda['satisfaction'].unique()"
   ]
  },
  {
   "cell_type": "code",
   "execution_count": 23,
   "metadata": {},
   "outputs": [
    {
     "data": {
      "image/png": "[encoded data removed]",
      "text/plain": [
       "<Figure size 800x600 with 1 Axes>"
      ]
     },
     "metadata": {},
     "output_type": "display_data"
    }
   ],
   "source": [
    "# Set figure size and style\n",
    "plt.figure(figsize=(8,6))\n",
    "sns.set_style(\"whitegrid\")\n",
    "\n",
    "# Plot the target balance\n",
    "ax = df_eda.groupby('satisfaction')['satisfaction'].count().plot(kind='bar', color=['#e69f00', '#0072b2'])\n",
    "\n",
    "# Add labels and title\n",
    "ax.set_xlabel(\"Satisfaction\")\n",
    "ax.set_ylabel(\"Count\")\n",
    "ax.set_title(\"Distribution of Satisfaction\")\n",
    "ax.set_xticklabels(['Dissatisfied', 'Satisfied'], rotation=0)\n",
    "\n",
    "# Add value labels to the bars\n",
    "for p in ax.patches:\n",
    "    ax.annotate(f\"{p.get_height()}\", (p.get_x() + p.get_width() / 2., p.get_height()),\n",
    "                ha='center', va='center', xytext=(0, 10), textcoords='offset points', fontsize=12)\n",
    "\n",
    "plt.show()\n"
   ]
  },
  {
   "attachments": {},
   "cell_type": "markdown",
   "metadata": {},
   "source": [
    "Dari visualisasi diatas dapat diketahui bahwa target mengalami imbalance, tetapi tidak begitu besar dimana berarti pada maskapai ini lebih banyak yang tidak puas dalam pelayanannya."
   ]
  },
  {
   "cell_type": "code",
   "execution_count": 24,
   "metadata": {},
   "outputs": [
    {
     "data": {
      "text/html": [
       "<div>\n",
       "<style scoped>\n",
       "    .dataframe tbody tr th:only-of-type {\n",
       "        vertical-align: middle;\n",
       "    }\n",
       "\n",
       "    .dataframe tbody tr th {\n",
       "        vertical-align: top;\n",
       "    }\n",
       "\n",
       "    .dataframe thead th {\n",
       "        text-align: right;\n",
       "    }\n",
       "</style>\n",
       "<table border=\"1\" class=\"dataframe\">\n",
       "  <thead>\n",
       "    <tr style=\"text-align: right;\">\n",
       "      <th></th>\n",
       "      <th>Age</th>\n",
       "    </tr>\n",
       "    <tr>\n",
       "      <th>satisfaction</th>\n",
       "      <th></th>\n",
       "    </tr>\n",
       "  </thead>\n",
       "  <tbody>\n",
       "    <tr>\n",
       "      <th>neutral or dissatisfied</th>\n",
       "      <td>37.499098</td>\n",
       "    </tr>\n",
       "    <tr>\n",
       "      <th>satisfied</th>\n",
       "      <td>41.758717</td>\n",
       "    </tr>\n",
       "  </tbody>\n",
       "</table>\n",
       "</div>"
      ],
      "text/plain": [
       "                               Age\n",
       "satisfaction                      \n",
       "neutral or dissatisfied  37.499098\n",
       "satisfied                41.758717"
      ]
     },
     "execution_count": 24,
     "metadata": {},
     "output_type": "execute_result"
    }
   ],
   "source": [
    "# display average age based on target\n",
    "df_eda.groupby(\"satisfaction\")[[\"Age\"]].mean()"
   ]
  },
  {
   "attachments": {},
   "cell_type": "markdown",
   "metadata": {},
   "source": [
    "Rata-rata umur dikeduanya hampir sama, yaitu kurang lebih 40 tahun. Ini tidak bisa mengambil kesimpulan dari sini"
   ]
  },
  {
   "cell_type": "code",
   "execution_count": 25,
   "metadata": {},
   "outputs": [
    {
     "data": {
      "text/html": [
       "<div>\n",
       "<style scoped>\n",
       "    .dataframe tbody tr th:only-of-type {\n",
       "        vertical-align: middle;\n",
       "    }\n",
       "\n",
       "    .dataframe tbody tr th {\n",
       "        vertical-align: top;\n",
       "    }\n",
       "\n",
       "    .dataframe thead th {\n",
       "        text-align: right;\n",
       "    }\n",
       "</style>\n",
       "<table border=\"1\" class=\"dataframe\">\n",
       "  <thead>\n",
       "    <tr style=\"text-align: right;\">\n",
       "      <th></th>\n",
       "      <th>Arrival_Delay_in_Minutes</th>\n",
       "      <th>Departure_Delay_in_Minutes</th>\n",
       "    </tr>\n",
       "    <tr>\n",
       "      <th>satisfaction</th>\n",
       "      <th></th>\n",
       "      <th></th>\n",
       "    </tr>\n",
       "  </thead>\n",
       "  <tbody>\n",
       "    <tr>\n",
       "      <th>neutral or dissatisfied</th>\n",
       "      <td>17.057387</td>\n",
       "      <td>16.429230</td>\n",
       "    </tr>\n",
       "    <tr>\n",
       "      <th>satisfied</th>\n",
       "      <td>12.699474</td>\n",
       "      <td>12.656913</td>\n",
       "    </tr>\n",
       "  </tbody>\n",
       "</table>\n",
       "</div>"
      ],
      "text/plain": [
       "                         Arrival_Delay_in_Minutes  Departure_Delay_in_Minutes\n",
       "satisfaction                                                                 \n",
       "neutral or dissatisfied                 17.057387                   16.429230\n",
       "satisfied                               12.699474                   12.656913"
      ]
     },
     "execution_count": 25,
     "metadata": {},
     "output_type": "execute_result"
    }
   ],
   "source": [
    "# display average delay based on target\n",
    "df_eda.groupby(\"satisfaction\")[[\"Arrival_Delay_in_Minutes\", \"Departure_Delay_in_Minutes\"]].mean()"
   ]
  },
  {
   "attachments": {},
   "cell_type": "markdown",
   "metadata": {},
   "source": [
    "Dari hasil diatas kita dapat ketahui bahwa orang-orang yang tidak puas pelayanannya memiliki delay lebih dari 15 menit."
   ]
  },
  {
   "cell_type": "code",
   "execution_count": 26,
   "metadata": {},
   "outputs": [
    {
     "data": {
      "image/png": "[encoded data removed]",
      "text/plain": [
       "<Figure size 800x600 with 1 Axes>"
      ]
     },
     "metadata": {},
     "output_type": "display_data"
    }
   ],
   "source": [
    "# Calculate the average flight distance for each class\n",
    "class_avg_flight_distance = df_eda.groupby(\"Class\")[\"Flight_Distance\"].mean()\n",
    "\n",
    "# Create a bar chart to visualize the average flight distance for each class\n",
    "fig, ax = plt.subplots(figsize=(8,6))\n",
    "colors = [\"#6D4C41\", \"#FFC107\", \"#1976D2\"] # Customize the colors of the bars\n",
    "class_avg_flight_distance.plot(kind='bar', color=colors, ax=ax)\n",
    "\n",
    "# Add labels and title to the chart\n",
    "ax.set_xlabel(\"Class\", fontsize=14)\n",
    "ax.set_ylabel(\"Average Flight Distance (km)\", fontsize=14)\n",
    "ax.set_title(\"Average Flight Distance by Class\", fontsize=16)\n",
    "\n",
    "# Customize the tick labels\n",
    "ax.tick_params(axis='x', labelsize=12, rotation=0)\n",
    "\n",
    "# Remove the top and right spines\n",
    "ax.spines['right'].set_visible(False)\n",
    "ax.spines['top'].set_visible(False)\n",
    "\n",
    "# Add data labels to the bars\n",
    "for i, v in enumerate(class_avg_flight_distance.values):\n",
    "    ax.text(i-0.1, v+100, f\"{int(v)} km\", color='black', fontsize=12)\n",
    "\n",
    "plt.show()"
   ]
  },
  {
   "attachments": {},
   "cell_type": "markdown",
   "metadata": {},
   "source": [
    "Berdasarkan visualisasi diatas, terlihat jelas bahwa penumpang Kelas Business cenderung memiliki jarak rata-rata penerbangan terjauh, dengan jarak rata-rata lebih dari 1500 km. Economy dan Eco Plus memiliki jarak penerbangan rata-rata yang jauh lebih rendah, dengan jarak rata-rata masing-masing sekitar 700 km."
   ]
  },
  {
   "cell_type": "code",
   "execution_count": 27,
   "metadata": {},
   "outputs": [
    {
     "data": {
      "image/png": "[encoded data removed]",
      "text/plain": [
       "<Figure size 800x600 with 1 Axes>"
      ]
     },
     "metadata": {},
     "output_type": "display_data"
    }
   ],
   "source": [
    "# Set figure size\n",
    "plt.figure(figsize=(8, 6))\n",
    "\n",
    "# Group by satisfaction and gender, and count the number of observations\n",
    "grouped = df_eda.groupby(['satisfaction', 'Gender']).size().reset_index(name='count')\n",
    "\n",
    "# Create a bar plot using seaborn\n",
    "sns.set_palette(\"muted\")\n",
    "ax = sns.barplot(data=grouped, x='satisfaction', y='count', hue='Gender')\n",
    "\n",
    "# Set axis labels and title\n",
    "plt.xlabel('Satisfaction', fontsize=14)\n",
    "plt.ylabel('Count', fontsize=14)\n",
    "plt.title('Count of Observations by Gender and Satisfaction', fontsize=16)\n",
    "\n",
    "# Add legend\n",
    "plt.legend(title='Gender', loc='upper right', fontsize=12)\n",
    "\n",
    "# Remove top and right spines\n",
    "sns.despine()\n",
    "\n",
    "# Add annotations to the bars\n",
    "for p in ax.patches:\n",
    "    ax.annotate(format(p.get_height()), \n",
    "                (p.get_x() + p.get_width() / 2., p.get_height()), \n",
    "                ha = 'center', va = 'center', \n",
    "                xytext = (0, 9), \n",
    "                textcoords = 'offset points', fontsize=10)\n",
    "\n",
    "# Add grid lines\n",
    "ax.yaxis.grid(True)\n",
    "\n",
    "# Show the plot\n",
    "plt.show()"
   ]
  },
  {
   "attachments": {},
   "cell_type": "markdown",
   "metadata": {},
   "source": [
    "Pada maskapai ini rata-rata penumpang yang memberikan feedback kepuasan mereka adalah wanita."
   ]
  },
  {
   "cell_type": "code",
   "execution_count": 28,
   "metadata": {},
   "outputs": [
    {
     "data": {
      "image/png": "[encoded data removed]",
      "text/plain": [
       "<Figure size 800x600 with 1 Axes>"
      ]
     },
     "metadata": {},
     "output_type": "display_data"
    }
   ],
   "source": [
    "# Set figure size\n",
    "plt.figure(figsize=(8, 6))\n",
    "\n",
    "# Group by satisfaction and sex, and count the number of observations\n",
    "grouped = df_eda.groupby(['satisfaction', 'Customer_Type']).size().reset_index(name='count')\n",
    "\n",
    "# Create a bar plot using seaborn\n",
    "ax = sns.barplot(data=grouped, x='satisfaction', y='count', hue='Customer_Type')\n",
    "\n",
    "# Set axis labels and title\n",
    "plt.xlabel('satisfaction')\n",
    "plt.ylabel('Count')\n",
    "plt.title('Count of Observations by Customer_Type and satisfaction')\n",
    "\n",
    "# Add legend\n",
    "plt.legend(title='Sex', loc='upper right')\n",
    "\n",
    "# Remove top and right spines\n",
    "sns.despine()\n",
    "\n",
    "# Add annotations to the bars\n",
    "for p in ax.patches:\n",
    "    ax.annotate(format(p.get_height()), \n",
    "                (p.get_x() + p.get_width() / 2., p.get_height()), \n",
    "                ha = 'center', va = 'center', \n",
    "                xytext = (0, 9), \n",
    "                textcoords = 'offset points')\n",
    "\n",
    "# Show the plot\n",
    "plt.show()"
   ]
  },
  {
   "attachments": {},
   "cell_type": "markdown",
   "metadata": {},
   "source": [
    "Dapat dilihat dari visualisasi diatas bahwa memang lebih banyak yang memberikan feedback dari loyal customer karena mereka sering memakai maskapai ini."
   ]
  },
  {
   "attachments": {},
   "cell_type": "markdown",
   "metadata": {},
   "source": [
    "# **`Feature Selection & Engineering`**"
   ]
  },
  {
   "attachments": {},
   "cell_type": "markdown",
   "metadata": {},
   "source": [
    "`checking multicolinearity`"
   ]
  },
  {
   "cell_type": "code",
   "execution_count": 29,
   "metadata": {},
   "outputs": [
    {
     "name": "stdout",
     "output_type": "stream",
     "text": [
      "                      feature        VIF\n",
      "3    Arrival_Delay_in_Minutes  15.253421\n",
      "2  Departure_Delay_in_Minutes  15.212453\n",
      "0                         Age   2.288527\n",
      "1             Flight_Distance   2.200651\n"
     ]
    }
   ],
   "source": [
    "# memasukan fitur numerik\n",
    "numeric_columns = ['Age', 'Flight_Distance', 'Departure_Delay_in_Minutes', 'Arrival_Delay_in_Minutes']\n",
    "X = df_eda[numeric_columns]\n",
    "\n",
    "# membuat dataframe VIF dan membaca semua dataframe menggunakan func variance_inflation_factor\n",
    "vif_data = pd.DataFrame()\n",
    "vif_data['feature'] = X.columns\n",
    "vif_data['VIF'] = [variance_inflation_factor(X.values, i) for i in range(X.shape[1])]\n",
    "\n",
    "# display\n",
    "print(vif_data.sort_values(by='VIF', ascending=False))"
   ]
  },
  {
   "attachments": {},
   "cell_type": "markdown",
   "metadata": {},
   "source": [
    "Dapat kita ketahui bahwa memang kolom delay itu saling berpengaruh maka terdapat mulitkolinearitas yang tinggi"
   ]
  },
  {
   "attachments": {},
   "cell_type": "markdown",
   "metadata": {},
   "source": [
    "`checking cardinallity`"
   ]
  },
  {
   "cell_type": "code",
   "execution_count": 30,
   "metadata": {},
   "outputs": [
    {
     "data": {
      "text/plain": [
       "Gender                               2\n",
       "Customer_Type                        2\n",
       "Type_of_Travel                       2\n",
       "Class                                3\n",
       "Inflight_wifi_service                6\n",
       "Departure/Arrival_time_convenient    6\n",
       "Ease_of_Online_booking               6\n",
       "Gate_location                        6\n",
       "Food_and_drink                       6\n",
       "Online_boarding                      6\n",
       "Seat_comfort                         6\n",
       "Inflight_entertainment               6\n",
       "On-board_service                     6\n",
       "Leg_room_service                     6\n",
       "Baggage_handling                     5\n",
       "Checkin_service                      6\n",
       "Inflight_service                     6\n",
       "Cleanliness                          6\n",
       "satisfaction                         2\n",
       "dtype: int64"
      ]
     },
     "execution_count": 30,
     "metadata": {},
     "output_type": "execute_result"
    }
   ],
   "source": [
    "df_eda.drop(columns=['id', 'Age', 'Flight_Distance', 'Departure_Delay_in_Minutes', 'Arrival_Delay_in_Minutes']).nunique()"
   ]
  },
  {
   "attachments": {},
   "cell_type": "markdown",
   "metadata": {},
   "source": [
    "Tidak ada high cardinallity yang terjadi pada dataset ini."
   ]
  },
  {
   "attachments": {},
   "cell_type": "markdown",
   "metadata": {},
   "source": [
    "`checking correlation`"
   ]
  },
  {
   "cell_type": "code",
   "execution_count": 31,
   "metadata": {},
   "outputs": [
    {
     "data": {
      "image/png": "[encoded data removed]",
      "text/plain": [
       "<Figure size 1000x800 with 2 Axes>"
      ]
     },
     "metadata": {},
     "output_type": "display_data"
    }
   ],
   "source": [
    "# Display\n",
    "plt.figure(figsize=(10,8))\n",
    "sns.heatmap(corr, cmap='coolwarm')\n",
    "plt.title('Phik Correlation Matrix Heatmap')\n",
    "plt.show()"
   ]
  },
  {
   "cell_type": "code",
   "execution_count": 32,
   "metadata": {},
   "outputs": [
    {
     "data": {
      "text/plain": [
       "satisfaction              1.000000\n",
       "Online_boarding           0.814097\n",
       "Inflight_wifi_service     0.712281\n",
       "Type_of_Travel            0.648219\n",
       "Inflight_entertainment    0.581527\n",
       "Seat_comfort              0.538059\n",
       "Leg_room_service          0.476109\n",
       "On-board_service          0.461286\n",
       "Ease_of_Online_booking    0.438925\n",
       "Cleanliness               0.435520\n",
       "Flight_Distance           0.405954\n",
       "Inflight_service          0.391924\n",
       "Age                       0.369903\n",
       "Checkin_service           0.345286\n",
       "Class                     0.313504\n",
       "Food_and_drink            0.310856\n",
       "Name: satisfaction, dtype: float64"
      ]
     },
     "execution_count": 32,
     "metadata": {},
     "output_type": "execute_result"
    }
   ],
   "source": [
    "# display correlation just based on satisfaction has values more than 0.3\n",
    "corr_satisfaction = corr['satisfaction'].sort_values(ascending=False)\n",
    "corr_satisfaction[corr_satisfaction > 0.3]"
   ]
  },
  {
   "attachments": {},
   "cell_type": "markdown",
   "metadata": {},
   "source": [
    "Dapat dilihat memang satisfaction berhubungan dengan rating-rating feedback dari customer berdasarkan pelayanannya. Selain itu, Age juga berhubungan yang mempunyai value lebih dari 0.3."
   ]
  },
  {
   "attachments": {},
   "cell_type": "markdown",
   "metadata": {},
   "source": [
    "Karena Menurut asumsi saya delay nya pesawat juga dapat mempengaruhi kepuasan seseorang saya akan memakai 'Departure_Delay_in_Minutes', 'Arrival_Delay_in_Minutes' juga untuk fitur."
   ]
  },
  {
   "attachments": {},
   "cell_type": "markdown",
   "metadata": {},
   "source": [
    "New Features :\n",
    "* Age\n",
    "* Type_of_Travel\n",
    "* Class\n",
    "* Flight_Distance\n",
    "* Inflight_wifi_service\n",
    "* Ease_of_Online_booking\n",
    "* Food_and_drink\n",
    "* Online_boarding\n",
    "* Seat_comfort\n",
    "* Inflight_entertainment\n",
    "* On-board_service\n",
    "* Leg_room_service\n",
    "* Checkin_service\n",
    "* Inflight_service\n",
    "* Cleanliness\n",
    "* Departure_Delay_in_Minutes\n",
    "* Arrival_Delay_in_Minutes"
   ]
  },
  {
   "attachments": {},
   "cell_type": "markdown",
   "metadata": {},
   "source": [
    "Karena 'Departure_Delay_in_Minutes' dan 'Arrival_Delay_in_Minutes' memiliki banyak nilai 0, karena nilai 0 itu artinya tidak delay, maka kolom tersebut akan diubah menjadi kolom kategorik"
   ]
  },
  {
   "cell_type": "code",
   "execution_count": 33,
   "metadata": {},
   "outputs": [],
   "source": [
    "# membuat function untuk kolom 'Departure_Delay_in_Minutes' dan 'Arrival_Delay_in_Minutes' \n",
    "def delay_level(delay_time):\n",
    "    if delay_time == 0:\n",
    "        return \"no delay\"\n",
    "    elif delay_time <= 13:\n",
    "        return \"little delay\"\n",
    "    elif delay_time <= 15:\n",
    "        return \"delayed\"\n",
    "    else:\n",
    "        return \"very delayed\""
   ]
  },
  {
   "cell_type": "code",
   "execution_count": 34,
   "metadata": {},
   "outputs": [],
   "source": [
    "# Transform the Departure_Delay_in_Minutes and Arrival_Delay_in_Minutes columns\n",
    "df_eda['Departure_Delay_in_Minutes'] = df_eda['Departure_Delay_in_Minutes'].apply(delay_level)\n",
    "df_eda['Arrival_Delay_in_Minutes'] = df_eda['Arrival_Delay_in_Minutes'].apply(delay_level)"
   ]
  },
  {
   "cell_type": "code",
   "execution_count": 35,
   "metadata": {},
   "outputs": [
    {
     "data": {
      "text/html": [
       "<div>\n",
       "<style scoped>\n",
       "    .dataframe tbody tr th:only-of-type {\n",
       "        vertical-align: middle;\n",
       "    }\n",
       "\n",
       "    .dataframe tbody tr th {\n",
       "        vertical-align: top;\n",
       "    }\n",
       "\n",
       "    .dataframe thead th {\n",
       "        text-align: right;\n",
       "    }\n",
       "</style>\n",
       "<table border=\"1\" class=\"dataframe\">\n",
       "  <thead>\n",
       "    <tr style=\"text-align: right;\">\n",
       "      <th></th>\n",
       "      <th>Departure_Delay_in_Minutes</th>\n",
       "      <th>Arrival_Delay_in_Minutes</th>\n",
       "    </tr>\n",
       "  </thead>\n",
       "  <tbody>\n",
       "    <tr>\n",
       "      <th>69964</th>\n",
       "      <td>little delay</td>\n",
       "      <td>no delay</td>\n",
       "    </tr>\n",
       "    <tr>\n",
       "      <th>64436</th>\n",
       "      <td>little delay</td>\n",
       "      <td>little delay</td>\n",
       "    </tr>\n",
       "    <tr>\n",
       "      <th>70864</th>\n",
       "      <td>very delayed</td>\n",
       "      <td>very delayed</td>\n",
       "    </tr>\n",
       "    <tr>\n",
       "      <th>54494</th>\n",
       "      <td>little delay</td>\n",
       "      <td>no delay</td>\n",
       "    </tr>\n",
       "    <tr>\n",
       "      <th>48856</th>\n",
       "      <td>no delay</td>\n",
       "      <td>no delay</td>\n",
       "    </tr>\n",
       "  </tbody>\n",
       "</table>\n",
       "</div>"
      ],
      "text/plain": [
       "      Departure_Delay_in_Minutes Arrival_Delay_in_Minutes\n",
       "69964               little delay                 no delay\n",
       "64436               little delay             little delay\n",
       "70864               very delayed             very delayed\n",
       "54494               little delay                 no delay\n",
       "48856                   no delay                 no delay"
      ]
     },
     "execution_count": 35,
     "metadata": {},
     "output_type": "execute_result"
    }
   ],
   "source": [
    "df_eda[['Departure_Delay_in_Minutes', 'Arrival_Delay_in_Minutes']].sample(5)"
   ]
  },
  {
   "attachments": {},
   "cell_type": "markdown",
   "metadata": {},
   "source": [
    "Kedua kolom tersebut sudah terubah menjadi kolom kategorik"
   ]
  },
  {
   "cell_type": "code",
   "execution_count": 36,
   "metadata": {},
   "outputs": [],
   "source": [
    "new_features = ['Age', 'Type_of_Travel', 'Class',\n",
    "       'Flight_Distance', 'Inflight_wifi_service',\n",
    "       'Ease_of_Online_booking','Food_and_drink', 'Online_boarding', 'Seat_comfort',\n",
    "       'Inflight_entertainment', 'On-board_service', 'Leg_room_service',\n",
    "       'Checkin_service', 'Inflight_service','Cleanliness', \n",
    "       'Departure_Delay_in_Minutes', 'Arrival_Delay_in_Minutes']\n",
    "target = ['satisfaction']"
   ]
  },
  {
   "cell_type": "code",
   "execution_count": 37,
   "metadata": {},
   "outputs": [],
   "source": [
    "# List of columns to encode\n",
    "xle = df_eda[new_features]\n",
    "cols_to_encode = ['Type_of_Travel', 'Class', 'Departure_Delay_in_Minutes', 'Arrival_Delay_in_Minutes']\n",
    "\n",
    "# Create an instance of the LabelEncoder\n",
    "le = LabelEncoder()\n",
    "\n",
    "# Apply label encoding to the selected columns\n",
    "for col in cols_to_encode:\n",
    "    xle[col] = le.fit_transform(xle[col])"
   ]
  },
  {
   "attachments": {},
   "cell_type": "markdown",
   "metadata": {},
   "source": [
    "Karena memiliki banyak fitur kategorik, maka untuk mempertimbangkan fitur akan digunakan metode chi2"
   ]
  },
  {
   "cell_type": "code",
   "execution_count": 38,
   "metadata": {},
   "outputs": [
    {
     "data": {
      "text/plain": [
       "Flight_Distance               6.271253e+06\n",
       "Online_boarding               1.177594e+04\n",
       "Type_of_Travel                1.155696e+04\n",
       "Class                         1.087487e+04\n",
       "Age                           9.412910e+03\n",
       "Inflight_entertainment        6.982390e+03\n",
       "Seat_comfort                  5.092184e+03\n",
       "Inflight_wifi_service         4.363275e+03\n",
       "On-board_service              4.207002e+03\n",
       "Leg_room_service              4.186392e+03\n",
       "Cleanliness                   4.100112e+03\n",
       "Checkin_service               2.187391e+03\n",
       "Food_and_drink                2.026127e+03\n",
       "Inflight_service              1.884710e+03\n",
       "Ease_of_Online_booking        1.746423e+03\n",
       "Departure_Delay_in_Minutes    3.501331e+01\n",
       "Arrival_Delay_in_Minutes      2.596643e+01\n",
       "dtype: float64"
      ]
     },
     "execution_count": 38,
     "metadata": {},
     "output_type": "execute_result"
    }
   ],
   "source": [
    "f_test = SelectKBest(score_func=chi2, k=4)\n",
    "fit = f_test.fit(xle, df_eda[target])\n",
    "#hasil uji signifikansi\n",
    "result = pd.Series(fit.scores_)\n",
    "result.index = xle.columns\n",
    "result.sort_values(ascending=False)"
   ]
  },
  {
   "attachments": {},
   "cell_type": "markdown",
   "metadata": {},
   "source": [
    "Dari sini juga dapat dilihat bahwa fitur yang dipilih mempunyai nilai chi2 yang tinggi terhadap target, dimana dapat menyimpulkan pemilihan fitur ini benar."
   ]
  },
  {
   "cell_type": "code",
   "execution_count": 39,
   "metadata": {},
   "outputs": [],
   "source": [
    "# membuat dataframe baru\n",
    "df_eda_new = df_eda[new_features + target]"
   ]
  },
  {
   "cell_type": "code",
   "execution_count": 40,
   "metadata": {},
   "outputs": [
    {
     "data": {
      "text/html": [
       "<div>\n",
       "<style scoped>\n",
       "    .dataframe tbody tr th:only-of-type {\n",
       "        vertical-align: middle;\n",
       "    }\n",
       "\n",
       "    .dataframe tbody tr th {\n",
       "        vertical-align: top;\n",
       "    }\n",
       "\n",
       "    .dataframe thead th {\n",
       "        text-align: right;\n",
       "    }\n",
       "</style>\n",
       "<table border=\"1\" class=\"dataframe\">\n",
       "  <thead>\n",
       "    <tr style=\"text-align: right;\">\n",
       "      <th></th>\n",
       "      <th>Age</th>\n",
       "      <th>Type_of_Travel</th>\n",
       "      <th>Class</th>\n",
       "      <th>Flight_Distance</th>\n",
       "      <th>Inflight_wifi_service</th>\n",
       "      <th>Ease_of_Online_booking</th>\n",
       "      <th>Food_and_drink</th>\n",
       "      <th>Online_boarding</th>\n",
       "      <th>Seat_comfort</th>\n",
       "      <th>Inflight_entertainment</th>\n",
       "      <th>On-board_service</th>\n",
       "      <th>Leg_room_service</th>\n",
       "      <th>Checkin_service</th>\n",
       "      <th>Inflight_service</th>\n",
       "      <th>Cleanliness</th>\n",
       "      <th>Departure_Delay_in_Minutes</th>\n",
       "      <th>Arrival_Delay_in_Minutes</th>\n",
       "      <th>satisfaction</th>\n",
       "    </tr>\n",
       "  </thead>\n",
       "  <tbody>\n",
       "    <tr>\n",
       "      <th>0</th>\n",
       "      <td>63</td>\n",
       "      <td>Personal Travel</td>\n",
       "      <td>Eco</td>\n",
       "      <td>496</td>\n",
       "      <td>1</td>\n",
       "      <td>5</td>\n",
       "      <td>1</td>\n",
       "      <td>5</td>\n",
       "      <td>1</td>\n",
       "      <td>1</td>\n",
       "      <td>5</td>\n",
       "      <td>4</td>\n",
       "      <td>3</td>\n",
       "      <td>5</td>\n",
       "      <td>1</td>\n",
       "      <td>no delay</td>\n",
       "      <td>no delay</td>\n",
       "      <td>neutral or dissatisfied</td>\n",
       "    </tr>\n",
       "    <tr>\n",
       "      <th>1</th>\n",
       "      <td>44</td>\n",
       "      <td>Business travel</td>\n",
       "      <td>Business</td>\n",
       "      <td>2083</td>\n",
       "      <td>1</td>\n",
       "      <td>1</td>\n",
       "      <td>5</td>\n",
       "      <td>1</td>\n",
       "      <td>4</td>\n",
       "      <td>4</td>\n",
       "      <td>4</td>\n",
       "      <td>4</td>\n",
       "      <td>1</td>\n",
       "      <td>4</td>\n",
       "      <td>1</td>\n",
       "      <td>no delay</td>\n",
       "      <td>no delay</td>\n",
       "      <td>satisfied</td>\n",
       "    </tr>\n",
       "    <tr>\n",
       "      <th>2</th>\n",
       "      <td>51</td>\n",
       "      <td>Business travel</td>\n",
       "      <td>Business</td>\n",
       "      <td>1426</td>\n",
       "      <td>2</td>\n",
       "      <td>2</td>\n",
       "      <td>5</td>\n",
       "      <td>5</td>\n",
       "      <td>4</td>\n",
       "      <td>5</td>\n",
       "      <td>5</td>\n",
       "      <td>5</td>\n",
       "      <td>4</td>\n",
       "      <td>5</td>\n",
       "      <td>3</td>\n",
       "      <td>no delay</td>\n",
       "      <td>no delay</td>\n",
       "      <td>satisfied</td>\n",
       "    </tr>\n",
       "    <tr>\n",
       "      <th>3</th>\n",
       "      <td>23</td>\n",
       "      <td>Business travel</td>\n",
       "      <td>Business</td>\n",
       "      <td>2167</td>\n",
       "      <td>4</td>\n",
       "      <td>4</td>\n",
       "      <td>4</td>\n",
       "      <td>4</td>\n",
       "      <td>4</td>\n",
       "      <td>4</td>\n",
       "      <td>5</td>\n",
       "      <td>3</td>\n",
       "      <td>1</td>\n",
       "      <td>5</td>\n",
       "      <td>4</td>\n",
       "      <td>no delay</td>\n",
       "      <td>no delay</td>\n",
       "      <td>satisfied</td>\n",
       "    </tr>\n",
       "    <tr>\n",
       "      <th>4</th>\n",
       "      <td>27</td>\n",
       "      <td>Business travel</td>\n",
       "      <td>Business</td>\n",
       "      <td>1487</td>\n",
       "      <td>4</td>\n",
       "      <td>2</td>\n",
       "      <td>4</td>\n",
       "      <td>3</td>\n",
       "      <td>4</td>\n",
       "      <td>4</td>\n",
       "      <td>2</td>\n",
       "      <td>4</td>\n",
       "      <td>2</td>\n",
       "      <td>3</td>\n",
       "      <td>4</td>\n",
       "      <td>no delay</td>\n",
       "      <td>no delay</td>\n",
       "      <td>neutral or dissatisfied</td>\n",
       "    </tr>\n",
       "  </tbody>\n",
       "</table>\n",
       "</div>"
      ],
      "text/plain": [
       "   Age   Type_of_Travel     Class  Flight_Distance  Inflight_wifi_service  \\\n",
       "0   63  Personal Travel       Eco              496                      1   \n",
       "1   44  Business travel  Business             2083                      1   \n",
       "2   51  Business travel  Business             1426                      2   \n",
       "3   23  Business travel  Business             2167                      4   \n",
       "4   27  Business travel  Business             1487                      4   \n",
       "\n",
       "   Ease_of_Online_booking  Food_and_drink  Online_boarding  Seat_comfort  \\\n",
       "0                       5               1                5             1   \n",
       "1                       1               5                1             4   \n",
       "2                       2               5                5             4   \n",
       "3                       4               4                4             4   \n",
       "4                       2               4                3             4   \n",
       "\n",
       "   Inflight_entertainment  On-board_service  Leg_room_service  \\\n",
       "0                       1                 5                 4   \n",
       "1                       4                 4                 4   \n",
       "2                       5                 5                 5   \n",
       "3                       4                 5                 3   \n",
       "4                       4                 2                 4   \n",
       "\n",
       "   Checkin_service  Inflight_service  Cleanliness Departure_Delay_in_Minutes  \\\n",
       "0                3                 5            1                   no delay   \n",
       "1                1                 4            1                   no delay   \n",
       "2                4                 5            3                   no delay   \n",
       "3                1                 5            4                   no delay   \n",
       "4                2                 3            4                   no delay   \n",
       "\n",
       "  Arrival_Delay_in_Minutes             satisfaction  \n",
       "0                 no delay  neutral or dissatisfied  \n",
       "1                 no delay                satisfied  \n",
       "2                 no delay                satisfied  \n",
       "3                 no delay                satisfied  \n",
       "4                 no delay  neutral or dissatisfied  "
      ]
     },
     "execution_count": 40,
     "metadata": {},
     "output_type": "execute_result"
    }
   ],
   "source": [
    "df_eda_new.head()"
   ]
  },
  {
   "cell_type": "code",
   "execution_count": 41,
   "metadata": {},
   "outputs": [
    {
     "name": "stdout",
     "output_type": "stream",
     "text": [
      "Age Skewness : 0.0011065732360109085\n"
     ]
    },
    {
     "data": {
      "image/png": "[encoded data removed]",
      "text/plain": [
       "<Figure size 2000x500 with 2 Axes>"
      ]
     },
     "metadata": {},
     "output_type": "display_data"
    }
   ],
   "source": [
    "#menghitung skewness\n",
    "skew_Age = df_eda_new['Age'].skew()\n",
    "print(f'Age Skewness : {skew_Age}')\n",
    "\n",
    "# melihat distribusi memakai histogram\n",
    "fig, (ax1, ax2) = plt.subplots(nrows=1, ncols=2, figsize=(20, 5))\n",
    "sns.histplot(df_eda_new['Age'], ax=ax1, bins=50, kde=True)\n",
    "ax1.set_xlabel('Age')\n",
    "ax1.set_title('Distribution of Age')\n",
    "sns.boxplot(df_eda_new['Age'], ax=ax2)\n",
    "ax2.set_ylabel('Age')\n",
    "ax2.set_title('Distribution of Age')\n",
    "plt.show()"
   ]
  },
  {
   "attachments": {},
   "cell_type": "markdown",
   "metadata": {},
   "source": [
    "Dapat diketahui bahwa kolom Age mempunyai distribusi yang normal dan tidak mempunyai outliers."
   ]
  },
  {
   "cell_type": "code",
   "execution_count": 42,
   "metadata": {},
   "outputs": [
    {
     "name": "stdout",
     "output_type": "stream",
     "text": [
      "Flight_Distance Skewness : 1.1101668544749683\n"
     ]
    },
    {
     "data": {
      "image/png": "[encoded data removed]",
      "text/plain": [
       "<Figure size 2000x500 with 2 Axes>"
      ]
     },
     "metadata": {},
     "output_type": "display_data"
    }
   ],
   "source": [
    "#menghitung skewness\n",
    "skew_Flight_Distance = df_eda_new['Flight_Distance'].skew()\n",
    "print(f'Flight_Distance Skewness : {skew_Flight_Distance}')\n",
    "\n",
    "# melihat distribusi memakai histogram\n",
    "fig, (ax1, ax2) = plt.subplots(nrows=1, ncols=2, figsize=(20, 5))\n",
    "sns.histplot(df_eda_new['Flight_Distance'], ax=ax1, bins=50, kde=True)\n",
    "ax1.set_xlabel('Flight_Distance')\n",
    "ax1.set_title('Distribution of Flight_Distance')\n",
    "sns.boxplot(df_eda_new['Flight_Distance'], ax=ax2)\n",
    "ax2.set_ylabel('Flight_Distance')\n",
    "ax2.set_title('Distribution of Flight_Distance')\n",
    "plt.show()"
   ]
  },
  {
   "attachments": {},
   "cell_type": "markdown",
   "metadata": {},
   "source": [
    "Pada Flight_Distance memiliki distribusi yang tidak normal dan mempunyai beberapa outliers. Ini akan di handling menggunakan IQR atau Tukey Rules"
   ]
  },
  {
   "attachments": {},
   "cell_type": "markdown",
   "metadata": {},
   "source": [
    "`Encoding and Preprocess`"
   ]
  },
  {
   "cell_type": "code",
   "execution_count": 43,
   "metadata": {},
   "outputs": [],
   "source": [
    "# mendefinisikan setiap preprocess\n",
    "# memakai standardscaler karena memiliki distribusi yang sangat normal\n",
    "age_feat = ['Age']\n",
    "age_feat_transformer = StandardScaler()\n",
    "\n",
    "# type of travel memakai onehotencoder karena kolom ini merupakan kolom tipe yang mempunyai nilai equality\n",
    "type_feat = ['Type_of_Travel']\n",
    "type_feat_transformer = OneHotEncoder(sparse_output=False, handle_unknown='ignore')\n",
    "\n",
    "# class memakai ordinal encoder karena kolom ini merupakan tingkatan kelas maskapai\n",
    "class_ord = ['Eco', 'Eco Plus', 'Business']\n",
    "class_feat = ['Class']\n",
    "class_feat_transformer = OrdinalEncoder(categories=[class_ord])\n",
    "\n",
    "# flight distance merupakan kolom yang mempunyai beberapa outliers, dan outliers akan di capping serta di encoding menggunakan standardscaler\n",
    "distance_feat = ['Flight_Distance']\n",
    "distance_feat_transformer = Pipeline(\n",
    "    steps=[('windsorizer1', Winsorizer(capping_method='iqr', tail='both', fold=1.5)), \n",
    "           (\"scaler1\", StandardScaler())]\n",
    ")\n",
    "\n",
    "# memakai ordinal encoder karena ini merupakan tingkat kepuasan berdasarkan service\n",
    "ord_service = [0,1,2,3,4,5]\n",
    "ord_service.sort()\n",
    "ord_cols = ['Inflight_wifi_service', 'Ease_of_Online_booking', 'Food_and_drink',\n",
    "       'Online_boarding', 'Seat_comfort', 'Inflight_entertainment',\n",
    "       'On-board_service', 'Leg_room_service', 'Checkin_service',\n",
    "       'Inflight_service', 'Cleanliness']\n",
    "ord_cols_transformer = OrdinalEncoder(categories=[ord_service]*len(ord_cols))\n",
    "\n",
    "delay_ord = ['no delay', 'little delay', 'delayed', 'very delayed']\n",
    "delay_cols = ['Departure_Delay_in_Minutes','Arrival_Delay_in_Minutes']\n",
    "delay_cols_transformer = OrdinalEncoder(categories=[delay_ord]*len(delay_cols))"
   ]
  },
  {
   "cell_type": "code",
   "execution_count": 44,
   "metadata": {},
   "outputs": [],
   "source": [
    "preprocessor = ColumnTransformer(transformers=[\n",
    "    ('age_feat', age_feat_transformer, age_feat),\n",
    "    ('type_feat', type_feat_transformer, type_feat),\n",
    "    ('class_feat', class_feat_transformer, class_feat),\n",
    "    ('distance_feat', distance_feat_transformer, distance_feat),\n",
    "    ('ord_cols', ord_cols_transformer, ord_cols),\n",
    "    ('delay_cols', delay_cols_transformer, delay_cols)\n",
    "])"
   ]
  },
  {
   "attachments": {},
   "cell_type": "markdown",
   "metadata": {},
   "source": [
    "`Split After EDA`"
   ]
  },
  {
   "cell_type": "code",
   "execution_count": 45,
   "metadata": {},
   "outputs": [],
   "source": [
    "X_train_new = df_eda_new.drop(columns='satisfaction')\n",
    "y_train_new = df_eda_new.satisfaction\n"
   ]
  },
  {
   "cell_type": "code",
   "execution_count": 46,
   "metadata": {},
   "outputs": [],
   "source": [
    "X_test_new = X_test[new_features]"
   ]
  },
  {
   "cell_type": "code",
   "execution_count": 47,
   "metadata": {},
   "outputs": [],
   "source": [
    "X_test_new['Departure_Delay_in_Minutes'] = X_test_new['Departure_Delay_in_Minutes'].apply(delay_level)\n",
    "X_test_new['Arrival_Delay_in_Minutes'] = X_test_new['Arrival_Delay_in_Minutes'].apply(delay_level)"
   ]
  },
  {
   "attachments": {},
   "cell_type": "markdown",
   "metadata": {},
   "source": [
    "# **`Model Definition, Training, Evaluation`**"
   ]
  },
  {
   "attachments": {},
   "cell_type": "markdown",
   "metadata": {},
   "source": [
    "Menggunakan Model Ensemble Learning yaitu :\n",
    "* Random Forest\n",
    "* XGBoost"
   ]
  },
  {
   "attachments": {},
   "cell_type": "markdown",
   "metadata": {},
   "source": [
    "Saya menggunakan model ensemble learning kedua model tersebut karena pada kasus ini saya mencari keakuratan untuk memprediksi kedua kelas. Oleh karena itu, Keuntungan utama Random Forest dan XGBoost adalah keduanya merupakan metode ensemble learning yang menggabungkan beberapa model untuk meningkatkan performa prediksi. Hal ini dapat menghasilkan akurasi yang lebih baik dan lebih sedikit overfitting dibandingkan dengan menggunakan model lain. Keduanya juga memungkinkan analisis kepentingan fitur, yang dapat membantu mengidentifikasi variabel terpenting dalam kumpulan data."
   ]
  },
  {
   "attachments": {},
   "cell_type": "markdown",
   "metadata": {},
   "source": [
    "**`Random Forest`**"
   ]
  },
  {
   "cell_type": "code",
   "execution_count": 48,
   "metadata": {},
   "outputs": [],
   "source": [
    "# menyimpan pipeline untuklogreg\n",
    "pl_rf = Pipeline(\n",
    "    steps=[(\"preprocessor\", preprocessor),\n",
    "        (\"classifier\", RandomForestClassifier(n_estimators=100, criterion='gini', max_depth=5))]\n",
    ")"
   ]
  },
  {
   "cell_type": "code",
   "execution_count": 49,
   "metadata": {},
   "outputs": [
    {
     "data": {
      "text/html": [
       "<style>#sk-container-id-1 {color: black;background-color: white;}#sk-container-id-1 pre{padding: 0;}#sk-container-id-1 div.sk-toggleable {background-color: white;}#sk-container-id-1 label.sk-toggleable__label {cursor: pointer;display: block;width: 100%;margin-bottom: 0;padding: 0.3em;box-sizing: border-box;text-align: center;}#sk-container-id-1 label.sk-toggleable__label-arrow:before {content: \"▸\";float: left;margin-right: 0.25em;color: #696969;}#sk-container-id-1 label.sk-toggleable__label-arrow:hover:before {color: black;}#sk-container-id-1 div.sk-estimator:hover label.sk-toggleable__label-arrow:before {color: black;}#sk-container-id-1 div.sk-toggleable__content {max-height: 0;max-width: 0;overflow: hidden;text-align: left;background-color: #f0f8ff;}#sk-container-id-1 div.sk-toggleable__content pre {margin: 0.2em;color: black;border-radius: 0.25em;background-color: #f0f8ff;}#sk-container-id-1 input.sk-toggleable__control:checked~div.sk-toggleable__content {max-height: 200px;max-width: 100%;overflow: auto;}#sk-container-id-1 input.sk-toggleable__control:checked~label.sk-toggleable__label-arrow:before {content: \"▾\";}#sk-container-id-1 div.sk-estimator input.sk-toggleable__control:checked~label.sk-toggleable__label {background-color: #d4ebff;}#sk-container-id-1 div.sk-label input.sk-toggleable__control:checked~label.sk-toggleable__label {background-color: #d4ebff;}#sk-container-id-1 input.sk-hidden--visually {border: 0;clip: rect(1px 1px 1px 1px);clip: rect(1px, 1px, 1px, 1px);height: 1px;margin: -1px;overflow: hidden;padding: 0;position: absolute;width: 1px;}#sk-container-id-1 div.sk-estimator {font-family: monospace;background-color: #f0f8ff;border: 1px dotted black;border-radius: 0.25em;box-sizing: border-box;margin-bottom: 0.5em;}#sk-container-id-1 div.sk-estimator:hover {background-color: #d4ebff;}#sk-container-id-1 div.sk-parallel-item::after {content: \"\";width: 100%;border-bottom: 1px solid gray;flex-grow: 1;}#sk-container-id-1 div.sk-label:hover label.sk-toggleable__label {background-color: #d4ebff;}#sk-container-id-1 div.sk-serial::before {content: \"\";position: absolute;border-left: 1px solid gray;box-sizing: border-box;top: 0;bottom: 0;left: 50%;z-index: 0;}#sk-container-id-1 div.sk-serial {display: flex;flex-direction: column;align-items: center;background-color: white;padding-right: 0.2em;padding-left: 0.2em;position: relative;}#sk-container-id-1 div.sk-item {position: relative;z-index: 1;}#sk-container-id-1 div.sk-parallel {display: flex;align-items: stretch;justify-content: center;background-color: white;position: relative;}#sk-container-id-1 div.sk-item::before, #sk-container-id-1 div.sk-parallel-item::before {content: \"\";position: absolute;border-left: 1px solid gray;box-sizing: border-box;top: 0;bottom: 0;left: 50%;z-index: -1;}#sk-container-id-1 div.sk-parallel-item {display: flex;flex-direction: column;z-index: 1;position: relative;background-color: white;}#sk-container-id-1 div.sk-parallel-item:first-child::after {align-self: flex-end;width: 50%;}#sk-container-id-1 div.sk-parallel-item:last-child::after {align-self: flex-start;width: 50%;}#sk-container-id-1 div.sk-parallel-item:only-child::after {width: 0;}#sk-container-id-1 div.sk-dashed-wrapped {border: 1px dashed gray;margin: 0 0.4em 0.5em 0.4em;box-sizing: border-box;padding-bottom: 0.4em;background-color: white;}#sk-container-id-1 div.sk-label label {font-family: monospace;font-weight: bold;display: inline-block;line-height: 1.2em;}#sk-container-id-1 div.sk-label-container {text-align: center;}#sk-container-id-1 div.sk-container {/* jupyter's `normalize.less` sets `[hidden] { display: none; }` but bootstrap.min.css set `[hidden] { display: none !important; }` so we also need the `!important` here to be able to override the default hidden behavior on the sphinx rendered scikit-learn.org. See: https://github.com/scikit-learn/scikit-learn/issues/21755 */display: inline-block !important;position: relative;}#sk-container-id-1 div.sk-text-repr-fallback {display: none;}</style><div id=\"sk-container-id-1\" class=\"sk-top-container\"><div class=\"sk-text-repr-fallback\"><pre>Pipeline(steps=[(&#x27;preprocessor&#x27;,\n",
       "                 ColumnTransformer(transformers=[(&#x27;age_feat&#x27;, StandardScaler(),\n",
       "                                                  [&#x27;Age&#x27;]),\n",
       "                                                 (&#x27;type_feat&#x27;,\n",
       "                                                  OneHotEncoder(handle_unknown=&#x27;ignore&#x27;,\n",
       "                                                                sparse_output=False),\n",
       "                                                  [&#x27;Type_of_Travel&#x27;]),\n",
       "                                                 (&#x27;class_feat&#x27;,\n",
       "                                                  OrdinalEncoder(categories=[[&#x27;Eco&#x27;,\n",
       "                                                                              &#x27;Eco &#x27;\n",
       "                                                                              &#x27;Plus&#x27;,\n",
       "                                                                              &#x27;Business&#x27;]]),\n",
       "                                                  [&#x27;Class&#x27;]),\n",
       "                                                 (&#x27;distance_feat&#x27;,\n",
       "                                                  Pipeline(steps=[(&#x27;windsorizer1&#x27;,\n",
       "                                                                   Winsorizer(capping_met...\n",
       "                                                   &#x27;On-board_service&#x27;,\n",
       "                                                   &#x27;Leg_room_service&#x27;,\n",
       "                                                   &#x27;Checkin_service&#x27;,\n",
       "                                                   &#x27;Inflight_service&#x27;,\n",
       "                                                   &#x27;Cleanliness&#x27;]),\n",
       "                                                 (&#x27;delay_cols&#x27;,\n",
       "                                                  OrdinalEncoder(categories=[[&#x27;no &#x27;\n",
       "                                                                              &#x27;delay&#x27;,\n",
       "                                                                              &#x27;little &#x27;\n",
       "                                                                              &#x27;delay&#x27;,\n",
       "                                                                              &#x27;delayed&#x27;,\n",
       "                                                                              &#x27;very &#x27;\n",
       "                                                                              &#x27;delayed&#x27;],\n",
       "                                                                             [&#x27;no &#x27;\n",
       "                                                                              &#x27;delay&#x27;,\n",
       "                                                                              &#x27;little &#x27;\n",
       "                                                                              &#x27;delay&#x27;,\n",
       "                                                                              &#x27;delayed&#x27;,\n",
       "                                                                              &#x27;very &#x27;\n",
       "                                                                              &#x27;delayed&#x27;]]),\n",
       "                                                  [&#x27;Departure_Delay_in_Minutes&#x27;,\n",
       "                                                   &#x27;Arrival_Delay_in_Minutes&#x27;])])),\n",
       "                (&#x27;classifier&#x27;, RandomForestClassifier(max_depth=5))])</pre><b>In a Jupyter environment, please rerun this cell to show the HTML representation or trust the notebook. <br />On GitHub, the HTML representation is unable to render, please try loading this page with nbviewer.org.</b></div><div class=\"sk-container\" hidden><div class=\"sk-item sk-dashed-wrapped\"><div class=\"sk-label-container\"><div class=\"sk-label sk-toggleable\"><input class=\"sk-toggleable__control sk-hidden--visually\" id=\"sk-estimator-id-1\" type=\"checkbox\" ><label for=\"sk-estimator-id-1\" class=\"sk-toggleable__label sk-toggleable__label-arrow\">Pipeline</label><div class=\"sk-toggleable__content\"><pre>Pipeline(steps=[(&#x27;preprocessor&#x27;,\n",
       "                 ColumnTransformer(transformers=[(&#x27;age_feat&#x27;, StandardScaler(),\n",
       "                                                  [&#x27;Age&#x27;]),\n",
       "                                                 (&#x27;type_feat&#x27;,\n",
       "                                                  OneHotEncoder(handle_unknown=&#x27;ignore&#x27;,\n",
       "                                                                sparse_output=False),\n",
       "                                                  [&#x27;Type_of_Travel&#x27;]),\n",
       "                                                 (&#x27;class_feat&#x27;,\n",
       "                                                  OrdinalEncoder(categories=[[&#x27;Eco&#x27;,\n",
       "                                                                              &#x27;Eco &#x27;\n",
       "                                                                              &#x27;Plus&#x27;,\n",
       "                                                                              &#x27;Business&#x27;]]),\n",
       "                                                  [&#x27;Class&#x27;]),\n",
       "                                                 (&#x27;distance_feat&#x27;,\n",
       "                                                  Pipeline(steps=[(&#x27;windsorizer1&#x27;,\n",
       "                                                                   Winsorizer(capping_met...\n",
       "                                                   &#x27;On-board_service&#x27;,\n",
       "                                                   &#x27;Leg_room_service&#x27;,\n",
       "                                                   &#x27;Checkin_service&#x27;,\n",
       "                                                   &#x27;Inflight_service&#x27;,\n",
       "                                                   &#x27;Cleanliness&#x27;]),\n",
       "                                                 (&#x27;delay_cols&#x27;,\n",
       "                                                  OrdinalEncoder(categories=[[&#x27;no &#x27;\n",
       "                                                                              &#x27;delay&#x27;,\n",
       "                                                                              &#x27;little &#x27;\n",
       "                                                                              &#x27;delay&#x27;,\n",
       "                                                                              &#x27;delayed&#x27;,\n",
       "                                                                              &#x27;very &#x27;\n",
       "                                                                              &#x27;delayed&#x27;],\n",
       "                                                                             [&#x27;no &#x27;\n",
       "                                                                              &#x27;delay&#x27;,\n",
       "                                                                              &#x27;little &#x27;\n",
       "                                                                              &#x27;delay&#x27;,\n",
       "                                                                              &#x27;delayed&#x27;,\n",
       "                                                                              &#x27;very &#x27;\n",
       "                                                                              &#x27;delayed&#x27;]]),\n",
       "                                                  [&#x27;Departure_Delay_in_Minutes&#x27;,\n",
       "                                                   &#x27;Arrival_Delay_in_Minutes&#x27;])])),\n",
       "                (&#x27;classifier&#x27;, RandomForestClassifier(max_depth=5))])</pre></div></div></div><div class=\"sk-serial\"><div class=\"sk-item sk-dashed-wrapped\"><div class=\"sk-label-container\"><div class=\"sk-label sk-toggleable\"><input class=\"sk-toggleable__control sk-hidden--visually\" id=\"sk-estimator-id-2\" type=\"checkbox\" ><label for=\"sk-estimator-id-2\" class=\"sk-toggleable__label sk-toggleable__label-arrow\">preprocessor: ColumnTransformer</label><div class=\"sk-toggleable__content\"><pre>ColumnTransformer(transformers=[(&#x27;age_feat&#x27;, StandardScaler(), [&#x27;Age&#x27;]),\n",
       "                                (&#x27;type_feat&#x27;,\n",
       "                                 OneHotEncoder(handle_unknown=&#x27;ignore&#x27;,\n",
       "                                               sparse_output=False),\n",
       "                                 [&#x27;Type_of_Travel&#x27;]),\n",
       "                                (&#x27;class_feat&#x27;,\n",
       "                                 OrdinalEncoder(categories=[[&#x27;Eco&#x27;, &#x27;Eco Plus&#x27;,\n",
       "                                                             &#x27;Business&#x27;]]),\n",
       "                                 [&#x27;Class&#x27;]),\n",
       "                                (&#x27;distance_feat&#x27;,\n",
       "                                 Pipeline(steps=[(&#x27;windsorizer1&#x27;,\n",
       "                                                  Winsorizer(capping_method=&#x27;iqr&#x27;,\n",
       "                                                             fold=1.5,\n",
       "                                                             tail=&#x27;both&#x27;)),\n",
       "                                                 (...\n",
       "                                  &#x27;Online_boarding&#x27;, &#x27;Seat_comfort&#x27;,\n",
       "                                  &#x27;Inflight_entertainment&#x27;, &#x27;On-board_service&#x27;,\n",
       "                                  &#x27;Leg_room_service&#x27;, &#x27;Checkin_service&#x27;,\n",
       "                                  &#x27;Inflight_service&#x27;, &#x27;Cleanliness&#x27;]),\n",
       "                                (&#x27;delay_cols&#x27;,\n",
       "                                 OrdinalEncoder(categories=[[&#x27;no delay&#x27;,\n",
       "                                                             &#x27;little delay&#x27;,\n",
       "                                                             &#x27;delayed&#x27;,\n",
       "                                                             &#x27;very delayed&#x27;],\n",
       "                                                            [&#x27;no delay&#x27;,\n",
       "                                                             &#x27;little delay&#x27;,\n",
       "                                                             &#x27;delayed&#x27;,\n",
       "                                                             &#x27;very delayed&#x27;]]),\n",
       "                                 [&#x27;Departure_Delay_in_Minutes&#x27;,\n",
       "                                  &#x27;Arrival_Delay_in_Minutes&#x27;])])</pre></div></div></div><div class=\"sk-parallel\"><div class=\"sk-parallel-item\"><div class=\"sk-item\"><div class=\"sk-label-container\"><div class=\"sk-label sk-toggleable\"><input class=\"sk-toggleable__control sk-hidden--visually\" id=\"sk-estimator-id-3\" type=\"checkbox\" ><label for=\"sk-estimator-id-3\" class=\"sk-toggleable__label sk-toggleable__label-arrow\">age_feat</label><div class=\"sk-toggleable__content\"><pre>[&#x27;Age&#x27;]</pre></div></div></div><div class=\"sk-serial\"><div class=\"sk-item\"><div class=\"sk-estimator sk-toggleable\"><input class=\"sk-toggleable__control sk-hidden--visually\" id=\"sk-estimator-id-4\" type=\"checkbox\" ><label for=\"sk-estimator-id-4\" class=\"sk-toggleable__label sk-toggleable__label-arrow\">StandardScaler</label><div class=\"sk-toggleable__content\"><pre>StandardScaler()</pre></div></div></div></div></div></div><div class=\"sk-parallel-item\"><div class=\"sk-item\"><div class=\"sk-label-container\"><div class=\"sk-label sk-toggleable\"><input class=\"sk-toggleable__control sk-hidden--visually\" id=\"sk-estimator-id-5\" type=\"checkbox\" ><label for=\"sk-estimator-id-5\" class=\"sk-toggleable__label sk-toggleable__label-arrow\">type_feat</label><div class=\"sk-toggleable__content\"><pre>[&#x27;Type_of_Travel&#x27;]</pre></div></div></div><div class=\"sk-serial\"><div class=\"sk-item\"><div class=\"sk-estimator sk-toggleable\"><input class=\"sk-toggleable__control sk-hidden--visually\" id=\"sk-estimator-id-6\" type=\"checkbox\" ><label for=\"sk-estimator-id-6\" class=\"sk-toggleable__label sk-toggleable__label-arrow\">OneHotEncoder</label><div class=\"sk-toggleable__content\"><pre>OneHotEncoder(handle_unknown=&#x27;ignore&#x27;, sparse_output=False)</pre></div></div></div></div></div></div><div class=\"sk-parallel-item\"><div class=\"sk-item\"><div class=\"sk-label-container\"><div class=\"sk-label sk-toggleable\"><input class=\"sk-toggleable__control sk-hidden--visually\" id=\"sk-estimator-id-7\" type=\"checkbox\" ><label for=\"sk-estimator-id-7\" class=\"sk-toggleable__label sk-toggleable__label-arrow\">class_feat</label><div class=\"sk-toggleable__content\"><pre>[&#x27;Class&#x27;]</pre></div></div></div><div class=\"sk-serial\"><div class=\"sk-item\"><div class=\"sk-estimator sk-toggleable\"><input class=\"sk-toggleable__control sk-hidden--visually\" id=\"sk-estimator-id-8\" type=\"checkbox\" ><label for=\"sk-estimator-id-8\" class=\"sk-toggleable__label sk-toggleable__label-arrow\">OrdinalEncoder</label><div class=\"sk-toggleable__content\"><pre>OrdinalEncoder(categories=[[&#x27;Eco&#x27;, &#x27;Eco Plus&#x27;, &#x27;Business&#x27;]])</pre></div></div></div></div></div></div><div class=\"sk-parallel-item\"><div class=\"sk-item\"><div class=\"sk-label-container\"><div class=\"sk-label sk-toggleable\"><input class=\"sk-toggleable__control sk-hidden--visually\" id=\"sk-estimator-id-9\" type=\"checkbox\" ><label for=\"sk-estimator-id-9\" class=\"sk-toggleable__label sk-toggleable__label-arrow\">distance_feat</label><div class=\"sk-toggleable__content\"><pre>[&#x27;Flight_Distance&#x27;]</pre></div></div></div><div class=\"sk-serial\"><div class=\"sk-item\"><div class=\"sk-serial\"><div class=\"sk-item\"><div class=\"sk-estimator sk-toggleable\"><input class=\"sk-toggleable__control sk-hidden--visually\" id=\"sk-estimator-id-10\" type=\"checkbox\" ><label for=\"sk-estimator-id-10\" class=\"sk-toggleable__label sk-toggleable__label-arrow\">Winsorizer</label><div class=\"sk-toggleable__content\"><pre>Winsorizer(capping_method=&#x27;iqr&#x27;, fold=1.5, tail=&#x27;both&#x27;)</pre></div></div></div><div class=\"sk-item\"><div class=\"sk-estimator sk-toggleable\"><input class=\"sk-toggleable__control sk-hidden--visually\" id=\"sk-estimator-id-11\" type=\"checkbox\" ><label for=\"sk-estimator-id-11\" class=\"sk-toggleable__label sk-toggleable__label-arrow\">StandardScaler</label><div class=\"sk-toggleable__content\"><pre>StandardScaler()</pre></div></div></div></div></div></div></div></div><div class=\"sk-parallel-item\"><div class=\"sk-item\"><div class=\"sk-label-container\"><div class=\"sk-label sk-toggleable\"><input class=\"sk-toggleable__control sk-hidden--visually\" id=\"sk-estimator-id-12\" type=\"checkbox\" ><label for=\"sk-estimator-id-12\" class=\"sk-toggleable__label sk-toggleable__label-arrow\">ord_cols</label><div class=\"sk-toggleable__content\"><pre>[&#x27;Inflight_wifi_service&#x27;, &#x27;Ease_of_Online_booking&#x27;, &#x27;Food_and_drink&#x27;, &#x27;Online_boarding&#x27;, &#x27;Seat_comfort&#x27;, &#x27;Inflight_entertainment&#x27;, &#x27;On-board_service&#x27;, &#x27;Leg_room_service&#x27;, &#x27;Checkin_service&#x27;, &#x27;Inflight_service&#x27;, &#x27;Cleanliness&#x27;]</pre></div></div></div><div class=\"sk-serial\"><div class=\"sk-item\"><div class=\"sk-estimator sk-toggleable\"><input class=\"sk-toggleable__control sk-hidden--visually\" id=\"sk-estimator-id-13\" type=\"checkbox\" ><label for=\"sk-estimator-id-13\" class=\"sk-toggleable__label sk-toggleable__label-arrow\">OrdinalEncoder</label><div class=\"sk-toggleable__content\"><pre>OrdinalEncoder(categories=[[0, 1, 2, 3, 4, 5], [0, 1, 2, 3, 4, 5],\n",
       "                           [0, 1, 2, 3, 4, 5], [0, 1, 2, 3, 4, 5],\n",
       "                           [0, 1, 2, 3, 4, 5], [0, 1, 2, 3, 4, 5],\n",
       "                           [0, 1, 2, 3, 4, 5], [0, 1, 2, 3, 4, 5],\n",
       "                           [0, 1, 2, 3, 4, 5], [0, 1, 2, 3, 4, 5],\n",
       "                           [0, 1, 2, 3, 4, 5]])</pre></div></div></div></div></div></div><div class=\"sk-parallel-item\"><div class=\"sk-item\"><div class=\"sk-label-container\"><div class=\"sk-label sk-toggleable\"><input class=\"sk-toggleable__control sk-hidden--visually\" id=\"sk-estimator-id-14\" type=\"checkbox\" ><label for=\"sk-estimator-id-14\" class=\"sk-toggleable__label sk-toggleable__label-arrow\">delay_cols</label><div class=\"sk-toggleable__content\"><pre>[&#x27;Departure_Delay_in_Minutes&#x27;, &#x27;Arrival_Delay_in_Minutes&#x27;]</pre></div></div></div><div class=\"sk-serial\"><div class=\"sk-item\"><div class=\"sk-estimator sk-toggleable\"><input class=\"sk-toggleable__control sk-hidden--visually\" id=\"sk-estimator-id-15\" type=\"checkbox\" ><label for=\"sk-estimator-id-15\" class=\"sk-toggleable__label sk-toggleable__label-arrow\">OrdinalEncoder</label><div class=\"sk-toggleable__content\"><pre>OrdinalEncoder(categories=[[&#x27;no delay&#x27;, &#x27;little delay&#x27;, &#x27;delayed&#x27;,\n",
       "                            &#x27;very delayed&#x27;],\n",
       "                           [&#x27;no delay&#x27;, &#x27;little delay&#x27;, &#x27;delayed&#x27;,\n",
       "                            &#x27;very delayed&#x27;]])</pre></div></div></div></div></div></div></div></div><div class=\"sk-item\"><div class=\"sk-estimator sk-toggleable\"><input class=\"sk-toggleable__control sk-hidden--visually\" id=\"sk-estimator-id-16\" type=\"checkbox\" ><label for=\"sk-estimator-id-16\" class=\"sk-toggleable__label sk-toggleable__label-arrow\">RandomForestClassifier</label><div class=\"sk-toggleable__content\"><pre>RandomForestClassifier(max_depth=5)</pre></div></div></div></div></div></div></div>"
      ],
      "text/plain": [
       "Pipeline(steps=[('preprocessor',\n",
       "                 ColumnTransformer(transformers=[('age_feat', StandardScaler(),\n",
       "                                                  ['Age']),\n",
       "                                                 ('type_feat',\n",
       "                                                  OneHotEncoder(handle_unknown='ignore',\n",
       "                                                                sparse_output=False),\n",
       "                                                  ['Type_of_Travel']),\n",
       "                                                 ('class_feat',\n",
       "                                                  OrdinalEncoder(categories=[['Eco',\n",
       "                                                                              'Eco '\n",
       "                                                                              'Plus',\n",
       "                                                                              'Business']]),\n",
       "                                                  ['Class']),\n",
       "                                                 ('distance_feat',\n",
       "                                                  Pipeline(steps=[('windsorizer1',\n",
       "                                                                   Winsorizer(capping_met...\n",
       "                                                   'On-board_service',\n",
       "                                                   'Leg_room_service',\n",
       "                                                   'Checkin_service',\n",
       "                                                   'Inflight_service',\n",
       "                                                   'Cleanliness']),\n",
       "                                                 ('delay_cols',\n",
       "                                                  OrdinalEncoder(categories=[['no '\n",
       "                                                                              'delay',\n",
       "                                                                              'little '\n",
       "                                                                              'delay',\n",
       "                                                                              'delayed',\n",
       "                                                                              'very '\n",
       "                                                                              'delayed'],\n",
       "                                                                             ['no '\n",
       "                                                                              'delay',\n",
       "                                                                              'little '\n",
       "                                                                              'delay',\n",
       "                                                                              'delayed',\n",
       "                                                                              'very '\n",
       "                                                                              'delayed']]),\n",
       "                                                  ['Departure_Delay_in_Minutes',\n",
       "                                                   'Arrival_Delay_in_Minutes'])])),\n",
       "                ('classifier', RandomForestClassifier(max_depth=5))])"
      ]
     },
     "execution_count": 49,
     "metadata": {},
     "output_type": "execute_result"
    }
   ],
   "source": [
    "# melakukan fit ke data train\n",
    "pl_rf.fit(X_train_new, y_train_new)"
   ]
  },
  {
   "cell_type": "code",
   "execution_count": 50,
   "metadata": {},
   "outputs": [],
   "source": [
    "#predict\n",
    "pred_train_rf = pl_rf.predict(X_train_new)\n",
    "pred_test_rf = pl_rf.predict(X_test_new)"
   ]
  },
  {
   "cell_type": "code",
   "execution_count": 51,
   "metadata": {},
   "outputs": [
    {
     "name": "stdout",
     "output_type": "stream",
     "text": [
      "Confusion Matrix      : \n",
      " <sklearn.metrics._plot.confusion_matrix.ConfusionMatrixDisplay object at 0x000001ECC2CFDC70>\n"
     ]
    },
    {
     "data": {
      "image/png": "[encoded data removed]",
      "text/plain": [
       "<Figure size 640x480 with 2 Axes>"
      ]
     },
     "metadata": {},
     "output_type": "display_data"
    }
   ],
   "source": [
    "#display confusion matrix untuk xgboost\n",
    "print('Confusion Matrix      : \\n', ConfusionMatrixDisplay.from_estimator(pl_rf, X_test_new, y_test, cmap='Reds'))"
   ]
  },
  {
   "attachments": {},
   "cell_type": "markdown",
   "metadata": {},
   "source": [
    "Berdasarkan hasil tersebut, dapat disimpulkan bahwa model telah bekerja dengan baik dalam memprediksi kelas positif dan negatif. Namun, terdapat kesalahan mengklasifikasikan 874 sampel negatif sebagai positif (FP), yang berarti masih ada ruang untuk perbaikan dalam kemampuan model untuk mengidentifikasi sampel yang benar-benar negatif."
   ]
  },
  {
   "cell_type": "code",
   "execution_count": 52,
   "metadata": {},
   "outputs": [
    {
     "name": "stdout",
     "output_type": "stream",
     "text": [
      "Classification Report Random Forest Train : \n",
      "                          precision    recall  f1-score   support\n",
      "\n",
      "neutral or dissatisfied       0.93      0.93      0.93     47103\n",
      "              satisfied       0.91      0.91      0.91     36020\n",
      "\n",
      "               accuracy                           0.92     83123\n",
      "              macro avg       0.92      0.92      0.92     83123\n",
      "           weighted avg       0.92      0.92      0.92     83123\n",
      " \n",
      "\n",
      "ROC 0.971862584321012 \n",
      "\n",
      "Classification Report Random Forest Test : \n",
      "                          precision    recall  f1-score   support\n",
      "\n",
      "neutral or dissatisfied       0.93      0.92      0.93     11776\n",
      "              satisfied       0.90      0.91      0.91      9005\n",
      "\n",
      "               accuracy                           0.92     20781\n",
      "              macro avg       0.92      0.92      0.92     20781\n",
      "           weighted avg       0.92      0.92      0.92     20781\n",
      " \n",
      "\n",
      "ROC 0.9705539730720252 \n",
      "\n"
     ]
    }
   ],
   "source": [
    "#melihat classification report atau hasil permodelan\n",
    "print('Classification Report Random Forest Train : \\n', classification_report(y_train_new, pred_train_rf), '\\n')\n",
    "\n",
    "# Menghitung ROC\n",
    "probarf_train = pl_rf.predict_proba(X_train_new)\n",
    "print('ROC', roc_auc_score(y_train_new, probarf_train[:,1]), '\\n')\n",
    "\n",
    "\n",
    "print('Classification Report Random Forest Test : \\n', classification_report(y_test, pred_test_rf), '\\n')\n",
    "\n",
    "# Menghitung ROC\n",
    "probarf_test = pl_rf.predict_proba(X_test_new)\n",
    "print('ROC', roc_auc_score(y_test, probarf_test[:,1]), '\\n')"
   ]
  },
  {
   "attachments": {},
   "cell_type": "markdown",
   "metadata": {},
   "source": [
    "* Berdasarkan classification report, model terlihat goodfit. precision, recall, dan skor f1 tinggi untuk train set dan test set, dengan hanya sedikit penurunan untuk test set pada precision untuk kelas satisfied, seperti yang diharapkan. accuracy juga tinggi untuk kedua set. Selain itu, macro avg dan weighted avg untuk kedua set sangat mirip, yang menunjukkan bahwa model bekerja secara konsisten di kedua kelas yang berbeda.\n",
    "* Selain itu, skor ROC untuk data train set dan test set tinggi dan mendekati 1, menunjukkan bahwa model tersebut memiliki tingkat true positive yang tinggi dan tingkat false positive yang rendah, yang berarti bahwa model tersebut mampu membedakan dengan baik antara kelas positif dan negatif."
   ]
  },
  {
   "attachments": {},
   "cell_type": "markdown",
   "metadata": {},
   "source": [
    "**`XGBoost`**"
   ]
  },
  {
   "attachments": {},
   "cell_type": "markdown",
   "metadata": {},
   "source": [
    "Karena model xgboost harus numerik maupun pada kolom target"
   ]
  },
  {
   "cell_type": "code",
   "execution_count": 53,
   "metadata": {},
   "outputs": [],
   "source": [
    "# mereplace menjadi 0 dan 1 pada kolom target\n",
    "y_train_xg = y_train_new.replace({'neutral or dissatisfied': 0, 'satisfied': 1})"
   ]
  },
  {
   "cell_type": "code",
   "execution_count": 54,
   "metadata": {},
   "outputs": [],
   "source": [
    "y_test_xg = y_test.replace({'neutral or dissatisfied': 0, 'satisfied': 1})"
   ]
  },
  {
   "cell_type": "code",
   "execution_count": 55,
   "metadata": {},
   "outputs": [],
   "source": [
    "# menyimpan pipeline untuk preprocess dan model\n",
    "pl_xgboost = Pipeline(\n",
    "    steps=[(\"preprocessor\", preprocessor),\n",
    "           (\"classifier\" ,XGBClassifier(n_estimators=200,random_state=42))]\n",
    ")"
   ]
  },
  {
   "cell_type": "code",
   "execution_count": 56,
   "metadata": {},
   "outputs": [
    {
     "data": {
      "text/html": [
       "<style>#sk-container-id-2 {color: black;background-color: white;}#sk-container-id-2 pre{padding: 0;}#sk-container-id-2 div.sk-toggleable {background-color: white;}#sk-container-id-2 label.sk-toggleable__label {cursor: pointer;display: block;width: 100%;margin-bottom: 0;padding: 0.3em;box-sizing: border-box;text-align: center;}#sk-container-id-2 label.sk-toggleable__label-arrow:before {content: \"▸\";float: left;margin-right: 0.25em;color: #696969;}#sk-container-id-2 label.sk-toggleable__label-arrow:hover:before {color: black;}#sk-container-id-2 div.sk-estimator:hover label.sk-toggleable__label-arrow:before {color: black;}#sk-container-id-2 div.sk-toggleable__content {max-height: 0;max-width: 0;overflow: hidden;text-align: left;background-color: #f0f8ff;}#sk-container-id-2 div.sk-toggleable__content pre {margin: 0.2em;color: black;border-radius: 0.25em;background-color: #f0f8ff;}#sk-container-id-2 input.sk-toggleable__control:checked~div.sk-toggleable__content {max-height: 200px;max-width: 100%;overflow: auto;}#sk-container-id-2 input.sk-toggleable__control:checked~label.sk-toggleable__label-arrow:before {content: \"▾\";}#sk-container-id-2 div.sk-estimator input.sk-toggleable__control:checked~label.sk-toggleable__label {background-color: #d4ebff;}#sk-container-id-2 div.sk-label input.sk-toggleable__control:checked~label.sk-toggleable__label {background-color: #d4ebff;}#sk-container-id-2 input.sk-hidden--visually {border: 0;clip: rect(1px 1px 1px 1px);clip: rect(1px, 1px, 1px, 1px);height: 1px;margin: -1px;overflow: hidden;padding: 0;position: absolute;width: 1px;}#sk-container-id-2 div.sk-estimator {font-family: monospace;background-color: #f0f8ff;border: 1px dotted black;border-radius: 0.25em;box-sizing: border-box;margin-bottom: 0.5em;}#sk-container-id-2 div.sk-estimator:hover {background-color: #d4ebff;}#sk-container-id-2 div.sk-parallel-item::after {content: \"\";width: 100%;border-bottom: 1px solid gray;flex-grow: 1;}#sk-container-id-2 div.sk-label:hover label.sk-toggleable__label {background-color: #d4ebff;}#sk-container-id-2 div.sk-serial::before {content: \"\";position: absolute;border-left: 1px solid gray;box-sizing: border-box;top: 0;bottom: 0;left: 50%;z-index: 0;}#sk-container-id-2 div.sk-serial {display: flex;flex-direction: column;align-items: center;background-color: white;padding-right: 0.2em;padding-left: 0.2em;position: relative;}#sk-container-id-2 div.sk-item {position: relative;z-index: 1;}#sk-container-id-2 div.sk-parallel {display: flex;align-items: stretch;justify-content: center;background-color: white;position: relative;}#sk-container-id-2 div.sk-item::before, #sk-container-id-2 div.sk-parallel-item::before {content: \"\";position: absolute;border-left: 1px solid gray;box-sizing: border-box;top: 0;bottom: 0;left: 50%;z-index: -1;}#sk-container-id-2 div.sk-parallel-item {display: flex;flex-direction: column;z-index: 1;position: relative;background-color: white;}#sk-container-id-2 div.sk-parallel-item:first-child::after {align-self: flex-end;width: 50%;}#sk-container-id-2 div.sk-parallel-item:last-child::after {align-self: flex-start;width: 50%;}#sk-container-id-2 div.sk-parallel-item:only-child::after {width: 0;}#sk-container-id-2 div.sk-dashed-wrapped {border: 1px dashed gray;margin: 0 0.4em 0.5em 0.4em;box-sizing: border-box;padding-bottom: 0.4em;background-color: white;}#sk-container-id-2 div.sk-label label {font-family: monospace;font-weight: bold;display: inline-block;line-height: 1.2em;}#sk-container-id-2 div.sk-label-container {text-align: center;}#sk-container-id-2 div.sk-container {/* jupyter's `normalize.less` sets `[hidden] { display: none; }` but bootstrap.min.css set `[hidden] { display: none !important; }` so we also need the `!important` here to be able to override the default hidden behavior on the sphinx rendered scikit-learn.org. See: https://github.com/scikit-learn/scikit-learn/issues/21755 */display: inline-block !important;position: relative;}#sk-container-id-2 div.sk-text-repr-fallback {display: none;}</style><div id=\"sk-container-id-2\" class=\"sk-top-container\"><div class=\"sk-text-repr-fallback\"><pre>Pipeline(steps=[(&#x27;preprocessor&#x27;,\n",
       "                 ColumnTransformer(transformers=[(&#x27;age_feat&#x27;, StandardScaler(),\n",
       "                                                  [&#x27;Age&#x27;]),\n",
       "                                                 (&#x27;type_feat&#x27;,\n",
       "                                                  OneHotEncoder(handle_unknown=&#x27;ignore&#x27;,\n",
       "                                                                sparse_output=False),\n",
       "                                                  [&#x27;Type_of_Travel&#x27;]),\n",
       "                                                 (&#x27;class_feat&#x27;,\n",
       "                                                  OrdinalEncoder(categories=[[&#x27;Eco&#x27;,\n",
       "                                                                              &#x27;Eco &#x27;\n",
       "                                                                              &#x27;Plus&#x27;,\n",
       "                                                                              &#x27;Business&#x27;]]),\n",
       "                                                  [&#x27;Class&#x27;]),\n",
       "                                                 (&#x27;distance_feat&#x27;,\n",
       "                                                  Pipeline(steps=[(&#x27;windsorizer1&#x27;,\n",
       "                                                                   Winsorizer(capping_met...\n",
       "                               feature_types=None, gamma=None, gpu_id=None,\n",
       "                               grow_policy=None, importance_type=None,\n",
       "                               interaction_constraints=None, learning_rate=None,\n",
       "                               max_bin=None, max_cat_threshold=None,\n",
       "                               max_cat_to_onehot=None, max_delta_step=None,\n",
       "                               max_depth=None, max_leaves=None,\n",
       "                               min_child_weight=None, missing=nan,\n",
       "                               monotone_constraints=None, n_estimators=200,\n",
       "                               n_jobs=None, num_parallel_tree=None,\n",
       "                               predictor=None, random_state=42, ...))])</pre><b>In a Jupyter environment, please rerun this cell to show the HTML representation or trust the notebook. <br />On GitHub, the HTML representation is unable to render, please try loading this page with nbviewer.org.</b></div><div class=\"sk-container\" hidden><div class=\"sk-item sk-dashed-wrapped\"><div class=\"sk-label-container\"><div class=\"sk-label sk-toggleable\"><input class=\"sk-toggleable__control sk-hidden--visually\" id=\"sk-estimator-id-17\" type=\"checkbox\" ><label for=\"sk-estimator-id-17\" class=\"sk-toggleable__label sk-toggleable__label-arrow\">Pipeline</label><div class=\"sk-toggleable__content\"><pre>Pipeline(steps=[(&#x27;preprocessor&#x27;,\n",
       "                 ColumnTransformer(transformers=[(&#x27;age_feat&#x27;, StandardScaler(),\n",
       "                                                  [&#x27;Age&#x27;]),\n",
       "                                                 (&#x27;type_feat&#x27;,\n",
       "                                                  OneHotEncoder(handle_unknown=&#x27;ignore&#x27;,\n",
       "                                                                sparse_output=False),\n",
       "                                                  [&#x27;Type_of_Travel&#x27;]),\n",
       "                                                 (&#x27;class_feat&#x27;,\n",
       "                                                  OrdinalEncoder(categories=[[&#x27;Eco&#x27;,\n",
       "                                                                              &#x27;Eco &#x27;\n",
       "                                                                              &#x27;Plus&#x27;,\n",
       "                                                                              &#x27;Business&#x27;]]),\n",
       "                                                  [&#x27;Class&#x27;]),\n",
       "                                                 (&#x27;distance_feat&#x27;,\n",
       "                                                  Pipeline(steps=[(&#x27;windsorizer1&#x27;,\n",
       "                                                                   Winsorizer(capping_met...\n",
       "                               feature_types=None, gamma=None, gpu_id=None,\n",
       "                               grow_policy=None, importance_type=None,\n",
       "                               interaction_constraints=None, learning_rate=None,\n",
       "                               max_bin=None, max_cat_threshold=None,\n",
       "                               max_cat_to_onehot=None, max_delta_step=None,\n",
       "                               max_depth=None, max_leaves=None,\n",
       "                               min_child_weight=None, missing=nan,\n",
       "                               monotone_constraints=None, n_estimators=200,\n",
       "                               n_jobs=None, num_parallel_tree=None,\n",
       "                               predictor=None, random_state=42, ...))])</pre></div></div></div><div class=\"sk-serial\"><div class=\"sk-item sk-dashed-wrapped\"><div class=\"sk-label-container\"><div class=\"sk-label sk-toggleable\"><input class=\"sk-toggleable__control sk-hidden--visually\" id=\"sk-estimator-id-18\" type=\"checkbox\" ><label for=\"sk-estimator-id-18\" class=\"sk-toggleable__label sk-toggleable__label-arrow\">preprocessor: ColumnTransformer</label><div class=\"sk-toggleable__content\"><pre>ColumnTransformer(transformers=[(&#x27;age_feat&#x27;, StandardScaler(), [&#x27;Age&#x27;]),\n",
       "                                (&#x27;type_feat&#x27;,\n",
       "                                 OneHotEncoder(handle_unknown=&#x27;ignore&#x27;,\n",
       "                                               sparse_output=False),\n",
       "                                 [&#x27;Type_of_Travel&#x27;]),\n",
       "                                (&#x27;class_feat&#x27;,\n",
       "                                 OrdinalEncoder(categories=[[&#x27;Eco&#x27;, &#x27;Eco Plus&#x27;,\n",
       "                                                             &#x27;Business&#x27;]]),\n",
       "                                 [&#x27;Class&#x27;]),\n",
       "                                (&#x27;distance_feat&#x27;,\n",
       "                                 Pipeline(steps=[(&#x27;windsorizer1&#x27;,\n",
       "                                                  Winsorizer(capping_method=&#x27;iqr&#x27;,\n",
       "                                                             fold=1.5,\n",
       "                                                             tail=&#x27;both&#x27;)),\n",
       "                                                 (...\n",
       "                                  &#x27;Online_boarding&#x27;, &#x27;Seat_comfort&#x27;,\n",
       "                                  &#x27;Inflight_entertainment&#x27;, &#x27;On-board_service&#x27;,\n",
       "                                  &#x27;Leg_room_service&#x27;, &#x27;Checkin_service&#x27;,\n",
       "                                  &#x27;Inflight_service&#x27;, &#x27;Cleanliness&#x27;]),\n",
       "                                (&#x27;delay_cols&#x27;,\n",
       "                                 OrdinalEncoder(categories=[[&#x27;no delay&#x27;,\n",
       "                                                             &#x27;little delay&#x27;,\n",
       "                                                             &#x27;delayed&#x27;,\n",
       "                                                             &#x27;very delayed&#x27;],\n",
       "                                                            [&#x27;no delay&#x27;,\n",
       "                                                             &#x27;little delay&#x27;,\n",
       "                                                             &#x27;delayed&#x27;,\n",
       "                                                             &#x27;very delayed&#x27;]]),\n",
       "                                 [&#x27;Departure_Delay_in_Minutes&#x27;,\n",
       "                                  &#x27;Arrival_Delay_in_Minutes&#x27;])])</pre></div></div></div><div class=\"sk-parallel\"><div class=\"sk-parallel-item\"><div class=\"sk-item\"><div class=\"sk-label-container\"><div class=\"sk-label sk-toggleable\"><input class=\"sk-toggleable__control sk-hidden--visually\" id=\"sk-estimator-id-19\" type=\"checkbox\" ><label for=\"sk-estimator-id-19\" class=\"sk-toggleable__label sk-toggleable__label-arrow\">age_feat</label><div class=\"sk-toggleable__content\"><pre>[&#x27;Age&#x27;]</pre></div></div></div><div class=\"sk-serial\"><div class=\"sk-item\"><div class=\"sk-estimator sk-toggleable\"><input class=\"sk-toggleable__control sk-hidden--visually\" id=\"sk-estimator-id-20\" type=\"checkbox\" ><label for=\"sk-estimator-id-20\" class=\"sk-toggleable__label sk-toggleable__label-arrow\">StandardScaler</label><div class=\"sk-toggleable__content\"><pre>StandardScaler()</pre></div></div></div></div></div></div><div class=\"sk-parallel-item\"><div class=\"sk-item\"><div class=\"sk-label-container\"><div class=\"sk-label sk-toggleable\"><input class=\"sk-toggleable__control sk-hidden--visually\" id=\"sk-estimator-id-21\" type=\"checkbox\" ><label for=\"sk-estimator-id-21\" class=\"sk-toggleable__label sk-toggleable__label-arrow\">type_feat</label><div class=\"sk-toggleable__content\"><pre>[&#x27;Type_of_Travel&#x27;]</pre></div></div></div><div class=\"sk-serial\"><div class=\"sk-item\"><div class=\"sk-estimator sk-toggleable\"><input class=\"sk-toggleable__control sk-hidden--visually\" id=\"sk-estimator-id-22\" type=\"checkbox\" ><label for=\"sk-estimator-id-22\" class=\"sk-toggleable__label sk-toggleable__label-arrow\">OneHotEncoder</label><div class=\"sk-toggleable__content\"><pre>OneHotEncoder(handle_unknown=&#x27;ignore&#x27;, sparse_output=False)</pre></div></div></div></div></div></div><div class=\"sk-parallel-item\"><div class=\"sk-item\"><div class=\"sk-label-container\"><div class=\"sk-label sk-toggleable\"><input class=\"sk-toggleable__control sk-hidden--visually\" id=\"sk-estimator-id-23\" type=\"checkbox\" ><label for=\"sk-estimator-id-23\" class=\"sk-toggleable__label sk-toggleable__label-arrow\">class_feat</label><div class=\"sk-toggleable__content\"><pre>[&#x27;Class&#x27;]</pre></div></div></div><div class=\"sk-serial\"><div class=\"sk-item\"><div class=\"sk-estimator sk-toggleable\"><input class=\"sk-toggleable__control sk-hidden--visually\" id=\"sk-estimator-id-24\" type=\"checkbox\" ><label for=\"sk-estimator-id-24\" class=\"sk-toggleable__label sk-toggleable__label-arrow\">OrdinalEncoder</label><div class=\"sk-toggleable__content\"><pre>OrdinalEncoder(categories=[[&#x27;Eco&#x27;, &#x27;Eco Plus&#x27;, &#x27;Business&#x27;]])</pre></div></div></div></div></div></div><div class=\"sk-parallel-item\"><div class=\"sk-item\"><div class=\"sk-label-container\"><div class=\"sk-label sk-toggleable\"><input class=\"sk-toggleable__control sk-hidden--visually\" id=\"sk-estimator-id-25\" type=\"checkbox\" ><label for=\"sk-estimator-id-25\" class=\"sk-toggleable__label sk-toggleable__label-arrow\">distance_feat</label><div class=\"sk-toggleable__content\"><pre>[&#x27;Flight_Distance&#x27;]</pre></div></div></div><div class=\"sk-serial\"><div class=\"sk-item\"><div class=\"sk-serial\"><div class=\"sk-item\"><div class=\"sk-estimator sk-toggleable\"><input class=\"sk-toggleable__control sk-hidden--visually\" id=\"sk-estimator-id-26\" type=\"checkbox\" ><label for=\"sk-estimator-id-26\" class=\"sk-toggleable__label sk-toggleable__label-arrow\">Winsorizer</label><div class=\"sk-toggleable__content\"><pre>Winsorizer(capping_method=&#x27;iqr&#x27;, fold=1.5, tail=&#x27;both&#x27;)</pre></div></div></div><div class=\"sk-item\"><div class=\"sk-estimator sk-toggleable\"><input class=\"sk-toggleable__control sk-hidden--visually\" id=\"sk-estimator-id-27\" type=\"checkbox\" ><label for=\"sk-estimator-id-27\" class=\"sk-toggleable__label sk-toggleable__label-arrow\">StandardScaler</label><div class=\"sk-toggleable__content\"><pre>StandardScaler()</pre></div></div></div></div></div></div></div></div><div class=\"sk-parallel-item\"><div class=\"sk-item\"><div class=\"sk-label-container\"><div class=\"sk-label sk-toggleable\"><input class=\"sk-toggleable__control sk-hidden--visually\" id=\"sk-estimator-id-28\" type=\"checkbox\" ><label for=\"sk-estimator-id-28\" class=\"sk-toggleable__label sk-toggleable__label-arrow\">ord_cols</label><div class=\"sk-toggleable__content\"><pre>[&#x27;Inflight_wifi_service&#x27;, &#x27;Ease_of_Online_booking&#x27;, &#x27;Food_and_drink&#x27;, &#x27;Online_boarding&#x27;, &#x27;Seat_comfort&#x27;, &#x27;Inflight_entertainment&#x27;, &#x27;On-board_service&#x27;, &#x27;Leg_room_service&#x27;, &#x27;Checkin_service&#x27;, &#x27;Inflight_service&#x27;, &#x27;Cleanliness&#x27;]</pre></div></div></div><div class=\"sk-serial\"><div class=\"sk-item\"><div class=\"sk-estimator sk-toggleable\"><input class=\"sk-toggleable__control sk-hidden--visually\" id=\"sk-estimator-id-29\" type=\"checkbox\" ><label for=\"sk-estimator-id-29\" class=\"sk-toggleable__label sk-toggleable__label-arrow\">OrdinalEncoder</label><div class=\"sk-toggleable__content\"><pre>OrdinalEncoder(categories=[[0, 1, 2, 3, 4, 5], [0, 1, 2, 3, 4, 5],\n",
       "                           [0, 1, 2, 3, 4, 5], [0, 1, 2, 3, 4, 5],\n",
       "                           [0, 1, 2, 3, 4, 5], [0, 1, 2, 3, 4, 5],\n",
       "                           [0, 1, 2, 3, 4, 5], [0, 1, 2, 3, 4, 5],\n",
       "                           [0, 1, 2, 3, 4, 5], [0, 1, 2, 3, 4, 5],\n",
       "                           [0, 1, 2, 3, 4, 5]])</pre></div></div></div></div></div></div><div class=\"sk-parallel-item\"><div class=\"sk-item\"><div class=\"sk-label-container\"><div class=\"sk-label sk-toggleable\"><input class=\"sk-toggleable__control sk-hidden--visually\" id=\"sk-estimator-id-30\" type=\"checkbox\" ><label for=\"sk-estimator-id-30\" class=\"sk-toggleable__label sk-toggleable__label-arrow\">delay_cols</label><div class=\"sk-toggleable__content\"><pre>[&#x27;Departure_Delay_in_Minutes&#x27;, &#x27;Arrival_Delay_in_Minutes&#x27;]</pre></div></div></div><div class=\"sk-serial\"><div class=\"sk-item\"><div class=\"sk-estimator sk-toggleable\"><input class=\"sk-toggleable__control sk-hidden--visually\" id=\"sk-estimator-id-31\" type=\"checkbox\" ><label for=\"sk-estimator-id-31\" class=\"sk-toggleable__label sk-toggleable__label-arrow\">OrdinalEncoder</label><div class=\"sk-toggleable__content\"><pre>OrdinalEncoder(categories=[[&#x27;no delay&#x27;, &#x27;little delay&#x27;, &#x27;delayed&#x27;,\n",
       "                            &#x27;very delayed&#x27;],\n",
       "                           [&#x27;no delay&#x27;, &#x27;little delay&#x27;, &#x27;delayed&#x27;,\n",
       "                            &#x27;very delayed&#x27;]])</pre></div></div></div></div></div></div></div></div><div class=\"sk-item\"><div class=\"sk-estimator sk-toggleable\"><input class=\"sk-toggleable__control sk-hidden--visually\" id=\"sk-estimator-id-32\" type=\"checkbox\" ><label for=\"sk-estimator-id-32\" class=\"sk-toggleable__label sk-toggleable__label-arrow\">XGBClassifier</label><div class=\"sk-toggleable__content\"><pre>XGBClassifier(base_score=None, booster=None, callbacks=None,\n",
       "              colsample_bylevel=None, colsample_bynode=None,\n",
       "              colsample_bytree=None, early_stopping_rounds=None,\n",
       "              enable_categorical=False, eval_metric=None, feature_types=None,\n",
       "              gamma=None, gpu_id=None, grow_policy=None, importance_type=None,\n",
       "              interaction_constraints=None, learning_rate=None, max_bin=None,\n",
       "              max_cat_threshold=None, max_cat_to_onehot=None,\n",
       "              max_delta_step=None, max_depth=None, max_leaves=None,\n",
       "              min_child_weight=None, missing=nan, monotone_constraints=None,\n",
       "              n_estimators=200, n_jobs=None, num_parallel_tree=None,\n",
       "              predictor=None, random_state=42, ...)</pre></div></div></div></div></div></div></div>"
      ],
      "text/plain": [
       "Pipeline(steps=[('preprocessor',\n",
       "                 ColumnTransformer(transformers=[('age_feat', StandardScaler(),\n",
       "                                                  ['Age']),\n",
       "                                                 ('type_feat',\n",
       "                                                  OneHotEncoder(handle_unknown='ignore',\n",
       "                                                                sparse_output=False),\n",
       "                                                  ['Type_of_Travel']),\n",
       "                                                 ('class_feat',\n",
       "                                                  OrdinalEncoder(categories=[['Eco',\n",
       "                                                                              'Eco '\n",
       "                                                                              'Plus',\n",
       "                                                                              'Business']]),\n",
       "                                                  ['Class']),\n",
       "                                                 ('distance_feat',\n",
       "                                                  Pipeline(steps=[('windsorizer1',\n",
       "                                                                   Winsorizer(capping_met...\n",
       "                               feature_types=None, gamma=None, gpu_id=None,\n",
       "                               grow_policy=None, importance_type=None,\n",
       "                               interaction_constraints=None, learning_rate=None,\n",
       "                               max_bin=None, max_cat_threshold=None,\n",
       "                               max_cat_to_onehot=None, max_delta_step=None,\n",
       "                               max_depth=None, max_leaves=None,\n",
       "                               min_child_weight=None, missing=nan,\n",
       "                               monotone_constraints=None, n_estimators=200,\n",
       "                               n_jobs=None, num_parallel_tree=None,\n",
       "                               predictor=None, random_state=42, ...))])"
      ]
     },
     "execution_count": 56,
     "metadata": {},
     "output_type": "execute_result"
    }
   ],
   "source": [
    "# melakukan fit ke data train\n",
    "pl_xgboost.fit(X_train_new, y_train_xg)"
   ]
  },
  {
   "cell_type": "code",
   "execution_count": 57,
   "metadata": {},
   "outputs": [],
   "source": [
    "#predict\n",
    "pred_train_xgboost = pl_xgboost.predict(X_train_new)\n",
    "pred_test_xgboost = pl_xgboost.predict(X_test_new)"
   ]
  },
  {
   "cell_type": "code",
   "execution_count": 58,
   "metadata": {},
   "outputs": [
    {
     "name": "stdout",
     "output_type": "stream",
     "text": [
      "Confusion Matrix      : \n",
      " <sklearn.metrics._plot.confusion_matrix.ConfusionMatrixDisplay object at 0x000001ECCC4A5C10>\n"
     ]
    },
    {
     "data": {
      "image/png": "[encoded data removed]",
      "text/plain": [
       "<Figure size 640x480 with 2 Axes>"
      ]
     },
     "metadata": {},
     "output_type": "display_data"
    }
   ],
   "source": [
    "#display confusion matrix untuk xgboost\n",
    "print('Confusion Matrix      : \\n', ConfusionMatrixDisplay.from_estimator(pl_xgboost, X_test_new, y_test_xg, cmap='Reds'))"
   ]
  },
  {
   "attachments": {},
   "cell_type": "markdown",
   "metadata": {},
   "source": [
    "Secara keseluruhan, model tersebut tampaknya berkinerja baik, dengan jumlah true positive dan true negative yang tinggi. Namun, jumlah falsenegative yang relatif tinggi (373) menunjukkan bahwa mungkin ada beberapa contoh di mana model salah memprediksi 'neutral or disatisfied' yang actualnya  adalah 'satisfied'."
   ]
  },
  {
   "cell_type": "code",
   "execution_count": 59,
   "metadata": {},
   "outputs": [
    {
     "name": "stdout",
     "output_type": "stream",
     "text": [
      "Classification Report XGBoost Train : \n",
      "               precision    recall  f1-score   support\n",
      "\n",
      "           0       0.97      0.99      0.98     47103\n",
      "           1       0.98      0.97      0.97     36020\n",
      "\n",
      "    accuracy                           0.98     83123\n",
      "   macro avg       0.98      0.98      0.98     83123\n",
      "weighted avg       0.98      0.98      0.98     83123\n",
      " \n",
      "\n",
      "ROC 0.9982621749354726 \n",
      "\n",
      "Classification Report XGBoost Test : \n",
      "               precision    recall  f1-score   support\n",
      "\n",
      "           0       0.95      0.97      0.96     11776\n",
      "           1       0.96      0.93      0.94      9005\n",
      "\n",
      "    accuracy                           0.95     20781\n",
      "   macro avg       0.95      0.95      0.95     20781\n",
      "weighted avg       0.95      0.95      0.95     20781\n",
      " \n",
      "\n",
      "ROC 0.9919009319626173 \n",
      "\n"
     ]
    }
   ],
   "source": [
    "#melihat classification report atau hasil permodelan\n",
    "print('Classification Report XGBoost Train : \\n', classification_report(y_train_xg, pred_train_xgboost), '\\n')\n",
    "\n",
    "# Menghitung ROC\n",
    "probaxgboost_train = pl_xgboost.predict_proba(X_train_new)\n",
    "print('ROC', roc_auc_score(y_train_xg, probaxgboost_train[:,1]), '\\n')\n",
    "\n",
    "\n",
    "print('Classification Report XGBoost Test : \\n', classification_report(y_test_xg, pred_test_xgboost), '\\n')\n",
    "\n",
    "# Menghitung ROC\n",
    "probaxgboost_test = pl_xgboost.predict_proba(X_test_new)\n",
    "print('ROC', roc_auc_score(y_test_xg, probaxgboost_test[:,1]), '\\n')"
   ]
  },
  {
   "attachments": {},
   "cell_type": "markdown",
   "metadata": {},
   "source": [
    "Model XGBoost memiliki accuracy tinggi dan skor F1 pada set data train set dan test set, dengan skor precision dan recall yang sangat tinggi. Selain itu, skor ROC juga tinggi, menunjukkan bahwa model bekerja dengan baik dalam membedakan kedua kelas. Hasil ini menunjukkan bahwa model XGBoost cocok untuk data dan memiliki kekuatan prediksi yang tinggi, mengungguli model Random Forest. Namun, model mungkin masih overfitting ke data train set, karena skor train set sedikit lebih tinggi daripada skor test set."
   ]
  },
  {
   "attachments": {},
   "cell_type": "markdown",
   "metadata": {},
   "source": [
    "**`Cross Validation`**"
   ]
  },
  {
   "cell_type": "code",
   "execution_count": 60,
   "metadata": {},
   "outputs": [],
   "source": [
    "#mendefinisika stratified kfold\n",
    "skfold=StratifiedKFold(n_splits=5)"
   ]
  },
  {
   "attachments": {},
   "cell_type": "markdown",
   "metadata": {},
   "source": [
    "Menfokuskan ke Accuracy karena ingin keakuratannya dalam memprediksi kedua kelas."
   ]
  },
  {
   "cell_type": "code",
   "execution_count": 61,
   "metadata": {},
   "outputs": [
    {
     "name": "stdout",
     "output_type": "stream",
     "text": [
      "RandomForestClassifier accuracy: 0.9202 (+/- 0.0026)\n",
      "XGBClassifier accuracy: 0.9508 (+/- 0.0020)\n"
     ]
    }
   ],
   "source": [
    "#mendefinisikan tiap model\n",
    "models = [\n",
    "    pl_rf.named_steps['classifier'],\n",
    "    pl_xgboost.named_steps['classifier']\n",
    "]\n",
    "\n",
    "# Evaluate each model using cross-validation\n",
    "for model in models:\n",
    "    pipe = Pipeline(steps=[('preprocessor', preprocessor),\n",
    "                           ('model', model)])\n",
    "    scores = cross_val_score(pipe, X_train_new, y_train_xg, cv=skfold, scoring='accuracy')\n",
    "    print(f\"{model.__class__.__name__} accuracy: {scores.mean():.4f} (+/- {scores.std():.4f})\")\n"
   ]
  },
  {
   "attachments": {},
   "cell_type": "markdown",
   "metadata": {},
   "source": [
    "Dari hasil crossvalidation, dapat disimpulkan bahwa model XGBClassifier memiliki kinerja yang lebih baik daripada model RandomForestClassifier dalam memprediksi kepuasan pelanggan berdasarkan dataset yang diberikan. XGBClassifier memiliki akurasi rata-rata 0,9508 dengan standar deviasi 0,0020, sedangkan RandomForestClassifier memiliki akurasi rata-rata 0,9213 dengan standar deviasi 0,0021. Hal ini menunjukkan bahwa model XGBClassifier lebih konsisten dan akurat dalam memprediksi kepuasan pelanggan dibandingkan dengan model RandomForestClassifier."
   ]
  },
  {
   "attachments": {},
   "cell_type": "markdown",
   "metadata": {},
   "source": [
    "**Best Model** : `XGBoost`"
   ]
  },
  {
   "attachments": {},
   "cell_type": "markdown",
   "metadata": {},
   "source": [
    "Akan tetapi, untuk meningkatkan keakuratan lagi, akan dibutuhkan hyperparameter-tuning agar mempunyai hasil yang maksimal."
   ]
  },
  {
   "attachments": {},
   "cell_type": "markdown",
   "metadata": {},
   "source": [
    "`Hyperparameter-Tuning`"
   ]
  },
  {
   "cell_type": "code",
   "execution_count": 62,
   "metadata": {},
   "outputs": [
    {
     "name": "stdout",
     "output_type": "stream",
     "text": [
      "Best parameters found on training set:\n",
      "{'classifier__learning_rate': 0.1, 'classifier__max_depth': 7, 'classifier__n_estimators': 150, 'classifier__subsample': 0.7}\n",
      "Best score found on training set:\n",
      "0.9514093728064145\n"
     ]
    }
   ],
   "source": [
    "# Define parameter grid for GridSearchCV\n",
    "param_grid_xgboost = {\n",
    "    'classifier__n_estimators': [100, 150], # Meningkatkan nilai ini dapat meningkatkan performa model tetapi juga dapat meningkatkan risiko overfitting.\n",
    "    'classifier__max_depth': [3,7], # depth yang lebih dalam dapat menangkap interaksi yang lebih kompleks antara variabel, tetapi juga dapat meningkatkan risiko overfitting.\n",
    "    'classifier__learning_rate': [0.1], # lebih rendah dapat meningkatkan kinerja generalisasi tetapi mungkin juga membutuhkan lebih banyak iterasi untuk konvergen.\n",
    "    'classifier__subsample': [0.7, 1], # Nilai yang lebih rendah dapat mencegah overfitting tetapi juga dapat menurunkan performa model.\n",
    "}\n",
    "\n",
    "# Perform GridSearchCV\n",
    "grid_search_xgboost = GridSearchCV(pl_xgboost, param_grid=param_grid_xgboost, cv=skfold, scoring='accuracy')\n",
    "grid_search_xgboost.fit(X_train_new, y_train_xg)\n",
    "\n",
    "# Print best parameters and score\n",
    "print(\"Best parameters found on training set:\")\n",
    "print(grid_search_xgboost.best_params_)\n",
    "print(\"Best score found on training set:\")\n",
    "print(grid_search_xgboost.best_score_)"
   ]
  },
  {
   "attachments": {},
   "cell_type": "markdown",
   "metadata": {},
   "source": [
    "Setelah melakukan hyperparametertuning menggunakan GridSearchCV di XGBoost, parameter terbaik yang ditemukan pada train set adalah: learning_rate = 0.1, max_depth = 7, n_estimators = 150, dan subsample = 0.7. Skor terbaik yang ditemukan pada train set adalah 0,9514. Hyperparameter ini dapat digunakan untuk lebih meningkatkan kinerja model XGBoost."
   ]
  },
  {
   "cell_type": "code",
   "execution_count": 63,
   "metadata": {},
   "outputs": [
    {
     "name": "stdout",
     "output_type": "stream",
     "text": [
      "Train               precision    recall  f1-score   support\n",
      "\n",
      "           0       0.96      0.98      0.97     47103\n",
      "           1       0.97      0.94      0.96     36020\n",
      "\n",
      "    accuracy                           0.96     83123\n",
      "   macro avg       0.97      0.96      0.96     83123\n",
      "weighted avg       0.96      0.96      0.96     83123\n",
      "\n",
      "Test               precision    recall  f1-score   support\n",
      "\n",
      "           0       0.95      0.97      0.96     11776\n",
      "           1       0.96      0.93      0.95      9005\n",
      "\n",
      "    accuracy                           0.95     20781\n",
      "   macro avg       0.95      0.95      0.95     20781\n",
      "weighted avg       0.95      0.95      0.95     20781\n",
      "\n"
     ]
    }
   ],
   "source": [
    "#menggunakan best parameter untuk xgboost\n",
    "bestmodel = grid_search_xgboost.best_estimator_\n",
    "\n",
    "#definition\n",
    "bestmodel.fit(X_train_new, y_train_xg)\n",
    "#training\n",
    "model_train = bestmodel.predict(X_train_new)\n",
    "model_test = bestmodel.predict(X_test_new)\n",
    "#evaluation\n",
    "print('Train', classification_report(y_train_xg, model_train))\n",
    "print('Test', classification_report(y_test_xg, model_test))"
   ]
  },
  {
   "attachments": {},
   "cell_type": "markdown",
   "metadata": {},
   "source": [
    "Setelah hyperparameter tuning model XGBoost, accuracy pada train set meningkat menjadi 0,96, lebih tinggi dari skor sebelumnya 0,95. Demikian pula, accuracy pada test set juga meningkat dari 0,95 menjadi 0,96. precision, recall, dan skor F1 untuk kedua kelas juga meningkat setelah hyperparameter tuning. Secara keseluruhan, model XGBoost dengan hyperparameter yang disetel bekerja lebih baik daripada model XGBoost default."
   ]
  },
  {
   "attachments": {},
   "cell_type": "markdown",
   "metadata": {},
   "source": [
    "`Menganalisis titik data yang salah pada test set`"
   ]
  },
  {
   "cell_type": "code",
   "execution_count": 64,
   "metadata": {},
   "outputs": [],
   "source": [
    "# membuat dataframe actual dan predict\n",
    "actvspred = pd.DataFrame()\n",
    "actvspred['Actual'] = y_test_xg\n",
    "actvspred['Predict'] = model_test\n",
    "\n",
    "actvspred = pd.concat([X_test_new, actvspred], axis=1)"
   ]
  },
  {
   "cell_type": "code",
   "execution_count": 65,
   "metadata": {},
   "outputs": [
    {
     "data": {
      "text/html": [
       "<div>\n",
       "<style scoped>\n",
       "    .dataframe tbody tr th:only-of-type {\n",
       "        vertical-align: middle;\n",
       "    }\n",
       "\n",
       "    .dataframe tbody tr th {\n",
       "        vertical-align: top;\n",
       "    }\n",
       "\n",
       "    .dataframe thead th {\n",
       "        text-align: right;\n",
       "    }\n",
       "</style>\n",
       "<table border=\"1\" class=\"dataframe\">\n",
       "  <thead>\n",
       "    <tr style=\"text-align: right;\">\n",
       "      <th></th>\n",
       "      <th>Age</th>\n",
       "      <th>Type_of_Travel</th>\n",
       "      <th>Class</th>\n",
       "      <th>Flight_Distance</th>\n",
       "      <th>Inflight_wifi_service</th>\n",
       "      <th>Ease_of_Online_booking</th>\n",
       "      <th>Food_and_drink</th>\n",
       "      <th>Online_boarding</th>\n",
       "      <th>Seat_comfort</th>\n",
       "      <th>Inflight_entertainment</th>\n",
       "      <th>On-board_service</th>\n",
       "      <th>Leg_room_service</th>\n",
       "      <th>Checkin_service</th>\n",
       "      <th>Inflight_service</th>\n",
       "      <th>Cleanliness</th>\n",
       "      <th>Departure_Delay_in_Minutes</th>\n",
       "      <th>Arrival_Delay_in_Minutes</th>\n",
       "      <th>Actual</th>\n",
       "      <th>Predict</th>\n",
       "    </tr>\n",
       "  </thead>\n",
       "  <tbody>\n",
       "    <tr>\n",
       "      <th>29</th>\n",
       "      <td>65</td>\n",
       "      <td>Business travel</td>\n",
       "      <td>Business</td>\n",
       "      <td>2650</td>\n",
       "      <td>2</td>\n",
       "      <td>2</td>\n",
       "      <td>4</td>\n",
       "      <td>4</td>\n",
       "      <td>4</td>\n",
       "      <td>3</td>\n",
       "      <td>3</td>\n",
       "      <td>3</td>\n",
       "      <td>3</td>\n",
       "      <td>3</td>\n",
       "      <td>3</td>\n",
       "      <td>little delay</td>\n",
       "      <td>very delayed</td>\n",
       "      <td>0</td>\n",
       "      <td>1</td>\n",
       "    </tr>\n",
       "    <tr>\n",
       "      <th>54</th>\n",
       "      <td>55</td>\n",
       "      <td>Business travel</td>\n",
       "      <td>Business</td>\n",
       "      <td>1849</td>\n",
       "      <td>4</td>\n",
       "      <td>4</td>\n",
       "      <td>3</td>\n",
       "      <td>1</td>\n",
       "      <td>3</td>\n",
       "      <td>4</td>\n",
       "      <td>4</td>\n",
       "      <td>4</td>\n",
       "      <td>1</td>\n",
       "      <td>4</td>\n",
       "      <td>4</td>\n",
       "      <td>little delay</td>\n",
       "      <td>no delay</td>\n",
       "      <td>0</td>\n",
       "      <td>1</td>\n",
       "    </tr>\n",
       "    <tr>\n",
       "      <th>111</th>\n",
       "      <td>28</td>\n",
       "      <td>Business travel</td>\n",
       "      <td>Eco</td>\n",
       "      <td>820</td>\n",
       "      <td>4</td>\n",
       "      <td>5</td>\n",
       "      <td>4</td>\n",
       "      <td>5</td>\n",
       "      <td>4</td>\n",
       "      <td>4</td>\n",
       "      <td>4</td>\n",
       "      <td>5</td>\n",
       "      <td>4</td>\n",
       "      <td>4</td>\n",
       "      <td>4</td>\n",
       "      <td>no delay</td>\n",
       "      <td>no delay</td>\n",
       "      <td>0</td>\n",
       "      <td>1</td>\n",
       "    </tr>\n",
       "    <tr>\n",
       "      <th>150</th>\n",
       "      <td>34</td>\n",
       "      <td>Business travel</td>\n",
       "      <td>Business</td>\n",
       "      <td>110</td>\n",
       "      <td>1</td>\n",
       "      <td>4</td>\n",
       "      <td>4</td>\n",
       "      <td>3</td>\n",
       "      <td>2</td>\n",
       "      <td>4</td>\n",
       "      <td>4</td>\n",
       "      <td>4</td>\n",
       "      <td>2</td>\n",
       "      <td>4</td>\n",
       "      <td>1</td>\n",
       "      <td>no delay</td>\n",
       "      <td>no delay</td>\n",
       "      <td>0</td>\n",
       "      <td>1</td>\n",
       "    </tr>\n",
       "    <tr>\n",
       "      <th>179</th>\n",
       "      <td>45</td>\n",
       "      <td>Personal Travel</td>\n",
       "      <td>Eco</td>\n",
       "      <td>1089</td>\n",
       "      <td>4</td>\n",
       "      <td>4</td>\n",
       "      <td>2</td>\n",
       "      <td>2</td>\n",
       "      <td>5</td>\n",
       "      <td>3</td>\n",
       "      <td>3</td>\n",
       "      <td>4</td>\n",
       "      <td>3</td>\n",
       "      <td>3</td>\n",
       "      <td>5</td>\n",
       "      <td>little delay</td>\n",
       "      <td>no delay</td>\n",
       "      <td>0</td>\n",
       "      <td>1</td>\n",
       "    </tr>\n",
       "    <tr>\n",
       "      <th>...</th>\n",
       "      <td>...</td>\n",
       "      <td>...</td>\n",
       "      <td>...</td>\n",
       "      <td>...</td>\n",
       "      <td>...</td>\n",
       "      <td>...</td>\n",
       "      <td>...</td>\n",
       "      <td>...</td>\n",
       "      <td>...</td>\n",
       "      <td>...</td>\n",
       "      <td>...</td>\n",
       "      <td>...</td>\n",
       "      <td>...</td>\n",
       "      <td>...</td>\n",
       "      <td>...</td>\n",
       "      <td>...</td>\n",
       "      <td>...</td>\n",
       "      <td>...</td>\n",
       "      <td>...</td>\n",
       "    </tr>\n",
       "    <tr>\n",
       "      <th>20165</th>\n",
       "      <td>30</td>\n",
       "      <td>Business travel</td>\n",
       "      <td>Business</td>\n",
       "      <td>1475</td>\n",
       "      <td>4</td>\n",
       "      <td>4</td>\n",
       "      <td>4</td>\n",
       "      <td>4</td>\n",
       "      <td>4</td>\n",
       "      <td>4</td>\n",
       "      <td>5</td>\n",
       "      <td>5</td>\n",
       "      <td>3</td>\n",
       "      <td>5</td>\n",
       "      <td>4</td>\n",
       "      <td>little delay</td>\n",
       "      <td>little delay</td>\n",
       "      <td>0</td>\n",
       "      <td>1</td>\n",
       "    </tr>\n",
       "    <tr>\n",
       "      <th>20202</th>\n",
       "      <td>43</td>\n",
       "      <td>Business travel</td>\n",
       "      <td>Eco Plus</td>\n",
       "      <td>265</td>\n",
       "      <td>4</td>\n",
       "      <td>5</td>\n",
       "      <td>4</td>\n",
       "      <td>4</td>\n",
       "      <td>4</td>\n",
       "      <td>4</td>\n",
       "      <td>4</td>\n",
       "      <td>2</td>\n",
       "      <td>2</td>\n",
       "      <td>4</td>\n",
       "      <td>4</td>\n",
       "      <td>no delay</td>\n",
       "      <td>no delay</td>\n",
       "      <td>0</td>\n",
       "      <td>1</td>\n",
       "    </tr>\n",
       "    <tr>\n",
       "      <th>20422</th>\n",
       "      <td>25</td>\n",
       "      <td>Business travel</td>\n",
       "      <td>Business</td>\n",
       "      <td>1703</td>\n",
       "      <td>2</td>\n",
       "      <td>2</td>\n",
       "      <td>2</td>\n",
       "      <td>5</td>\n",
       "      <td>5</td>\n",
       "      <td>3</td>\n",
       "      <td>3</td>\n",
       "      <td>5</td>\n",
       "      <td>5</td>\n",
       "      <td>4</td>\n",
       "      <td>5</td>\n",
       "      <td>very delayed</td>\n",
       "      <td>very delayed</td>\n",
       "      <td>0</td>\n",
       "      <td>1</td>\n",
       "    </tr>\n",
       "    <tr>\n",
       "      <th>20523</th>\n",
       "      <td>48</td>\n",
       "      <td>Business travel</td>\n",
       "      <td>Eco</td>\n",
       "      <td>334</td>\n",
       "      <td>4</td>\n",
       "      <td>3</td>\n",
       "      <td>4</td>\n",
       "      <td>2</td>\n",
       "      <td>2</td>\n",
       "      <td>3</td>\n",
       "      <td>3</td>\n",
       "      <td>4</td>\n",
       "      <td>1</td>\n",
       "      <td>3</td>\n",
       "      <td>3</td>\n",
       "      <td>no delay</td>\n",
       "      <td>no delay</td>\n",
       "      <td>0</td>\n",
       "      <td>1</td>\n",
       "    </tr>\n",
       "    <tr>\n",
       "      <th>20530</th>\n",
       "      <td>37</td>\n",
       "      <td>Business travel</td>\n",
       "      <td>Eco</td>\n",
       "      <td>590</td>\n",
       "      <td>4</td>\n",
       "      <td>4</td>\n",
       "      <td>4</td>\n",
       "      <td>4</td>\n",
       "      <td>4</td>\n",
       "      <td>4</td>\n",
       "      <td>3</td>\n",
       "      <td>4</td>\n",
       "      <td>4</td>\n",
       "      <td>2</td>\n",
       "      <td>4</td>\n",
       "      <td>no delay</td>\n",
       "      <td>no delay</td>\n",
       "      <td>0</td>\n",
       "      <td>1</td>\n",
       "    </tr>\n",
       "  </tbody>\n",
       "</table>\n",
       "<p>347 rows × 19 columns</p>\n",
       "</div>"
      ],
      "text/plain": [
       "       Age   Type_of_Travel     Class  Flight_Distance  Inflight_wifi_service  \\\n",
       "29      65  Business travel  Business             2650                      2   \n",
       "54      55  Business travel  Business             1849                      4   \n",
       "111     28  Business travel       Eco              820                      4   \n",
       "150     34  Business travel  Business              110                      1   \n",
       "179     45  Personal Travel       Eco             1089                      4   \n",
       "...    ...              ...       ...              ...                    ...   \n",
       "20165   30  Business travel  Business             1475                      4   \n",
       "20202   43  Business travel  Eco Plus              265                      4   \n",
       "20422   25  Business travel  Business             1703                      2   \n",
       "20523   48  Business travel       Eco              334                      4   \n",
       "20530   37  Business travel       Eco              590                      4   \n",
       "\n",
       "       Ease_of_Online_booking  Food_and_drink  Online_boarding  Seat_comfort  \\\n",
       "29                          2               4                4             4   \n",
       "54                          4               3                1             3   \n",
       "111                         5               4                5             4   \n",
       "150                         4               4                3             2   \n",
       "179                         4               2                2             5   \n",
       "...                       ...             ...              ...           ...   \n",
       "20165                       4               4                4             4   \n",
       "20202                       5               4                4             4   \n",
       "20422                       2               2                5             5   \n",
       "20523                       3               4                2             2   \n",
       "20530                       4               4                4             4   \n",
       "\n",
       "       Inflight_entertainment  On-board_service  Leg_room_service  \\\n",
       "29                          3                 3                 3   \n",
       "54                          4                 4                 4   \n",
       "111                         4                 4                 5   \n",
       "150                         4                 4                 4   \n",
       "179                         3                 3                 4   \n",
       "...                       ...               ...               ...   \n",
       "20165                       4                 5                 5   \n",
       "20202                       4                 4                 2   \n",
       "20422                       3                 3                 5   \n",
       "20523                       3                 3                 4   \n",
       "20530                       4                 3                 4   \n",
       "\n",
       "       Checkin_service  Inflight_service  Cleanliness  \\\n",
       "29                   3                 3            3   \n",
       "54                   1                 4            4   \n",
       "111                  4                 4            4   \n",
       "150                  2                 4            1   \n",
       "179                  3                 3            5   \n",
       "...                ...               ...          ...   \n",
       "20165                3                 5            4   \n",
       "20202                2                 4            4   \n",
       "20422                5                 4            5   \n",
       "20523                1                 3            3   \n",
       "20530                4                 2            4   \n",
       "\n",
       "      Departure_Delay_in_Minutes Arrival_Delay_in_Minutes  Actual  Predict  \n",
       "29                  little delay             very delayed       0        1  \n",
       "54                  little delay                 no delay       0        1  \n",
       "111                     no delay                 no delay       0        1  \n",
       "150                     no delay                 no delay       0        1  \n",
       "179                 little delay                 no delay       0        1  \n",
       "...                          ...                      ...     ...      ...  \n",
       "20165               little delay             little delay       0        1  \n",
       "20202                   no delay                 no delay       0        1  \n",
       "20422               very delayed             very delayed       0        1  \n",
       "20523                   no delay                 no delay       0        1  \n",
       "20530                   no delay                 no delay       0        1  \n",
       "\n",
       "[347 rows x 19 columns]"
      ]
     },
     "execution_count": 65,
     "metadata": {},
     "output_type": "execute_result"
    }
   ],
   "source": [
    "#melihat titik data yang salah dalam FalseNegative\n",
    "actvspred[(actvspred['Actual']==0) & (actvspred['Predict']==1)]"
   ]
  },
  {
   "cell_type": "code",
   "execution_count": 66,
   "metadata": {},
   "outputs": [
    {
     "data": {
      "text/html": [
       "<div>\n",
       "<style scoped>\n",
       "    .dataframe tbody tr th:only-of-type {\n",
       "        vertical-align: middle;\n",
       "    }\n",
       "\n",
       "    .dataframe tbody tr th {\n",
       "        vertical-align: top;\n",
       "    }\n",
       "\n",
       "    .dataframe thead th {\n",
       "        text-align: right;\n",
       "    }\n",
       "</style>\n",
       "<table border=\"1\" class=\"dataframe\">\n",
       "  <thead>\n",
       "    <tr style=\"text-align: right;\">\n",
       "      <th></th>\n",
       "      <th>Age</th>\n",
       "      <th>Type_of_Travel</th>\n",
       "      <th>Class</th>\n",
       "      <th>Flight_Distance</th>\n",
       "      <th>Inflight_wifi_service</th>\n",
       "      <th>Ease_of_Online_booking</th>\n",
       "      <th>Food_and_drink</th>\n",
       "      <th>Online_boarding</th>\n",
       "      <th>Seat_comfort</th>\n",
       "      <th>Inflight_entertainment</th>\n",
       "      <th>On-board_service</th>\n",
       "      <th>Leg_room_service</th>\n",
       "      <th>Checkin_service</th>\n",
       "      <th>Inflight_service</th>\n",
       "      <th>Cleanliness</th>\n",
       "      <th>Departure_Delay_in_Minutes</th>\n",
       "      <th>Arrival_Delay_in_Minutes</th>\n",
       "      <th>Actual</th>\n",
       "      <th>Predict</th>\n",
       "    </tr>\n",
       "  </thead>\n",
       "  <tbody>\n",
       "    <tr>\n",
       "      <th>30</th>\n",
       "      <td>50</td>\n",
       "      <td>Personal Travel</td>\n",
       "      <td>Business</td>\n",
       "      <td>96</td>\n",
       "      <td>4</td>\n",
       "      <td>0</td>\n",
       "      <td>3</td>\n",
       "      <td>4</td>\n",
       "      <td>4</td>\n",
       "      <td>3</td>\n",
       "      <td>3</td>\n",
       "      <td>0</td>\n",
       "      <td>4</td>\n",
       "      <td>3</td>\n",
       "      <td>4</td>\n",
       "      <td>no delay</td>\n",
       "      <td>little delay</td>\n",
       "      <td>1</td>\n",
       "      <td>0</td>\n",
       "    </tr>\n",
       "    <tr>\n",
       "      <th>41</th>\n",
       "      <td>56</td>\n",
       "      <td>Personal Travel</td>\n",
       "      <td>Eco Plus</td>\n",
       "      <td>462</td>\n",
       "      <td>4</td>\n",
       "      <td>4</td>\n",
       "      <td>3</td>\n",
       "      <td>4</td>\n",
       "      <td>3</td>\n",
       "      <td>3</td>\n",
       "      <td>4</td>\n",
       "      <td>2</td>\n",
       "      <td>5</td>\n",
       "      <td>4</td>\n",
       "      <td>3</td>\n",
       "      <td>little delay</td>\n",
       "      <td>very delayed</td>\n",
       "      <td>1</td>\n",
       "      <td>0</td>\n",
       "    </tr>\n",
       "    <tr>\n",
       "      <th>67</th>\n",
       "      <td>55</td>\n",
       "      <td>Personal Travel</td>\n",
       "      <td>Eco Plus</td>\n",
       "      <td>331</td>\n",
       "      <td>4</td>\n",
       "      <td>4</td>\n",
       "      <td>2</td>\n",
       "      <td>4</td>\n",
       "      <td>2</td>\n",
       "      <td>2</td>\n",
       "      <td>1</td>\n",
       "      <td>5</td>\n",
       "      <td>2</td>\n",
       "      <td>3</td>\n",
       "      <td>2</td>\n",
       "      <td>no delay</td>\n",
       "      <td>no delay</td>\n",
       "      <td>1</td>\n",
       "      <td>0</td>\n",
       "    </tr>\n",
       "    <tr>\n",
       "      <th>117</th>\n",
       "      <td>46</td>\n",
       "      <td>Business travel</td>\n",
       "      <td>Business</td>\n",
       "      <td>1287</td>\n",
       "      <td>4</td>\n",
       "      <td>4</td>\n",
       "      <td>3</td>\n",
       "      <td>4</td>\n",
       "      <td>3</td>\n",
       "      <td>3</td>\n",
       "      <td>4</td>\n",
       "      <td>2</td>\n",
       "      <td>3</td>\n",
       "      <td>4</td>\n",
       "      <td>3</td>\n",
       "      <td>no delay</td>\n",
       "      <td>no delay</td>\n",
       "      <td>1</td>\n",
       "      <td>0</td>\n",
       "    </tr>\n",
       "    <tr>\n",
       "      <th>126</th>\n",
       "      <td>38</td>\n",
       "      <td>Personal Travel</td>\n",
       "      <td>Eco</td>\n",
       "      <td>297</td>\n",
       "      <td>4</td>\n",
       "      <td>4</td>\n",
       "      <td>5</td>\n",
       "      <td>4</td>\n",
       "      <td>5</td>\n",
       "      <td>5</td>\n",
       "      <td>3</td>\n",
       "      <td>4</td>\n",
       "      <td>4</td>\n",
       "      <td>3</td>\n",
       "      <td>5</td>\n",
       "      <td>no delay</td>\n",
       "      <td>no delay</td>\n",
       "      <td>1</td>\n",
       "      <td>0</td>\n",
       "    </tr>\n",
       "    <tr>\n",
       "      <th>...</th>\n",
       "      <td>...</td>\n",
       "      <td>...</td>\n",
       "      <td>...</td>\n",
       "      <td>...</td>\n",
       "      <td>...</td>\n",
       "      <td>...</td>\n",
       "      <td>...</td>\n",
       "      <td>...</td>\n",
       "      <td>...</td>\n",
       "      <td>...</td>\n",
       "      <td>...</td>\n",
       "      <td>...</td>\n",
       "      <td>...</td>\n",
       "      <td>...</td>\n",
       "      <td>...</td>\n",
       "      <td>...</td>\n",
       "      <td>...</td>\n",
       "      <td>...</td>\n",
       "      <td>...</td>\n",
       "    </tr>\n",
       "    <tr>\n",
       "      <th>20670</th>\n",
       "      <td>29</td>\n",
       "      <td>Business travel</td>\n",
       "      <td>Business</td>\n",
       "      <td>1312</td>\n",
       "      <td>4</td>\n",
       "      <td>4</td>\n",
       "      <td>1</td>\n",
       "      <td>4</td>\n",
       "      <td>1</td>\n",
       "      <td>1</td>\n",
       "      <td>5</td>\n",
       "      <td>3</td>\n",
       "      <td>4</td>\n",
       "      <td>5</td>\n",
       "      <td>1</td>\n",
       "      <td>little delay</td>\n",
       "      <td>little delay</td>\n",
       "      <td>1</td>\n",
       "      <td>0</td>\n",
       "    </tr>\n",
       "    <tr>\n",
       "      <th>20679</th>\n",
       "      <td>38</td>\n",
       "      <td>Personal Travel</td>\n",
       "      <td>Eco</td>\n",
       "      <td>907</td>\n",
       "      <td>4</td>\n",
       "      <td>3</td>\n",
       "      <td>1</td>\n",
       "      <td>3</td>\n",
       "      <td>1</td>\n",
       "      <td>1</td>\n",
       "      <td>5</td>\n",
       "      <td>3</td>\n",
       "      <td>4</td>\n",
       "      <td>4</td>\n",
       "      <td>1</td>\n",
       "      <td>very delayed</td>\n",
       "      <td>little delay</td>\n",
       "      <td>1</td>\n",
       "      <td>0</td>\n",
       "    </tr>\n",
       "    <tr>\n",
       "      <th>20738</th>\n",
       "      <td>53</td>\n",
       "      <td>Personal Travel</td>\n",
       "      <td>Business</td>\n",
       "      <td>591</td>\n",
       "      <td>4</td>\n",
       "      <td>4</td>\n",
       "      <td>5</td>\n",
       "      <td>2</td>\n",
       "      <td>4</td>\n",
       "      <td>4</td>\n",
       "      <td>4</td>\n",
       "      <td>4</td>\n",
       "      <td>4</td>\n",
       "      <td>4</td>\n",
       "      <td>3</td>\n",
       "      <td>no delay</td>\n",
       "      <td>no delay</td>\n",
       "      <td>1</td>\n",
       "      <td>0</td>\n",
       "    </tr>\n",
       "    <tr>\n",
       "      <th>20760</th>\n",
       "      <td>44</td>\n",
       "      <td>Business travel</td>\n",
       "      <td>Eco</td>\n",
       "      <td>174</td>\n",
       "      <td>2</td>\n",
       "      <td>4</td>\n",
       "      <td>5</td>\n",
       "      <td>3</td>\n",
       "      <td>3</td>\n",
       "      <td>2</td>\n",
       "      <td>2</td>\n",
       "      <td>2</td>\n",
       "      <td>2</td>\n",
       "      <td>2</td>\n",
       "      <td>5</td>\n",
       "      <td>very delayed</td>\n",
       "      <td>very delayed</td>\n",
       "      <td>1</td>\n",
       "      <td>0</td>\n",
       "    </tr>\n",
       "    <tr>\n",
       "      <th>20779</th>\n",
       "      <td>46</td>\n",
       "      <td>Business travel</td>\n",
       "      <td>Business</td>\n",
       "      <td>1075</td>\n",
       "      <td>4</td>\n",
       "      <td>3</td>\n",
       "      <td>3</td>\n",
       "      <td>3</td>\n",
       "      <td>3</td>\n",
       "      <td>4</td>\n",
       "      <td>4</td>\n",
       "      <td>4</td>\n",
       "      <td>2</td>\n",
       "      <td>4</td>\n",
       "      <td>3</td>\n",
       "      <td>no delay</td>\n",
       "      <td>little delay</td>\n",
       "      <td>1</td>\n",
       "      <td>0</td>\n",
       "    </tr>\n",
       "  </tbody>\n",
       "</table>\n",
       "<p>625 rows × 19 columns</p>\n",
       "</div>"
      ],
      "text/plain": [
       "       Age   Type_of_Travel     Class  Flight_Distance  Inflight_wifi_service  \\\n",
       "30      50  Personal Travel  Business               96                      4   \n",
       "41      56  Personal Travel  Eco Plus              462                      4   \n",
       "67      55  Personal Travel  Eco Plus              331                      4   \n",
       "117     46  Business travel  Business             1287                      4   \n",
       "126     38  Personal Travel       Eco              297                      4   \n",
       "...    ...              ...       ...              ...                    ...   \n",
       "20670   29  Business travel  Business             1312                      4   \n",
       "20679   38  Personal Travel       Eco              907                      4   \n",
       "20738   53  Personal Travel  Business              591                      4   \n",
       "20760   44  Business travel       Eco              174                      2   \n",
       "20779   46  Business travel  Business             1075                      4   \n",
       "\n",
       "       Ease_of_Online_booking  Food_and_drink  Online_boarding  Seat_comfort  \\\n",
       "30                          0               3                4             4   \n",
       "41                          4               3                4             3   \n",
       "67                          4               2                4             2   \n",
       "117                         4               3                4             3   \n",
       "126                         4               5                4             5   \n",
       "...                       ...             ...              ...           ...   \n",
       "20670                       4               1                4             1   \n",
       "20679                       3               1                3             1   \n",
       "20738                       4               5                2             4   \n",
       "20760                       4               5                3             3   \n",
       "20779                       3               3                3             3   \n",
       "\n",
       "       Inflight_entertainment  On-board_service  Leg_room_service  \\\n",
       "30                          3                 3                 0   \n",
       "41                          3                 4                 2   \n",
       "67                          2                 1                 5   \n",
       "117                         3                 4                 2   \n",
       "126                         5                 3                 4   \n",
       "...                       ...               ...               ...   \n",
       "20670                       1                 5                 3   \n",
       "20679                       1                 5                 3   \n",
       "20738                       4                 4                 4   \n",
       "20760                       2                 2                 2   \n",
       "20779                       4                 4                 4   \n",
       "\n",
       "       Checkin_service  Inflight_service  Cleanliness  \\\n",
       "30                   4                 3            4   \n",
       "41                   5                 4            3   \n",
       "67                   2                 3            2   \n",
       "117                  3                 4            3   \n",
       "126                  4                 3            5   \n",
       "...                ...               ...          ...   \n",
       "20670                4                 5            1   \n",
       "20679                4                 4            1   \n",
       "20738                4                 4            3   \n",
       "20760                2                 2            5   \n",
       "20779                2                 4            3   \n",
       "\n",
       "      Departure_Delay_in_Minutes Arrival_Delay_in_Minutes  Actual  Predict  \n",
       "30                      no delay             little delay       1        0  \n",
       "41                  little delay             very delayed       1        0  \n",
       "67                      no delay                 no delay       1        0  \n",
       "117                     no delay                 no delay       1        0  \n",
       "126                     no delay                 no delay       1        0  \n",
       "...                          ...                      ...     ...      ...  \n",
       "20670               little delay             little delay       1        0  \n",
       "20679               very delayed             little delay       1        0  \n",
       "20738                   no delay                 no delay       1        0  \n",
       "20760               very delayed             very delayed       1        0  \n",
       "20779                   no delay             little delay       1        0  \n",
       "\n",
       "[625 rows x 19 columns]"
      ]
     },
     "execution_count": 66,
     "metadata": {},
     "output_type": "execute_result"
    }
   ],
   "source": [
    "#melihat titik data yang salah dalam FalsePositive\n",
    "actvspred[(actvspred['Actual']==1) & (actvspred['Predict']==0)]"
   ]
  },
  {
   "attachments": {},
   "cell_type": "markdown",
   "metadata": {},
   "source": [
    "# **`OVERALL ANALYSIS`**"
   ]
  },
  {
   "attachments": {},
   "cell_type": "markdown",
   "metadata": {},
   "source": [
    "*Problem Statement*\n",
    "* **Memprediksi kepuasan seseorang pada maskapai ini berdasarkan nilai kepuasan tiap service menggunakan ensemble learning, sehingga tidak diperlukan pertanyaan puas atau tidak lagi pada akhirnya.**"
   ]
  },
  {
   "attachments": {},
   "cell_type": "markdown",
   "metadata": {},
   "source": [
    "`Berdasarkan EDA`"
   ]
  },
  {
   "attachments": {},
   "cell_type": "markdown",
   "metadata": {},
   "source": [
    "* Rata-rata umur penumpang yang puas terhadap layanan pesawat adalah 40 tahun. Akan tetapi, ini tidak bisa menjadi acuan bahwa orang2 yang puas adalah umur 40 tahun. Karena distribusi dari penumpang pada maskapai ini memang sekitar 40 tahun.\n",
    "* Rata-rata delay yang dapat ditoleransi oleh penumpang adalah sekitar 12 menit. Lebih dari 12 menit kemungkinan akan menjadi pertimbangan bahwa penumpang tersebut puas atau tidak.\n",
    "* Pada maskapai ini rata-rata penumpang yang memberikan feedback kepuasan mereka adalah wanita.\n",
    "* Kelas Business cenderung memiliki jarak rata-rata penerbangan terjauh, dengan jarak rata-rata lebih dari 1500 km. Economy dan Eco Plus memiliki jarak penerbangan rata-rata yang jauh lebih rendah, dengan jarak rata-rata masing-masing sekitar 700 km.\n",
    "* Dari hasil analisis diatas bahwa memang yang memberikan feedback lebih banyak yaitu dari loyal customer karena mereka sering memakai maskapai ini."
   ]
  },
  {
   "attachments": {},
   "cell_type": "markdown",
   "metadata": {},
   "source": [
    "`Berdasarkan Model`"
   ]
  },
  {
   "attachments": {},
   "cell_type": "markdown",
   "metadata": {},
   "source": [
    "> Kedua model mempunyai kinerja yang baik. Akan tetapi Model XGBoost memiliki accuracy tinggi dan skor F1 pada set data train set dan test set, dengan skor precision dan recall yang sangat tinggi. Selain itu, skor ROC juga tinggi, menunjukkan bahwa model bekerja dengan baik dalam membedakan kedua kelas.\n",
    "> XGBoost merupakan model yang lebih baik dari segi parameter default, bahkan saat di hyperparameters tuning keakuratan model dalam memprediksi kedua kelas terjadi kenaikan.\n",
    "* Karena memiliki model dengan keakuratan yang tinggi, maka maskapai ini tidak butuh membuat pertanyaan lagi untuk penumpang mereka puas atau tidak.\n",
    "* Maskapai ini hanya butuh pertanyaan kepuasan pada tiap servicenya maka dari hal tersebut dapat diprediksi menggunakan model yang sudah dibuat bahwa penumpang puas atau tidak."
   ]
  },
  {
   "attachments": {},
   "cell_type": "markdown",
   "metadata": {},
   "source": [
    "`Tujuan Terpenuhi`\n",
    "* `Model ini dapat memprediksi dengan kemungkinan benar 96% untuk kedua kelas. Sehingga maskapai ini tidak butuh mempertanyakan penumpang apakah mereka puas atau tidak pada akhirnya.`"
   ]
  },
  {
   "attachments": {},
   "cell_type": "markdown",
   "metadata": {},
   "source": [
    "# **`Model Saving`**"
   ]
  },
  {
   "cell_type": "code",
   "execution_count": 67,
   "metadata": {},
   "outputs": [],
   "source": [
    "preprocessorsave = ColumnTransformer(transformers=[\n",
    "    ('age_feat', age_feat_transformer, age_feat),\n",
    "    ('type_feat', type_feat_transformer, type_feat),\n",
    "    ('class_feat', class_feat_transformer, class_feat),\n",
    "    ('distance_feat', distance_feat_transformer, distance_feat),\n",
    "    ('ord_cols', ord_cols_transformer, ord_cols),\n",
    "    ('delay_cols', delay_cols_transformer, delay_cols)\n",
    "])"
   ]
  },
  {
   "cell_type": "code",
   "execution_count": 68,
   "metadata": {},
   "outputs": [],
   "source": [
    "# menyimpan pipeline untuk preprocess dan best model dengan best params\n",
    "pl_full = Pipeline(\n",
    "    steps=[(\"preprocessor\", preprocessorsave),\n",
    "           (\"classifier\" ,XGBClassifier(learning_rate= 0.1, max_depth= 7, n_estimators= 150, subsample= 0.7))]\n",
    ")"
   ]
  },
  {
   "cell_type": "code",
   "execution_count": 69,
   "metadata": {},
   "outputs": [
    {
     "data": {
      "text/html": [
       "<style>#sk-container-id-3 {color: black;background-color: white;}#sk-container-id-3 pre{padding: 0;}#sk-container-id-3 div.sk-toggleable {background-color: white;}#sk-container-id-3 label.sk-toggleable__label {cursor: pointer;display: block;width: 100%;margin-bottom: 0;padding: 0.3em;box-sizing: border-box;text-align: center;}#sk-container-id-3 label.sk-toggleable__label-arrow:before {content: \"▸\";float: left;margin-right: 0.25em;color: #696969;}#sk-container-id-3 label.sk-toggleable__label-arrow:hover:before {color: black;}#sk-container-id-3 div.sk-estimator:hover label.sk-toggleable__label-arrow:before {color: black;}#sk-container-id-3 div.sk-toggleable__content {max-height: 0;max-width: 0;overflow: hidden;text-align: left;background-color: #f0f8ff;}#sk-container-id-3 div.sk-toggleable__content pre {margin: 0.2em;color: black;border-radius: 0.25em;background-color: #f0f8ff;}#sk-container-id-3 input.sk-toggleable__control:checked~div.sk-toggleable__content {max-height: 200px;max-width: 100%;overflow: auto;}#sk-container-id-3 input.sk-toggleable__control:checked~label.sk-toggleable__label-arrow:before {content: \"▾\";}#sk-container-id-3 div.sk-estimator input.sk-toggleable__control:checked~label.sk-toggleable__label {background-color: #d4ebff;}#sk-container-id-3 div.sk-label input.sk-toggleable__control:checked~label.sk-toggleable__label {background-color: #d4ebff;}#sk-container-id-3 input.sk-hidden--visually {border: 0;clip: rect(1px 1px 1px 1px);clip: rect(1px, 1px, 1px, 1px);height: 1px;margin: -1px;overflow: hidden;padding: 0;position: absolute;width: 1px;}#sk-container-id-3 div.sk-estimator {font-family: monospace;background-color: #f0f8ff;border: 1px dotted black;border-radius: 0.25em;box-sizing: border-box;margin-bottom: 0.5em;}#sk-container-id-3 div.sk-estimator:hover {background-color: #d4ebff;}#sk-container-id-3 div.sk-parallel-item::after {content: \"\";width: 100%;border-bottom: 1px solid gray;flex-grow: 1;}#sk-container-id-3 div.sk-label:hover label.sk-toggleable__label {background-color: #d4ebff;}#sk-container-id-3 div.sk-serial::before {content: \"\";position: absolute;border-left: 1px solid gray;box-sizing: border-box;top: 0;bottom: 0;left: 50%;z-index: 0;}#sk-container-id-3 div.sk-serial {display: flex;flex-direction: column;align-items: center;background-color: white;padding-right: 0.2em;padding-left: 0.2em;position: relative;}#sk-container-id-3 div.sk-item {position: relative;z-index: 1;}#sk-container-id-3 div.sk-parallel {display: flex;align-items: stretch;justify-content: center;background-color: white;position: relative;}#sk-container-id-3 div.sk-item::before, #sk-container-id-3 div.sk-parallel-item::before {content: \"\";position: absolute;border-left: 1px solid gray;box-sizing: border-box;top: 0;bottom: 0;left: 50%;z-index: -1;}#sk-container-id-3 div.sk-parallel-item {display: flex;flex-direction: column;z-index: 1;position: relative;background-color: white;}#sk-container-id-3 div.sk-parallel-item:first-child::after {align-self: flex-end;width: 50%;}#sk-container-id-3 div.sk-parallel-item:last-child::after {align-self: flex-start;width: 50%;}#sk-container-id-3 div.sk-parallel-item:only-child::after {width: 0;}#sk-container-id-3 div.sk-dashed-wrapped {border: 1px dashed gray;margin: 0 0.4em 0.5em 0.4em;box-sizing: border-box;padding-bottom: 0.4em;background-color: white;}#sk-container-id-3 div.sk-label label {font-family: monospace;font-weight: bold;display: inline-block;line-height: 1.2em;}#sk-container-id-3 div.sk-label-container {text-align: center;}#sk-container-id-3 div.sk-container {/* jupyter's `normalize.less` sets `[hidden] { display: none; }` but bootstrap.min.css set `[hidden] { display: none !important; }` so we also need the `!important` here to be able to override the default hidden behavior on the sphinx rendered scikit-learn.org. See: https://github.com/scikit-learn/scikit-learn/issues/21755 */display: inline-block !important;position: relative;}#sk-container-id-3 div.sk-text-repr-fallback {display: none;}</style><div id=\"sk-container-id-3\" class=\"sk-top-container\"><div class=\"sk-text-repr-fallback\"><pre>Pipeline(steps=[(&#x27;preprocessor&#x27;,\n",
       "                 ColumnTransformer(transformers=[(&#x27;age_feat&#x27;, StandardScaler(),\n",
       "                                                  [&#x27;Age&#x27;]),\n",
       "                                                 (&#x27;type_feat&#x27;,\n",
       "                                                  OneHotEncoder(handle_unknown=&#x27;ignore&#x27;,\n",
       "                                                                sparse_output=False),\n",
       "                                                  [&#x27;Type_of_Travel&#x27;]),\n",
       "                                                 (&#x27;class_feat&#x27;,\n",
       "                                                  OrdinalEncoder(categories=[[&#x27;Eco&#x27;,\n",
       "                                                                              &#x27;Eco &#x27;\n",
       "                                                                              &#x27;Plus&#x27;,\n",
       "                                                                              &#x27;Business&#x27;]]),\n",
       "                                                  [&#x27;Class&#x27;]),\n",
       "                                                 (&#x27;distance_feat&#x27;,\n",
       "                                                  Pipeline(steps=[(&#x27;windsorizer1&#x27;,\n",
       "                                                                   Winsorizer(capping_met...\n",
       "                               feature_types=None, gamma=None, gpu_id=None,\n",
       "                               grow_policy=None, importance_type=None,\n",
       "                               interaction_constraints=None, learning_rate=0.1,\n",
       "                               max_bin=None, max_cat_threshold=None,\n",
       "                               max_cat_to_onehot=None, max_delta_step=None,\n",
       "                               max_depth=7, max_leaves=None,\n",
       "                               min_child_weight=None, missing=nan,\n",
       "                               monotone_constraints=None, n_estimators=150,\n",
       "                               n_jobs=None, num_parallel_tree=None,\n",
       "                               predictor=None, random_state=None, ...))])</pre><b>In a Jupyter environment, please rerun this cell to show the HTML representation or trust the notebook. <br />On GitHub, the HTML representation is unable to render, please try loading this page with nbviewer.org.</b></div><div class=\"sk-container\" hidden><div class=\"sk-item sk-dashed-wrapped\"><div class=\"sk-label-container\"><div class=\"sk-label sk-toggleable\"><input class=\"sk-toggleable__control sk-hidden--visually\" id=\"sk-estimator-id-33\" type=\"checkbox\" ><label for=\"sk-estimator-id-33\" class=\"sk-toggleable__label sk-toggleable__label-arrow\">Pipeline</label><div class=\"sk-toggleable__content\"><pre>Pipeline(steps=[(&#x27;preprocessor&#x27;,\n",
       "                 ColumnTransformer(transformers=[(&#x27;age_feat&#x27;, StandardScaler(),\n",
       "                                                  [&#x27;Age&#x27;]),\n",
       "                                                 (&#x27;type_feat&#x27;,\n",
       "                                                  OneHotEncoder(handle_unknown=&#x27;ignore&#x27;,\n",
       "                                                                sparse_output=False),\n",
       "                                                  [&#x27;Type_of_Travel&#x27;]),\n",
       "                                                 (&#x27;class_feat&#x27;,\n",
       "                                                  OrdinalEncoder(categories=[[&#x27;Eco&#x27;,\n",
       "                                                                              &#x27;Eco &#x27;\n",
       "                                                                              &#x27;Plus&#x27;,\n",
       "                                                                              &#x27;Business&#x27;]]),\n",
       "                                                  [&#x27;Class&#x27;]),\n",
       "                                                 (&#x27;distance_feat&#x27;,\n",
       "                                                  Pipeline(steps=[(&#x27;windsorizer1&#x27;,\n",
       "                                                                   Winsorizer(capping_met...\n",
       "                               feature_types=None, gamma=None, gpu_id=None,\n",
       "                               grow_policy=None, importance_type=None,\n",
       "                               interaction_constraints=None, learning_rate=0.1,\n",
       "                               max_bin=None, max_cat_threshold=None,\n",
       "                               max_cat_to_onehot=None, max_delta_step=None,\n",
       "                               max_depth=7, max_leaves=None,\n",
       "                               min_child_weight=None, missing=nan,\n",
       "                               monotone_constraints=None, n_estimators=150,\n",
       "                               n_jobs=None, num_parallel_tree=None,\n",
       "                               predictor=None, random_state=None, ...))])</pre></div></div></div><div class=\"sk-serial\"><div class=\"sk-item sk-dashed-wrapped\"><div class=\"sk-label-container\"><div class=\"sk-label sk-toggleable\"><input class=\"sk-toggleable__control sk-hidden--visually\" id=\"sk-estimator-id-34\" type=\"checkbox\" ><label for=\"sk-estimator-id-34\" class=\"sk-toggleable__label sk-toggleable__label-arrow\">preprocessor: ColumnTransformer</label><div class=\"sk-toggleable__content\"><pre>ColumnTransformer(transformers=[(&#x27;age_feat&#x27;, StandardScaler(), [&#x27;Age&#x27;]),\n",
       "                                (&#x27;type_feat&#x27;,\n",
       "                                 OneHotEncoder(handle_unknown=&#x27;ignore&#x27;,\n",
       "                                               sparse_output=False),\n",
       "                                 [&#x27;Type_of_Travel&#x27;]),\n",
       "                                (&#x27;class_feat&#x27;,\n",
       "                                 OrdinalEncoder(categories=[[&#x27;Eco&#x27;, &#x27;Eco Plus&#x27;,\n",
       "                                                             &#x27;Business&#x27;]]),\n",
       "                                 [&#x27;Class&#x27;]),\n",
       "                                (&#x27;distance_feat&#x27;,\n",
       "                                 Pipeline(steps=[(&#x27;windsorizer1&#x27;,\n",
       "                                                  Winsorizer(capping_method=&#x27;iqr&#x27;,\n",
       "                                                             fold=1.5,\n",
       "                                                             tail=&#x27;both&#x27;)),\n",
       "                                                 (...\n",
       "                                  &#x27;Online_boarding&#x27;, &#x27;Seat_comfort&#x27;,\n",
       "                                  &#x27;Inflight_entertainment&#x27;, &#x27;On-board_service&#x27;,\n",
       "                                  &#x27;Leg_room_service&#x27;, &#x27;Checkin_service&#x27;,\n",
       "                                  &#x27;Inflight_service&#x27;, &#x27;Cleanliness&#x27;]),\n",
       "                                (&#x27;delay_cols&#x27;,\n",
       "                                 OrdinalEncoder(categories=[[&#x27;no delay&#x27;,\n",
       "                                                             &#x27;little delay&#x27;,\n",
       "                                                             &#x27;delayed&#x27;,\n",
       "                                                             &#x27;very delayed&#x27;],\n",
       "                                                            [&#x27;no delay&#x27;,\n",
       "                                                             &#x27;little delay&#x27;,\n",
       "                                                             &#x27;delayed&#x27;,\n",
       "                                                             &#x27;very delayed&#x27;]]),\n",
       "                                 [&#x27;Departure_Delay_in_Minutes&#x27;,\n",
       "                                  &#x27;Arrival_Delay_in_Minutes&#x27;])])</pre></div></div></div><div class=\"sk-parallel\"><div class=\"sk-parallel-item\"><div class=\"sk-item\"><div class=\"sk-label-container\"><div class=\"sk-label sk-toggleable\"><input class=\"sk-toggleable__control sk-hidden--visually\" id=\"sk-estimator-id-35\" type=\"checkbox\" ><label for=\"sk-estimator-id-35\" class=\"sk-toggleable__label sk-toggleable__label-arrow\">age_feat</label><div class=\"sk-toggleable__content\"><pre>[&#x27;Age&#x27;]</pre></div></div></div><div class=\"sk-serial\"><div class=\"sk-item\"><div class=\"sk-estimator sk-toggleable\"><input class=\"sk-toggleable__control sk-hidden--visually\" id=\"sk-estimator-id-36\" type=\"checkbox\" ><label for=\"sk-estimator-id-36\" class=\"sk-toggleable__label sk-toggleable__label-arrow\">StandardScaler</label><div class=\"sk-toggleable__content\"><pre>StandardScaler()</pre></div></div></div></div></div></div><div class=\"sk-parallel-item\"><div class=\"sk-item\"><div class=\"sk-label-container\"><div class=\"sk-label sk-toggleable\"><input class=\"sk-toggleable__control sk-hidden--visually\" id=\"sk-estimator-id-37\" type=\"checkbox\" ><label for=\"sk-estimator-id-37\" class=\"sk-toggleable__label sk-toggleable__label-arrow\">type_feat</label><div class=\"sk-toggleable__content\"><pre>[&#x27;Type_of_Travel&#x27;]</pre></div></div></div><div class=\"sk-serial\"><div class=\"sk-item\"><div class=\"sk-estimator sk-toggleable\"><input class=\"sk-toggleable__control sk-hidden--visually\" id=\"sk-estimator-id-38\" type=\"checkbox\" ><label for=\"sk-estimator-id-38\" class=\"sk-toggleable__label sk-toggleable__label-arrow\">OneHotEncoder</label><div class=\"sk-toggleable__content\"><pre>OneHotEncoder(handle_unknown=&#x27;ignore&#x27;, sparse_output=False)</pre></div></div></div></div></div></div><div class=\"sk-parallel-item\"><div class=\"sk-item\"><div class=\"sk-label-container\"><div class=\"sk-label sk-toggleable\"><input class=\"sk-toggleable__control sk-hidden--visually\" id=\"sk-estimator-id-39\" type=\"checkbox\" ><label for=\"sk-estimator-id-39\" class=\"sk-toggleable__label sk-toggleable__label-arrow\">class_feat</label><div class=\"sk-toggleable__content\"><pre>[&#x27;Class&#x27;]</pre></div></div></div><div class=\"sk-serial\"><div class=\"sk-item\"><div class=\"sk-estimator sk-toggleable\"><input class=\"sk-toggleable__control sk-hidden--visually\" id=\"sk-estimator-id-40\" type=\"checkbox\" ><label for=\"sk-estimator-id-40\" class=\"sk-toggleable__label sk-toggleable__label-arrow\">OrdinalEncoder</label><div class=\"sk-toggleable__content\"><pre>OrdinalEncoder(categories=[[&#x27;Eco&#x27;, &#x27;Eco Plus&#x27;, &#x27;Business&#x27;]])</pre></div></div></div></div></div></div><div class=\"sk-parallel-item\"><div class=\"sk-item\"><div class=\"sk-label-container\"><div class=\"sk-label sk-toggleable\"><input class=\"sk-toggleable__control sk-hidden--visually\" id=\"sk-estimator-id-41\" type=\"checkbox\" ><label for=\"sk-estimator-id-41\" class=\"sk-toggleable__label sk-toggleable__label-arrow\">distance_feat</label><div class=\"sk-toggleable__content\"><pre>[&#x27;Flight_Distance&#x27;]</pre></div></div></div><div class=\"sk-serial\"><div class=\"sk-item\"><div class=\"sk-serial\"><div class=\"sk-item\"><div class=\"sk-estimator sk-toggleable\"><input class=\"sk-toggleable__control sk-hidden--visually\" id=\"sk-estimator-id-42\" type=\"checkbox\" ><label for=\"sk-estimator-id-42\" class=\"sk-toggleable__label sk-toggleable__label-arrow\">Winsorizer</label><div class=\"sk-toggleable__content\"><pre>Winsorizer(capping_method=&#x27;iqr&#x27;, fold=1.5, tail=&#x27;both&#x27;)</pre></div></div></div><div class=\"sk-item\"><div class=\"sk-estimator sk-toggleable\"><input class=\"sk-toggleable__control sk-hidden--visually\" id=\"sk-estimator-id-43\" type=\"checkbox\" ><label for=\"sk-estimator-id-43\" class=\"sk-toggleable__label sk-toggleable__label-arrow\">StandardScaler</label><div class=\"sk-toggleable__content\"><pre>StandardScaler()</pre></div></div></div></div></div></div></div></div><div class=\"sk-parallel-item\"><div class=\"sk-item\"><div class=\"sk-label-container\"><div class=\"sk-label sk-toggleable\"><input class=\"sk-toggleable__control sk-hidden--visually\" id=\"sk-estimator-id-44\" type=\"checkbox\" ><label for=\"sk-estimator-id-44\" class=\"sk-toggleable__label sk-toggleable__label-arrow\">ord_cols</label><div class=\"sk-toggleable__content\"><pre>[&#x27;Inflight_wifi_service&#x27;, &#x27;Ease_of_Online_booking&#x27;, &#x27;Food_and_drink&#x27;, &#x27;Online_boarding&#x27;, &#x27;Seat_comfort&#x27;, &#x27;Inflight_entertainment&#x27;, &#x27;On-board_service&#x27;, &#x27;Leg_room_service&#x27;, &#x27;Checkin_service&#x27;, &#x27;Inflight_service&#x27;, &#x27;Cleanliness&#x27;]</pre></div></div></div><div class=\"sk-serial\"><div class=\"sk-item\"><div class=\"sk-estimator sk-toggleable\"><input class=\"sk-toggleable__control sk-hidden--visually\" id=\"sk-estimator-id-45\" type=\"checkbox\" ><label for=\"sk-estimator-id-45\" class=\"sk-toggleable__label sk-toggleable__label-arrow\">OrdinalEncoder</label><div class=\"sk-toggleable__content\"><pre>OrdinalEncoder(categories=[[0, 1, 2, 3, 4, 5], [0, 1, 2, 3, 4, 5],\n",
       "                           [0, 1, 2, 3, 4, 5], [0, 1, 2, 3, 4, 5],\n",
       "                           [0, 1, 2, 3, 4, 5], [0, 1, 2, 3, 4, 5],\n",
       "                           [0, 1, 2, 3, 4, 5], [0, 1, 2, 3, 4, 5],\n",
       "                           [0, 1, 2, 3, 4, 5], [0, 1, 2, 3, 4, 5],\n",
       "                           [0, 1, 2, 3, 4, 5]])</pre></div></div></div></div></div></div><div class=\"sk-parallel-item\"><div class=\"sk-item\"><div class=\"sk-label-container\"><div class=\"sk-label sk-toggleable\"><input class=\"sk-toggleable__control sk-hidden--visually\" id=\"sk-estimator-id-46\" type=\"checkbox\" ><label for=\"sk-estimator-id-46\" class=\"sk-toggleable__label sk-toggleable__label-arrow\">delay_cols</label><div class=\"sk-toggleable__content\"><pre>[&#x27;Departure_Delay_in_Minutes&#x27;, &#x27;Arrival_Delay_in_Minutes&#x27;]</pre></div></div></div><div class=\"sk-serial\"><div class=\"sk-item\"><div class=\"sk-estimator sk-toggleable\"><input class=\"sk-toggleable__control sk-hidden--visually\" id=\"sk-estimator-id-47\" type=\"checkbox\" ><label for=\"sk-estimator-id-47\" class=\"sk-toggleable__label sk-toggleable__label-arrow\">OrdinalEncoder</label><div class=\"sk-toggleable__content\"><pre>OrdinalEncoder(categories=[[&#x27;no delay&#x27;, &#x27;little delay&#x27;, &#x27;delayed&#x27;,\n",
       "                            &#x27;very delayed&#x27;],\n",
       "                           [&#x27;no delay&#x27;, &#x27;little delay&#x27;, &#x27;delayed&#x27;,\n",
       "                            &#x27;very delayed&#x27;]])</pre></div></div></div></div></div></div></div></div><div class=\"sk-item\"><div class=\"sk-estimator sk-toggleable\"><input class=\"sk-toggleable__control sk-hidden--visually\" id=\"sk-estimator-id-48\" type=\"checkbox\" ><label for=\"sk-estimator-id-48\" class=\"sk-toggleable__label sk-toggleable__label-arrow\">XGBClassifier</label><div class=\"sk-toggleable__content\"><pre>XGBClassifier(base_score=None, booster=None, callbacks=None,\n",
       "              colsample_bylevel=None, colsample_bynode=None,\n",
       "              colsample_bytree=None, early_stopping_rounds=None,\n",
       "              enable_categorical=False, eval_metric=None, feature_types=None,\n",
       "              gamma=None, gpu_id=None, grow_policy=None, importance_type=None,\n",
       "              interaction_constraints=None, learning_rate=0.1, max_bin=None,\n",
       "              max_cat_threshold=None, max_cat_to_onehot=None,\n",
       "              max_delta_step=None, max_depth=7, max_leaves=None,\n",
       "              min_child_weight=None, missing=nan, monotone_constraints=None,\n",
       "              n_estimators=150, n_jobs=None, num_parallel_tree=None,\n",
       "              predictor=None, random_state=None, ...)</pre></div></div></div></div></div></div></div>"
      ],
      "text/plain": [
       "Pipeline(steps=[('preprocessor',\n",
       "                 ColumnTransformer(transformers=[('age_feat', StandardScaler(),\n",
       "                                                  ['Age']),\n",
       "                                                 ('type_feat',\n",
       "                                                  OneHotEncoder(handle_unknown='ignore',\n",
       "                                                                sparse_output=False),\n",
       "                                                  ['Type_of_Travel']),\n",
       "                                                 ('class_feat',\n",
       "                                                  OrdinalEncoder(categories=[['Eco',\n",
       "                                                                              'Eco '\n",
       "                                                                              'Plus',\n",
       "                                                                              'Business']]),\n",
       "                                                  ['Class']),\n",
       "                                                 ('distance_feat',\n",
       "                                                  Pipeline(steps=[('windsorizer1',\n",
       "                                                                   Winsorizer(capping_met...\n",
       "                               feature_types=None, gamma=None, gpu_id=None,\n",
       "                               grow_policy=None, importance_type=None,\n",
       "                               interaction_constraints=None, learning_rate=0.1,\n",
       "                               max_bin=None, max_cat_threshold=None,\n",
       "                               max_cat_to_onehot=None, max_delta_step=None,\n",
       "                               max_depth=7, max_leaves=None,\n",
       "                               min_child_weight=None, missing=nan,\n",
       "                               monotone_constraints=None, n_estimators=150,\n",
       "                               n_jobs=None, num_parallel_tree=None,\n",
       "                               predictor=None, random_state=None, ...))])"
      ]
     },
     "execution_count": 69,
     "metadata": {},
     "output_type": "execute_result"
    }
   ],
   "source": [
    "# mendifinisikan ke train\n",
    "pl_full.fit(X_train_new, y_train_xg)"
   ]
  },
  {
   "cell_type": "code",
   "execution_count": 70,
   "metadata": {},
   "outputs": [],
   "source": [
    "# saving\n",
    "with open('bestpipe_xgboost_m2.pkl', 'wb') as file_1:\n",
    "  joblib.dump(pl_full, file_1)"
   ]
  },
  {
   "attachments": {},
   "cell_type": "markdown",
   "metadata": {},
   "source": [
    "**`Model Inference berada di file yang berbeda dengan nama `model_inference_P1M2_aldandi_fitra_ramadhan.ipynb**"
   ]
  }
 ],
 "metadata": {
  "kernelspec": {
   "display_name": "base",
   "language": "python",
   "name": "python3"
  },
  "language_info": {
   "codemirror_mode": {
    "name": "ipython",
    "version": 3
   },
   "file_extension": ".py",
   "mimetype": "text/x-python",
   "name": "python",
   "nbconvert_exporter": "python",
   "pygments_lexer": "ipython3",
   "version": "3.9.13"
  },
  "orig_nbformat": 4
 },
 "nbformat": 4,
 "nbformat_minor": 2
}
